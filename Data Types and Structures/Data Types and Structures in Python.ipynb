{
 "cells": [
  {
   "cell_type": "markdown",
   "id": "d84e890d",
   "metadata": {},
   "source": [
    "# Data Types and Structures in Python"
   ]
  },
  {
   "cell_type": "markdown",
   "id": "9d524827",
   "metadata": {},
   "source": [
    "Instructor notes:\n",
    "- This document contains solutions.  Remove solutions before assigning to students.\n",
    "- This work flow could be given as a 2 hour lab where students work through the material and small tasks, and then attempt the culminating task.\n",
    "- This work flow could also be split so the instructor covers the material over a lecture or two, and then assigns the tasks as homework.\n",
    "- This material should be presented within the first 2 weeks of DATA 271.  A solid understanding and comfort with this material is imperative for understanding future topics in the course."
   ]
  },
  {
   "cell_type": "markdown",
   "id": "3c6940d4",
   "metadata": {},
   "source": [
    "Notes for the student:\n",
    "- This document contains examples and small tasks (\"appetizers\") for you to make sure you understand the examples.  The culminating task (\"main course\") at the end of the document is more complex, and uses most of the topics you have will have worked through."
   ]
  },
  {
   "cell_type": "markdown",
   "id": "915a9e75",
   "metadata": {},
   "source": [
    "- plus-equal (+=)operator provides a convenient way to add a a value to an existing variable and assign the new value back to the same variable \n",
    "- character methods, relate to strings\n",
    "- sorted()\n",
    "- lambda"
   ]
  },
  {
   "cell_type": "markdown",
   "id": "cbdc51d6",
   "metadata": {},
   "source": [
    "## Learning Goals\n",
    "- Become familiar with Python's data types and structures.\n",
    "- Become familiar with common functions and methods for these data structures.\n",
    "- Understand indexing and slicing.\n",
    "- Write short programs to solve small problems using these data structures, functions and methods."
   ]
  },
  {
   "cell_type": "markdown",
   "id": "5ad7d543",
   "metadata": {},
   "source": [
    "## Overview"
   ]
  },
  {
   "cell_type": "markdown",
   "id": "e5eaabc6",
   "metadata": {},
   "source": [
    "A data structure is an abstract description of a way of organizing data to allow certain operations on it to be performed efficiently. For example, a binary tree is a data structure. Theoreticians describe data structures and prove their properties in order to show that certain algorithms or problems can be solved efficiently under certain assumptions.\n",
    "\n",
    "A data type is a (potentially infinite) class of concrete objects that all share some property. For example, \"integer\" is a data type containing all of the infinitely many integers, \"string\" is a data type containing all of the infinitely many strings, and \"32-bit integer\" is a data type containing all integers expressible in thirty-two bits. \n",
    "\n",
    "A nice analogy from Stack Overflow is that a data type is like an atom, while data structures are like molecules, meaning data types can't be further reduced, whereas a data structure may consist of multiple fields of different data.\n",
    "\n",
    "The basic Python data structures include list, set, tuples, and dictionary. Each of the data structures is unique in its own way, and we will investigate these properties in this activity. Data structures are “containers” that organize and group data according to type.\n",
    "\n",
    "The data structures differ based on mutability and order. Mutability refers to the ability to change an object after its creation. Mutable objects can be modified, added, or deleted after they’ve been created, while immutable objects cannot be modified after their creation. Order, in this context, relates to whether the position of an element can be used to access the element.\n",
    "\n",
    "Lists, sets, and dictionaries are **mutable**.\n",
    "String and tuples are **immutable**.\n",
    "\n",
    "\n",
    "Python has six data types:\n",
    "- numeric (int, float, etc.)\n",
    "- string\n",
    "- list\n",
    "- tuple\n",
    "- set\n",
    "- dictionary\n",
    "\n",
    "These are all **objects** and have properties and methods.  \n"
   ]
  },
  {
   "cell_type": "markdown",
   "id": "fb8f9514",
   "metadata": {},
   "source": [
    "## Type and Converting Types"
   ]
  },
  {
   "cell_type": "markdown",
   "id": "2c09b0d4",
   "metadata": {},
   "source": [
    "If you would like to know the type of a value, you can use type()."
   ]
  },
  {
   "cell_type": "code",
   "execution_count": 3,
   "id": "5ee41277",
   "metadata": {},
   "outputs": [
    {
     "data": {
      "text/plain": [
       "int"
      ]
     },
     "execution_count": 3,
     "metadata": {},
     "output_type": "execute_result"
    }
   ],
   "source": [
    "type(7)"
   ]
  },
  {
   "cell_type": "code",
   "execution_count": 4,
   "id": "08d9d2b9",
   "metadata": {},
   "outputs": [
    {
     "data": {
      "text/plain": [
       "float"
      ]
     },
     "execution_count": 4,
     "metadata": {},
     "output_type": "execute_result"
    }
   ],
   "source": [
    "type(7.1)"
   ]
  },
  {
   "cell_type": "code",
   "execution_count": 5,
   "id": "03f8a78c",
   "metadata": {},
   "outputs": [
    {
     "data": {
      "text/plain": [
       "str"
      ]
     },
     "execution_count": 5,
     "metadata": {},
     "output_type": "execute_result"
    }
   ],
   "source": [
    "type('Hello World')"
   ]
  },
  {
   "cell_type": "markdown",
   "id": "3988893a",
   "metadata": {},
   "source": [
    "You can convert values from one type to another using built-in Python functions."
   ]
  },
  {
   "cell_type": "code",
   "execution_count": 7,
   "id": "138b8117",
   "metadata": {},
   "outputs": [
    {
     "data": {
      "text/plain": [
       "str"
      ]
     },
     "execution_count": 7,
     "metadata": {},
     "output_type": "execute_result"
    }
   ],
   "source": [
    "s = '32'\n",
    "type(s)"
   ]
  },
  {
   "cell_type": "code",
   "execution_count": 8,
   "id": "4be3c319",
   "metadata": {},
   "outputs": [
    {
     "data": {
      "text/plain": [
       "int"
      ]
     },
     "execution_count": 8,
     "metadata": {},
     "output_type": "execute_result"
    }
   ],
   "source": [
    "t = int(s)\n",
    "type(t)\n",
    "# this creates a new variable called t that is an int, and does not change original variable s."
   ]
  },
  {
   "cell_type": "markdown",
   "id": "e955f930",
   "metadata": {},
   "source": [
    "### Task: \n",
    "Convert 3.99 to an int.  What do you get?\n",
    "Consider '3.14159'.  What is its type?  Convert it to a float.  What do you get?"
   ]
  },
  {
   "cell_type": "markdown",
   "id": "9987c1df",
   "metadata": {},
   "source": [
    "### Solution"
   ]
  },
  {
   "cell_type": "code",
   "execution_count": 125,
   "id": "4ceb9b44",
   "metadata": {},
   "outputs": [
    {
     "data": {
      "text/plain": [
       "3"
      ]
     },
     "execution_count": 125,
     "metadata": {},
     "output_type": "execute_result"
    }
   ],
   "source": [
    "int(3.99)"
   ]
  },
  {
   "cell_type": "code",
   "execution_count": 126,
   "id": "abb5d23e",
   "metadata": {},
   "outputs": [
    {
     "data": {
      "text/plain": [
       "float"
      ]
     },
     "execution_count": 126,
     "metadata": {},
     "output_type": "execute_result"
    }
   ],
   "source": [
    "type(3.14159)"
   ]
  },
  {
   "cell_type": "code",
   "execution_count": 127,
   "id": "d5460b25",
   "metadata": {},
   "outputs": [
    {
     "data": {
      "text/plain": [
       "3.14159"
      ]
     },
     "execution_count": 127,
     "metadata": {},
     "output_type": "execute_result"
    }
   ],
   "source": [
    "float(3.14159)"
   ]
  },
  {
   "cell_type": "markdown",
   "id": "e3ea16f0",
   "metadata": {},
   "source": [
    "## Strings"
   ]
  },
  {
   "cell_type": "markdown",
   "id": "f5b0fe49",
   "metadata": {},
   "source": [
    "A string is a sequence of characters and we can acccess the characters using bracket notation with an integer inside the bracket.  In Python, indexing starts at $0$.  Strings are immutable.\n",
    "We can't modify a string once we make it.  An empty string can be created with either single or double quotes ('' or \"\")."
   ]
  },
  {
   "cell_type": "code",
   "execution_count": 11,
   "id": "49e7cbb4",
   "metadata": {},
   "outputs": [
    {
     "name": "stdout",
     "output_type": "stream",
     "text": [
      "n\n"
     ]
    }
   ],
   "source": [
    "fruit = 'pineapple'\n",
    "letter = fruit[2]\n",
    "print(letter)"
   ]
  },
  {
   "cell_type": "markdown",
   "id": "5693b4e7",
   "metadata": {},
   "source": [
    "### Slicing\n",
    "We can slice a string, too.  For example, if we want to print the \"ap\" in the middle of the word pineapple, we can give the index where the slice should start and the index one beyond where it should end.  If these numbers are the same, you will get an empty string. If you start at the beginning or go all the way to the end, you do not need the second index.\n",
    "\n",
    "Indexing is a good thing to pay attention to because we will generalize it when working in data frames."
   ]
  },
  {
   "cell_type": "code",
   "execution_count": 12,
   "id": "6ef29217",
   "metadata": {},
   "outputs": [
    {
     "name": "stdout",
     "output_type": "stream",
     "text": [
      "ap\n"
     ]
    }
   ],
   "source": [
    "print(fruit[4:6])"
   ]
  },
  {
   "cell_type": "code",
   "execution_count": 13,
   "id": "4dcea391",
   "metadata": {},
   "outputs": [
    {
     "name": "stdout",
     "output_type": "stream",
     "text": [
      "pineap\n"
     ]
    }
   ],
   "source": [
    "print(fruit[:6]) # from first to 5th position"
   ]
  },
  {
   "cell_type": "code",
   "execution_count": 14,
   "id": "ee959e3d",
   "metadata": {},
   "outputs": [
    {
     "name": "stdout",
     "output_type": "stream",
     "text": [
      "apple\n"
     ]
    }
   ],
   "source": [
    "print(fruit[4:]) # from 4th to last position"
   ]
  },
  {
   "cell_type": "code",
   "execution_count": 15,
   "id": "0923d7ef",
   "metadata": {},
   "outputs": [
    {
     "name": "stdout",
     "output_type": "stream",
     "text": [
      "e\n"
     ]
    }
   ],
   "source": [
    "print(fruit[-1]) # notice the negative index.  This will print the last character"
   ]
  },
  {
   "cell_type": "markdown",
   "id": "59f75acd",
   "metadata": {},
   "source": [
    "### Task:\n",
    "Consider the string \"A quick brown fox jumps over the lazy dog.\"\n",
    "- print the word dog using slicing and positive indices\n",
    "- print the word dog using slicing and negative indcies\n",
    "- print \"fox jumps over the lazy dog.\""
   ]
  },
  {
   "cell_type": "markdown",
   "id": "b7afe23d",
   "metadata": {},
   "source": [
    "### Solution\n"
   ]
  },
  {
   "cell_type": "code",
   "execution_count": 131,
   "id": "e02f074f",
   "metadata": {},
   "outputs": [
    {
     "name": "stdout",
     "output_type": "stream",
     "text": [
      "dog\n",
      "\n",
      "fox jumps over the lazy dog.\n"
     ]
    }
   ],
   "source": [
    "phrase = \"A quick brown fox jumps over the lazy dog.\"\n",
    "print(phrase[38:41])\n",
    "print(phrase[-2:-5])\n",
    "print(phrase[14:])"
   ]
  },
  {
   "cell_type": "markdown",
   "id": "2b3cc5e8",
   "metadata": {},
   "source": [
    "### Methods \n",
    "Python has built in functions and methods that work on strings.  \n",
    "Methods are functions which are built into the object and are available to any instance of the object.\n",
    "For a whole list, do a quick google search or type dir(str) or dir(fruit) which will list the methods available for strings.  For today, we will highlight\n",
    "- len() which returns the length of a string\n",
    "- .upper() which will convert the string to uppercase\n",
    "- .lower() which will conver the string to lowercase\n",
    "\n",
    "Calling a function is done with the function name, parentheses and whatever argument(s) it takes.\n",
    "Calling a method is similar to calling a function, but the syntax is different.  It is the variable_name.method_name (the period is a delimiter).  Calling a method is called an invocation (we are invoking the method on the variable)."
   ]
  },
  {
   "cell_type": "code",
   "execution_count": 16,
   "id": "5aecb9bb",
   "metadata": {},
   "outputs": [
    {
     "data": {
      "text/plain": [
       "9"
      ]
     },
     "execution_count": 16,
     "metadata": {},
     "output_type": "execute_result"
    }
   ],
   "source": [
    "# len is a function\n",
    "len(fruit) # how long is the word pineapple"
   ]
  },
  {
   "cell_type": "markdown",
   "id": "6f0a23d4",
   "metadata": {},
   "source": [
    "We are invoking upper on fruit."
   ]
  },
  {
   "cell_type": "code",
   "execution_count": 24,
   "id": "8a88c394",
   "metadata": {},
   "outputs": [
    {
     "name": "stdout",
     "output_type": "stream",
     "text": [
      "PINEAPPLE\n"
     ]
    }
   ],
   "source": [
    "# upper is a method\n",
    "print(fruit.upper())\n"
   ]
  },
  {
   "cell_type": "code",
   "execution_count": 25,
   "id": "d4eb0ae1",
   "metadata": {},
   "outputs": [
    {
     "name": "stdout",
     "output_type": "stream",
     "text": [
      "pineapple\n"
     ]
    }
   ],
   "source": [
    "# note, the orginal fruit variable is unchanged\n",
    "print(fruit)"
   ]
  },
  {
   "cell_type": "markdown",
   "id": "6ef82f34",
   "metadata": {},
   "source": [
    "Remember, string are immutable, so if we want the uppercase word PINEAPPLE, we will need to save it to a variable."
   ]
  },
  {
   "cell_type": "code",
   "execution_count": 26,
   "id": "17ef8b89",
   "metadata": {},
   "outputs": [
    {
     "name": "stdout",
     "output_type": "stream",
     "text": [
      "PINEAPPLE\n"
     ]
    }
   ],
   "source": [
    "newfruit = fruit.upper()\n",
    "print(newfruit)"
   ]
  },
  {
   "cell_type": "markdown",
   "id": "93d8b070",
   "metadata": {},
   "source": [
    "We are invoking find on fruit to find the index of the letter e in the word pineapple."
   ]
  },
  {
   "cell_type": "code",
   "execution_count": 27,
   "id": "6ea730c6",
   "metadata": {},
   "outputs": [
    {
     "name": "stdout",
     "output_type": "stream",
     "text": [
      "3\n"
     ]
    }
   ],
   "source": [
    "index = fruit.find('e')\n",
    "print(index)"
   ]
  },
  {
   "cell_type": "markdown",
   "id": "7afcb455",
   "metadata": {},
   "source": [
    "We can also find substrings as well as a single character.  If find() returns $-1$, it means the substring was not found."
   ]
  },
  {
   "cell_type": "code",
   "execution_count": 28,
   "id": "899b0f48",
   "metadata": {},
   "outputs": [
    {
     "name": "stdout",
     "output_type": "stream",
     "text": [
      "1\n"
     ]
    }
   ],
   "source": [
    "index = fruit.find('ine')\n",
    "print(index)"
   ]
  },
  {
   "cell_type": "markdown",
   "id": "755216bb",
   "metadata": {},
   "source": [
    "### Task:\n",
    "\n",
    "- Consider again the string \"A quick brown fox jumps over the lazy dog.\"\n",
    "- What is the index of the word brown?\n",
    "- Is the find method case-sensitive?\n",
    "- What happens if you try to find the word coyote in this string?"
   ]
  },
  {
   "cell_type": "markdown",
   "id": "ee373baf",
   "metadata": {},
   "source": [
    "### Solution"
   ]
  },
  {
   "cell_type": "code",
   "execution_count": 133,
   "id": "2569d2de",
   "metadata": {},
   "outputs": [
    {
     "data": {
      "text/plain": [
       "8"
      ]
     },
     "execution_count": 133,
     "metadata": {},
     "output_type": "execute_result"
    }
   ],
   "source": [
    "phrase = \"A quick brown fox jumps over the lazy dog.\"\n",
    "index = phrase.find('brown')\n",
    "index"
   ]
  },
  {
   "cell_type": "code",
   "execution_count": 135,
   "id": "5cf0b9d5",
   "metadata": {},
   "outputs": [
    {
     "data": {
      "text/plain": [
       "-1"
      ]
     },
     "execution_count": 135,
     "metadata": {},
     "output_type": "execute_result"
    }
   ],
   "source": [
    "index = phrase.find('Brown')\n",
    "index\n",
    "# this shows find() is case sensitive.  "
   ]
  },
  {
   "cell_type": "code",
   "execution_count": 137,
   "id": "97a400e0",
   "metadata": {},
   "outputs": [
    {
     "data": {
      "text/plain": [
       "-1"
      ]
     },
     "execution_count": 137,
     "metadata": {},
     "output_type": "execute_result"
    }
   ],
   "source": [
    "index = phrase.find('coyote')\n",
    "index"
   ]
  },
  {
   "cell_type": "markdown",
   "id": "62788395",
   "metadata": {},
   "source": [
    "### Task: \n",
    "Consider the Python code below which stores a string.  Use find() and string slicing to extract the portion of the string after the colon and then use float to convert the extracted string to a floating point number."
   ]
  },
  {
   "cell_type": "code",
   "execution_count": null,
   "id": "a0659b0d",
   "metadata": {},
   "outputs": [],
   "source": [
    "str = 'K-ARGT-Russe: 5.43'\n",
    "# add your code here"
   ]
  },
  {
   "cell_type": "markdown",
   "id": "7515e11d",
   "metadata": {},
   "source": [
    "### Solution\n"
   ]
  },
  {
   "cell_type": "code",
   "execution_count": 138,
   "id": "393a61d2",
   "metadata": {},
   "outputs": [
    {
     "data": {
      "text/plain": [
       "5.43"
      ]
     },
     "execution_count": 138,
     "metadata": {},
     "output_type": "execute_result"
    }
   ],
   "source": [
    "str = 'K-ARGT-Russe: 5.43'\n",
    "index = str.find(' ') # find space\n",
    "number = float(str[index + 1:])\n",
    "number"
   ]
  },
  {
   "cell_type": "markdown",
   "id": "4bf743f1",
   "metadata": {},
   "source": [
    "## Lists"
   ]
  },
  {
   "cell_type": "markdown",
   "id": "35942ab4",
   "metadata": {},
   "source": [
    "A list is a sequence of values (potentially of different types).  Lists are created with the square bracket notation.  Values are called elements, and elements are accessed with bracket notation (just as they are for strings).  In general, we can view lists as a mapping between indices and elements.  Lists are **mutable.**"
   ]
  },
  {
   "cell_type": "code",
   "execution_count": 31,
   "id": "1da65ff7",
   "metadata": {},
   "outputs": [
    {
     "name": "stdout",
     "output_type": "stream",
     "text": [
      "7\n"
     ]
    }
   ],
   "source": [
    "l1 = ['fox', 7, 3.1, [1,2]] # this list has a string, an int, a float, and a list as its elements\n",
    "print(l1[1])"
   ]
  },
  {
   "cell_type": "code",
   "execution_count": 32,
   "id": "aae3d114",
   "metadata": {},
   "outputs": [
    {
     "name": "stdout",
     "output_type": "stream",
     "text": [
      "['fox', 'apple', 3.1, [1, 2]]\n"
     ]
    }
   ],
   "source": [
    "l1[1] = 'apple' # reassign the second element of the list\n",
    "print(l1)"
   ]
  },
  {
   "cell_type": "markdown",
   "id": "56eb2c2d",
   "metadata": {},
   "source": [
    "### Traversing a List\n",
    "It can be convenient to use the functions range() and len() to move through a list and update elements.  For example, consider the list of numbers below and return a new list which is the square of each number."
   ]
  },
  {
   "cell_type": "code",
   "execution_count": 36,
   "id": "9ceef6fb",
   "metadata": {},
   "outputs": [
    {
     "name": "stdout",
     "output_type": "stream",
     "text": [
      "[1, 4, 9, 16]\n"
     ]
    }
   ],
   "source": [
    "l2 = [1, 2, 3, 4]\n",
    "for i in range(len(l2)):\n",
    "    l2[i] = l2[i] ** 2\n",
    "print(l2)    # note, l2 is the list of squares and the original list has been overwritten."
   ]
  },
  {
   "cell_type": "markdown",
   "id": "626d250f",
   "metadata": {},
   "source": [
    "### Task:\n",
    "Use the functions range() and len() to take the following list and return a new list which is each number divided by 10.  Have each element be an integer, not a float."
   ]
  },
  {
   "cell_type": "code",
   "execution_count": null,
   "id": "0a2965e3",
   "metadata": {},
   "outputs": [],
   "source": [
    "l2 = [100, 200, 300, 400]\n",
    "# add your code here"
   ]
  },
  {
   "cell_type": "markdown",
   "id": "1186b45b",
   "metadata": {},
   "source": [
    "### Solution"
   ]
  },
  {
   "cell_type": "code",
   "execution_count": 142,
   "id": "d7ea858b",
   "metadata": {},
   "outputs": [
    {
     "name": "stdout",
     "output_type": "stream",
     "text": [
      "[10, 20, 30, 40]\n"
     ]
    },
    {
     "data": {
      "text/plain": [
       "int"
      ]
     },
     "execution_count": 142,
     "metadata": {},
     "output_type": "execute_result"
    }
   ],
   "source": [
    "l2 = [100, 200, 300, 400]\n",
    "for i in range(len(l2)):\n",
    "    l2[i] = l2[i]/10\n",
    "    l2[i] = int(l2[i])\n",
    "print(l2)    \n",
    "type(l2[1])"
   ]
  },
  {
   "cell_type": "markdown",
   "id": "1f81a963",
   "metadata": {},
   "source": [
    "### Methods"
   ]
  },
  {
   "cell_type": "markdown",
   "id": "682e53a0",
   "metadata": {},
   "source": [
    "Lists have a number methods such as append(), sort(), copy(), insert(), pop(), remove(), reverse() among others.  For example, the method pop() takes the index of the item you want to delete as an argument and returns the element removed from the list.  The method remove() takes as an argument the element you want to remove (not the index).  These methods **modify** the list.  If you might need the original values, make sure to make a copy first.\n",
    "\n",
    "Lists also have a number of built in functions that save you from writing a loop.  Examples include len(), max(), min(), sum().\n"
   ]
  },
  {
   "cell_type": "code",
   "execution_count": 50,
   "id": "d4621afc",
   "metadata": {},
   "outputs": [
    {
     "name": "stdout",
     "output_type": "stream",
     "text": [
      "[3, 7, 8, 47]\n"
     ]
    }
   ],
   "source": [
    "l3 = [47, 3, 7, 8]\n",
    "l3.sort()\n",
    "print(l3)\n"
   ]
  },
  {
   "cell_type": "code",
   "execution_count": 51,
   "id": "84d6da35",
   "metadata": {},
   "outputs": [
    {
     "name": "stdout",
     "output_type": "stream",
     "text": [
      "[3, 7, 8, 47, 54]\n"
     ]
    }
   ],
   "source": [
    "l3.append(54)\n",
    "print(l3)"
   ]
  },
  {
   "cell_type": "code",
   "execution_count": 52,
   "id": "28247a87",
   "metadata": {},
   "outputs": [
    {
     "data": {
      "text/plain": [
       "54"
      ]
     },
     "execution_count": 52,
     "metadata": {},
     "output_type": "execute_result"
    }
   ],
   "source": [
    "max(l3)"
   ]
  },
  {
   "cell_type": "markdown",
   "id": "e240e759",
   "metadata": {},
   "source": [
    "\n",
    "### Lambda \n",
    "Using lambda (a Python keyword to generate an anonymous function) ultimately means you don't have to write (define) an entire function. Lambda functions are created, used, and immediately destroyed - so they don't clutter your code with more code that will only ever be used once.  Lambda syntax is as follows: lambda input_variable(s): tasty one liner.  The function is called right as it is created.\n"
   ]
  },
  {
   "cell_type": "code",
   "execution_count": 93,
   "id": "d53f2103",
   "metadata": {},
   "outputs": [
    {
     "data": {
      "text/plain": [
       "5.0"
      ]
     },
     "execution_count": 93,
     "metadata": {},
     "output_type": "execute_result"
    }
   ],
   "source": [
    "# example lambda function to divide two numbers\n",
    "(lambda x, y: x / y)(10, 2)"
   ]
  },
  {
   "cell_type": "markdown",
   "id": "b7ce6ef1",
   "metadata": {},
   "source": [
    "### Sorting Lists and Using Lambda\n",
    "The function sorted() returns a list of sorted elements and if we want to sort in a particular way or if we want to sort a complex list of elements (e.g., nested lists or a list of tuples) we can invoke the key argument.\n",
    "The idea behind the key argument is that it should take in a set of instructions that will essentially point the 'sorted()' function at those list elements which should be used to sort by. When it says key=, what it really means is: As I iterate through the list, one element at a time, I'm going to pass the current element to the function specifed by the key argument and use that to create a transformed list which will inform me on the order of the final sorted list.\n",
    "\n",
    "With no key specified, sorted() will return elements in ascending order.\n"
   ]
  },
  {
   "cell_type": "code",
   "execution_count": 94,
   "id": "b68b35ce",
   "metadata": {},
   "outputs": [
    {
     "data": {
      "text/plain": [
       "[2, 3, 3, 4, 6, 8, 23]"
      ]
     },
     "execution_count": 94,
     "metadata": {},
     "output_type": "execute_result"
    }
   ],
   "source": [
    "mylist = [3, 6, 3, 2, 4, 8, 23]  # an example list\n",
    "sorted(mylist)"
   ]
  },
  {
   "cell_type": "markdown",
   "id": "3bb7fd98",
   "metadata": {},
   "source": [
    "If we instead wanted to separate out even and odd numbers in the list, we can use a key and a lambda function.  Our lambda function checks to see if a number is even (no remainder when dividing by 2).  It might seem strange that the odd numbers are returned before the even numbers, but the statement x % 2 == 0 returns either a 0 for false or a 1 for true.  You might also notice that the even numbers are not sorted in ascending order.  This is because the function sorted() only sorts once, so the those numbers remain in their original order relative to each other."
   ]
  },
  {
   "cell_type": "code",
   "execution_count": 95,
   "id": "00471405",
   "metadata": {},
   "outputs": [
    {
     "data": {
      "text/plain": [
       "[3, 3, 23, 6, 2, 4, 8]"
      ]
     },
     "execution_count": 95,
     "metadata": {},
     "output_type": "execute_result"
    }
   ],
   "source": [
    "sorted(mylist, key = lambda x: x % 2 == 0)"
   ]
  },
  {
   "cell_type": "markdown",
   "id": "e8ca6860",
   "metadata": {},
   "source": [
    "As another example, if we want to sort a list of tuples by the second element, we can use the second element as the key.  The lambda function takes the second element of each list for the sorting."
   ]
  },
  {
   "cell_type": "code",
   "execution_count": 108,
   "id": "192c0f6e",
   "metadata": {},
   "outputs": [
    {
     "data": {
      "text/plain": [
       "[[6, 2, 8], [3, 5, 8], [6, 8, 5], [2, 9, 4]]"
      ]
     },
     "execution_count": 108,
     "metadata": {},
     "output_type": "execute_result"
    }
   ],
   "source": [
    "mylist2 = [[3, 5, 8], [6, 2, 8], [2, 9, 4], [6, 8, 5]]\n",
    "sorted(mylist2, key=lambda x: x[1])"
   ]
  },
  {
   "cell_type": "markdown",
   "id": "fa155f8f",
   "metadata": {},
   "source": [
    "### Task\n",
    "- Sort the list by length of string, where the list is ['cca', 'aaac', 'd', 'bb'].  \n",
    "- Sort the list by the last letter of the string using a lambda function."
   ]
  },
  {
   "cell_type": "markdown",
   "id": "d3d77271",
   "metadata": {},
   "source": [
    "### Solution"
   ]
  },
  {
   "cell_type": "code",
   "execution_count": 105,
   "id": "25aef05b",
   "metadata": {},
   "outputs": [
    {
     "data": {
      "text/plain": [
       "['d', 'ba', 'ccb', 'aaac']"
      ]
     },
     "execution_count": 105,
     "metadata": {},
     "output_type": "execute_result"
    }
   ],
   "source": [
    "mylist3 = ['aaac', 'ccb', 'd', 'ba']\n",
    "sorted(mylist3, key = len)"
   ]
  },
  {
   "cell_type": "code",
   "execution_count": 106,
   "id": "308d8b09",
   "metadata": {},
   "outputs": [
    {
     "data": {
      "text/plain": [
       "['ba', 'ccb', 'aaac', 'd']"
      ]
     },
     "execution_count": 106,
     "metadata": {},
     "output_type": "execute_result"
    }
   ],
   "source": [
    "sorted(mylist3, key=lambda x: x[-1])"
   ]
  },
  {
   "cell_type": "markdown",
   "id": "590b8293",
   "metadata": {},
   "source": [
    "### Split and Join\n",
    "These methods conveniently allow us to convert a string to a list and vice versa.  (They can work on other data structures, but we focus on stings and lists here.)"
   ]
  },
  {
   "cell_type": "code",
   "execution_count": 122,
   "id": "0a569820",
   "metadata": {
    "scrolled": true
   },
   "outputs": [
    {
     "data": {
      "text/plain": [
       "['It',\n",
       " 'is',\n",
       " 'a',\n",
       " 'capital',\n",
       " 'mistake',\n",
       " 'to',\n",
       " 'theorize',\n",
       " 'before',\n",
       " 'one',\n",
       " 'has',\n",
       " 'data']"
      ]
     },
     "execution_count": 122,
     "metadata": {},
     "output_type": "execute_result"
    }
   ],
   "source": [
    "# turn string into list of words\n",
    "phrase = 'It is a capital mistake to theorize before one has data'\n",
    "listofwords = phrase.split(' ') # split on the space\n",
    "listofwords"
   ]
  },
  {
   "cell_type": "code",
   "execution_count": 124,
   "id": "567a7bed",
   "metadata": {},
   "outputs": [
    {
     "data": {
      "text/plain": [
       "'Live what you love'"
      ]
     },
     "execution_count": 124,
     "metadata": {},
     "output_type": "execute_result"
    }
   ],
   "source": [
    "# turn list of words into a string with a delimiter like a space\n",
    "list4 = ['Live', 'what', 'you', 'love']\n",
    "delimiter = ' ' # put space between words\n",
    "quote = delimiter.join(list4)\n",
    "quote"
   ]
  },
  {
   "cell_type": "markdown",
   "id": "c1914af3",
   "metadata": {},
   "source": [
    "### Task\n",
    "Create a list of 50 random integers between 1 and 100.  Create a second list from the first list containing only numbers in the original list which are divisible by $3$.  Repeat the experiment 3 times.  Then calculate the average difference in length between the two lists.  Hint: first import the random library (write import random).  To make a list of 5 random numbers between 1 and 10, this code will work:"
   ]
  },
  {
   "cell_type": "code",
   "execution_count": 46,
   "id": "3a267847",
   "metadata": {},
   "outputs": [
    {
     "name": "stdout",
     "output_type": "stream",
     "text": [
      "[3, 4, 9, 4, 3]\n"
     ]
    }
   ],
   "source": [
    "import random \n",
    "randomlist = [random.randint(0,10) for x in range(0,5)]\n",
    "print(randomlist)"
   ]
  },
  {
   "cell_type": "markdown",
   "id": "46443aac",
   "metadata": {},
   "source": [
    "### Solution"
   ]
  },
  {
   "cell_type": "code",
   "execution_count": 45,
   "id": "6fce83e1",
   "metadata": {},
   "outputs": [
    {
     "data": {
      "text/plain": [
       "33.333333333333336"
      ]
     },
     "execution_count": 45,
     "metadata": {},
     "output_type": "execute_result"
    }
   ],
   "source": [
    "import random \n",
    "\n",
    "numberexperiments = 3 \n",
    "# make list to hold difference for each experiment\n",
    "difference = []\n",
    "for i in range(0, numberexperiments): \n",
    "    # one experiment\n",
    "    randomlist = [random.randint(0,100) for x in range(0,50)]\n",
    "    # print(randomlist)\n",
    "    divisiblelist = [x for x in randomlist if x %3 == 0] # % is the modulus and returns the remainder after division\n",
    "    difference.append(len(randomlist) - len(divisiblelist))\n",
    "\n",
    "# calculate the mean\n",
    "sum(difference)/len(difference)"
   ]
  },
  {
   "cell_type": "markdown",
   "id": "b1b39c68",
   "metadata": {},
   "source": [
    "## Dictionaries"
   ]
  },
  {
   "cell_type": "markdown",
   "id": "6e821d87",
   "metadata": {},
   "source": [
    "A dictionary is similar to a list, but more general.  In a list, the index positions must be integers, but in a dictionary there is my freedom for the type of the indices.  We think of a dictionary as mapping between keys and values.  There is no instrinsic ordering.  For example, we could consider our favorite Hollywood actors (keys) and their respective ages (values).  We could also consider a literal dictionary, where keys are English words and values are the Spanish equivalent.  In this example, both keys and values are strings.  We create an empty dictionary using dict() or {} (empty curly braces}.  We use the square brackets to add items.\n",
    "\n",
    "- the dictionary method values() returns the values in a type that can be converted to a list.\n",
    "- the dictionary method fromkeys() creates a dictionary from a given sequence of keys and values.  It can take two parameters: keys and values (optional).\n",
    "- the dictionary method keys() has no parameters and returns a view object that displays the keys.\n",
    "- the dictionary method items() returns the key-value pairs of the dictionary as tuples in a list.\n",
    "- the in operator works on dictionaries.\n",
    "\n",
    "Dictionaries can be quite useful as a set of counters.  For example, if you want to count the number of times each word appears in a text, you could create a dictionary and the first time you see a word, you could add it to the dictionary with the corresponding value of one.  If you see the word again, you will increment the value.  An advantage of this implementation is that we don't have to know ahead of time what words we will see."
   ]
  },
  {
   "cell_type": "code",
   "execution_count": 89,
   "id": "1ab81dc4",
   "metadata": {},
   "outputs": [
    {
     "name": "stdout",
     "output_type": "stream",
     "text": [
      "dict_keys(['a', 'b', 'c'])\n"
     ]
    }
   ],
   "source": [
    "fruitdict = {'a': 'apple', 'b': 'banana', 'c': 'cantaloupe'}\n",
    "print(fruitdict.keys())"
   ]
  },
  {
   "cell_type": "code",
   "execution_count": 92,
   "id": "a58ec3dd",
   "metadata": {},
   "outputs": [
    {
     "name": "stdout",
     "output_type": "stream",
     "text": [
      "dict_items([('a', 'apple'), ('b', 'banana'), ('c', 'cantaloupe')])\n"
     ]
    }
   ],
   "source": [
    "print(fruitdict.items())"
   ]
  },
  {
   "cell_type": "code",
   "execution_count": 159,
   "id": "7d3949c2",
   "metadata": {},
   "outputs": [
    {
     "data": {
      "text/plain": [
       "['apple', 'banana', 'cantaloupe']"
      ]
     },
     "execution_count": 159,
     "metadata": {},
     "output_type": "execute_result"
    }
   ],
   "source": [
    "list(fruitdict.values())"
   ]
  },
  {
   "cell_type": "code",
   "execution_count": 162,
   "id": "a92606e5",
   "metadata": {
    "scrolled": true
   },
   "outputs": [
    {
     "data": {
      "text/plain": [
       "True"
      ]
     },
     "execution_count": 162,
     "metadata": {},
     "output_type": "execute_result"
    }
   ],
   "source": [
    "'b' in fruitdict"
   ]
  },
  {
   "cell_type": "code",
   "execution_count": 163,
   "id": "1900490e",
   "metadata": {},
   "outputs": [
    {
     "data": {
      "text/plain": [
       "False"
      ]
     },
     "execution_count": 163,
     "metadata": {},
     "output_type": "execute_result"
    }
   ],
   "source": [
    "'banana' in fruitdict # this is checking to see if banana is a key, not a value!"
   ]
  },
  {
   "cell_type": "code",
   "execution_count": 164,
   "id": "5d4772fd",
   "metadata": {},
   "outputs": [
    {
     "data": {
      "text/plain": [
       "True"
      ]
     },
     "execution_count": 164,
     "metadata": {},
     "output_type": "execute_result"
    }
   ],
   "source": [
    "'banana' in list(fruitdict.values()) # this checks to see if banana is a value"
   ]
  },
  {
   "cell_type": "markdown",
   "id": "154c867f",
   "metadata": {},
   "source": [
    "### Sorted Dictionaries \n",
    "We can also use a key to sort a dictionary and use a lambda function to sort on the value instead of the key.  The item() function retrieves a dictionary's keys and values."
   ]
  },
  {
   "cell_type": "code",
   "execution_count": 187,
   "id": "7530f3d6",
   "metadata": {},
   "outputs": [
    {
     "data": {
      "text/plain": [
       "list"
      ]
     },
     "execution_count": 187,
     "metadata": {},
     "output_type": "execute_result"
    }
   ],
   "source": [
    "actor = {'Keanu': 58, 'Hugh' : 54, 'Jason': 43, 'Mark' : 51}\n",
    "sorted_by_name = sorted(actor) # sort on name, this returns a list\n",
    "sorted_by_age = sorted(actor.items(), key = lambda x: x[1]) # sort on age -- tell sorted with lambda function the key is the second\n",
    "# this returns a list of tuples"
   ]
  },
  {
   "cell_type": "markdown",
   "id": "b7da8396",
   "metadata": {},
   "source": [
    "## Tuples"
   ]
  },
  {
   "cell_type": "markdown",
   "id": "d40ef859",
   "metadata": {},
   "source": [
    "A tuples is a sequence of values.  The values can be any type and they are indexed by integers.  The important difference between tuples and lists is that tuples are **immutable** whereas lists, as we have seen, are **mutable**.  Tuples are comparable, so we can sort lists of tuples and use them as key values in Python dictionaries.  Tuples are created with parentheses and then listing values inside, separated with a comma.  An empty tuple is created with ().  Elements are accessed with square brackets, just like for lists."
   ]
  },
  {
   "cell_type": "code",
   "execution_count": 165,
   "id": "e002f76e",
   "metadata": {},
   "outputs": [],
   "source": [
    "tup1 = ('fox', 7, 3.1, [1,2])"
   ]
  },
  {
   "cell_type": "code",
   "execution_count": 166,
   "id": "b701b898",
   "metadata": {},
   "outputs": [
    {
     "data": {
      "text/plain": [
       "'fox'"
      ]
     },
     "execution_count": 166,
     "metadata": {},
     "output_type": "execute_result"
    }
   ],
   "source": [
    "tup1[0]"
   ]
  },
  {
   "cell_type": "code",
   "execution_count": 167,
   "id": "da87abdf",
   "metadata": {},
   "outputs": [
    {
     "ename": "TypeError",
     "evalue": "'tuple' object does not support item assignment",
     "output_type": "error",
     "traceback": [
      "\u001b[0;31m---------------------------------------------------------------------------\u001b[0m",
      "\u001b[0;31mTypeError\u001b[0m                                 Traceback (most recent call last)",
      "\u001b[0;32m/var/folders/xy/xym_q8_57pz2ff1dhfvmsdb80000gn/T/ipykernel_62055/3199490104.py\u001b[0m in \u001b[0;36m<module>\u001b[0;34m\u001b[0m\n\u001b[1;32m      1\u001b[0m \u001b[0;31m# we can't reassign values in a tuple because it is immutable\u001b[0m\u001b[0;34m\u001b[0m\u001b[0;34m\u001b[0m\u001b[0m\n\u001b[0;32m----> 2\u001b[0;31m \u001b[0mtup1\u001b[0m\u001b[0;34m[\u001b[0m\u001b[0;36m0\u001b[0m\u001b[0;34m]\u001b[0m \u001b[0;34m=\u001b[0m \u001b[0;34m'coyote'\u001b[0m\u001b[0;34m\u001b[0m\u001b[0;34m\u001b[0m\u001b[0m\n\u001b[0m",
      "\u001b[0;31mTypeError\u001b[0m: 'tuple' object does not support item assignment"
     ]
    }
   ],
   "source": [
    "# we can't reassign values in a tuple because it is immutable\n",
    "tup1[0] = 'coyote'"
   ]
  },
  {
   "cell_type": "markdown",
   "id": "0d92a812",
   "metadata": {},
   "source": [
    "The comparison operator with tuples works by comparing the first element of each.  If they are equal, it goes on to the next element and continues until it finds an element that differs.  Once it finds an element that differs, it does not continue.  Consider the comparison below-- Python looks at the first element of each tuple, and since $0<1$ is true, it's done and never considers the next elements."
   ]
  },
  {
   "cell_type": "code",
   "execution_count": 169,
   "id": "14071b26",
   "metadata": {},
   "outputs": [
    {
     "data": {
      "text/plain": [
       "True"
      ]
     },
     "execution_count": 169,
     "metadata": {},
     "output_type": "execute_result"
    }
   ],
   "source": [
    "(0, 7, 2000) < (1, 0, 0)"
   ]
  },
  {
   "cell_type": "markdown",
   "id": "c6cfe94d",
   "metadata": {},
   "source": [
    "### Sorting Tuples and DSU\n",
    "The comparability of tuples can be used for sorting tasks.  This is part of a pattern termed DSU which stands for decorate-sort-undecorate.  The idea is to \"decorate\" a sequence by creating a list of tuples with a sort key before the element in the sequence (for example, if the sequence is a list of words, we would \"decorate\" this by creating a tuple (word length, word) for each.  We then sort the tuples.  We then \"undecorate\" by extracting the sorted elements of the sequence."
   ]
  },
  {
   "cell_type": "code",
   "execution_count": 174,
   "id": "5c5d4307",
   "metadata": {},
   "outputs": [
    {
     "name": "stdout",
     "output_type": "stream",
     "text": [
      "['belongs', 'believe', 'future', 'dreams', 'beauty', 'those', 'their', 'who', 'the', 'The', 'to', 'of', 'in']\n"
     ]
    }
   ],
   "source": [
    "quote = 'The future belongs to those who believe in the beauty of their dreams'\n",
    "words = quote.split() # split Eleanor Roosevelt's quote into a list of words\n",
    "t = list() # create an empty list\n",
    "for word in words:\n",
    "    t.append((len(word), word)) # for each word, store a tuple with the word length and the word in the list t\n",
    "\n",
    "t.sort(reverse = True) # sort the list with the longest word first\n",
    "\n",
    "result = list() # create an empty list and populate it with words in order of length\n",
    "for length, word in t:\n",
    "    result.append(word)\n",
    "    \n",
    "print(result)    \n",
    "    "
   ]
  },
  {
   "cell_type": "markdown",
   "id": "e9331c28",
   "metadata": {},
   "source": [
    "A unique syntactic feature of Python is that we can have tuples on the **left** side of an assignment.  This allows us to assign more than one variable at a time.  This also gives us a shortcut to swap values of variables."
   ]
  },
  {
   "cell_type": "code",
   "execution_count": 176,
   "id": "7b75745b",
   "metadata": {},
   "outputs": [
    {
     "name": "stdout",
     "output_type": "stream",
     "text": [
      "apple\n"
     ]
    }
   ],
   "source": [
    "tup2 = ('apple', 'banana')\n",
    "x, y = tup2\n",
    "print(x)"
   ]
  },
  {
   "cell_type": "code",
   "execution_count": 177,
   "id": "a39da75c",
   "metadata": {},
   "outputs": [
    {
     "name": "stdout",
     "output_type": "stream",
     "text": [
      "banana\n"
     ]
    }
   ],
   "source": [
    "y, x = x, y\n",
    "print(x)"
   ]
  },
  {
   "cell_type": "markdown",
   "id": "3bc8f770",
   "metadata": {},
   "source": [
    "### Sorting Dictionaries Revisited"
   ]
  },
  {
   "cell_type": "markdown",
   "id": "02e711fb",
   "metadata": {},
   "source": [
    "We mentioned above that dictionaries have a method called items() which returns a list of tuples.  Each tuple is of the form (key, value).  Dictionaries have no ordering, so we do not expect this list to be in order.  However, we can sort this list, and this gives us a way to sort the contents of a dictionary by key.  Compare this to the sorting above.  This works for sorting by the key, but not the value."
   ]
  },
  {
   "cell_type": "code",
   "execution_count": 178,
   "id": "03ad8dc7",
   "metadata": {},
   "outputs": [
    {
     "data": {
      "text/plain": [
       "[('Keanu', 58), ('Hugh', 54), ('Jason', 43), ('Mark', 51)]"
      ]
     },
     "execution_count": 178,
     "metadata": {},
     "output_type": "execute_result"
    }
   ],
   "source": [
    "actor = {'Keanu': 58, 'Hugh' : 54, 'Jason': 43, 'Mark' : 51}\n",
    "t = list(actor.items()) # returns a list of tuples of key-value pairs\n",
    "t"
   ]
  },
  {
   "cell_type": "code",
   "execution_count": 180,
   "id": "94ca3096",
   "metadata": {},
   "outputs": [
    {
     "data": {
      "text/plain": [
       "[('Hugh', 54), ('Jason', 43), ('Keanu', 58), ('Mark', 51)]"
      ]
     },
     "execution_count": 180,
     "metadata": {},
     "output_type": "execute_result"
    }
   ],
   "source": [
    "t.sort()\n",
    "t"
   ]
  },
  {
   "cell_type": "markdown",
   "id": "8f82aff9",
   "metadata": {},
   "source": [
    "## Sets"
   ]
  },
  {
   "cell_type": "markdown",
   "id": "f7422635",
   "metadata": {},
   "source": [
    "A set is, mathematically speaking, is a collection of different things.  Each element is listed only once.  This can be useful in coding if we want to eliminate of duplicate entries in a list."
   ]
  },
  {
   "cell_type": "code",
   "execution_count": 181,
   "id": "2d827845",
   "metadata": {},
   "outputs": [],
   "source": [
    "fruitlist = ('apple', 'banana', 'apple', 'pear')"
   ]
  },
  {
   "cell_type": "code",
   "execution_count": 183,
   "id": "850ca9a9",
   "metadata": {},
   "outputs": [
    {
     "data": {
      "text/plain": [
       "['apple', 'banana', 'pear']"
      ]
     },
     "execution_count": 183,
     "metadata": {},
     "output_type": "execute_result"
    }
   ],
   "source": [
    "fruitlist_unique = list(set(fruitlist)) # this turns a list to a set to eliminate duplicates and then turns that set back to a list.  \n",
    "fruitlist_unique"
   ]
  },
  {
   "cell_type": "markdown",
   "id": "409b765d",
   "metadata": {},
   "source": [
    "## Reading files"
   ]
  },
  {
   "cell_type": "markdown",
   "id": "cf99d7ec",
   "metadata": {},
   "source": [
    "When you open a file, you are asking the operating system to find the file by its name and make sure it exists. If the open is successful (if the file exists and you have the proper permissions to read the file), the operating system returns a file handle.  This is not the actual data in the file, but a handle that can be used to read the data. Python has a built in function open().\n",
    "If the file is relatively small compared to the size of your main memory, you can read the whole file into one string using the read method on the file handle.\n",
    "In your culminating task below, you will be working with a .txt file and reading its contents into a string.  This code opens the file (which needs to be in the same directory as your Jupyter notebook or .py file), reads it and saves its contents to the string called multiline, and then closes the file.\n",
    "\n",
    "We will learn more about reading files later in this course."
   ]
  },
  {
   "cell_type": "code",
   "execution_count": 188,
   "id": "49aab17e",
   "metadata": {},
   "outputs": [],
   "source": [
    "fhand = open('PrideandPredjudice.txt', 'r') # file handle, open in read mode\n",
    "multiline = fhand.read()\n",
    "fhand.close()\n"
   ]
  },
  {
   "cell_type": "markdown",
   "id": "4765530d",
   "metadata": {},
   "source": [
    "### Task (Main Course): \n",
    "In this task, we will analyze a multiline string and generate a unique word count.  We will use the first chapter of Jane Austen's book Pride and Predjudice.  We provide a preprocessed .txt file of Chapter 1 for your use in the course repository.  This task relies on using\n",
    "- file reading\n",
    "- characters, strings, lists, and dictionaries as well as their methods\n",
    "- sets to create a list of unique items\n",
    "- sorting on a key\n",
    "- lambda functions\n",
    "\n",
    "\n",
    "The steps are\n",
    "- get the multiline text and save it to a Python variable called multiline \n",
    "- eliminate all new lines and all special characters using string methods (e.g., replace())\n",
    "- find all unique words and their occurences in the string (you need to split the string into words and then create a list that contains only the unique words, then count the number of times the unique word appeared in the list and store the key and value in a dictionary.  Recall that set is useful for generating lists of unique items.)\n",
    "\n",
    "\n",
    "Specific questions to answer are:\n",
    "- How many words are in Chapter 1? (You can count \"Chapter 1' in your word count).\n",
    "- How many **unique** words are in Chapter 1?\n",
    "- What are the 25 most used words?\n",
    "- What word has the highest frequency and what is its frequency?\n",
    "- What if words are not case sensitive?  Repeat the exercise with that assumption.  (Hint: strings have methods like upper() and lower() that convert cases.)\n"
   ]
  },
  {
   "cell_type": "code",
   "execution_count": 53,
   "id": "f3e14609",
   "metadata": {},
   "outputs": [
    {
     "data": {
      "text/plain": [
       "'/Users/kamilalarripa'"
      ]
     },
     "execution_count": 53,
     "metadata": {},
     "output_type": "execute_result"
    }
   ],
   "source": [
    "pwd"
   ]
  },
  {
   "cell_type": "code",
   "execution_count": 54,
   "id": "ac66573f",
   "metadata": {},
   "outputs": [
    {
     "name": "stdout",
     "output_type": "stream",
     "text": [
      "/Users/kamilalarripa/Desktop\n"
     ]
    }
   ],
   "source": [
    "%cd '/Users/kamilalarripa/Desktop' # navigate to where the txt file is located"
   ]
  },
  {
   "cell_type": "code",
   "execution_count": 81,
   "id": "4bf4912e",
   "metadata": {},
   "outputs": [
    {
     "data": {
      "text/plain": [
       "'It is a truth universally acknowledged, that a single man in possession of a good fortune, must be in want of a wife.\\n\\n\\n\\n\\nHowever little known the feelings or views of such a man may be on his first entering a neighbourhood, this truth is so well fixed in the minds of the surrounding families, that he is considered the rightful property of some one or other of their daughters.\\n\\n\\n\\n\\n\"My dear Mr. Bennet,\" said his lady to him one day, \"have you heard that Netherfield Park is let at last?\"\\n\\n\\n\\n\\nMr. Bennet replied that he had not.\\n\\n\\n\\n\\n\"But it is,\" returned she; \"for Mrs. Long has just been here, and she told me all about it.\"\\n\\n\\n\\n\\nMr. Bennet made no answer.\\n\\n\\n\\n\\n\"Do you not want to know who has taken it?\" cried his wife impatiently.\\n\\n\\n\\n\\n\"You want to tell me, and I have no objection to hearing it.\"\\n\\n\\n\\n\\nThis was invitation enough.\\n\\n\\n\\n\\n\"Why, my dear, you must know, Mrs. Long says that Netherfield is taken by a young man of large fortune from the north of England; that he came down on Monday in a chaise and four to see the place, and was so much delighted with it, that he agreed with Mr. Morris immediately; that he is to take possession before Michaelmas, and some of his servants are to be in the house by the end of next week.\"\\n\\n\\n\\n\\n\"What is his name?\"\\n\\n\\n\\n\\n\"Bingley.\"\\n\\n\\n\\n\\n\"Is he married or single?\"\\n\\n\\n\\n\\n\"Oh! Single, my dear, to be sure! A single man of large fortune; four or five thousand a year. What a fine thing for our girls!\"\\n\\n\\n\\n\\n\"How so? How can it affect them?\"\\n\\n\\n\\n\\n\"My dear Mr. Bennet,\" replied his wife, \"how can you be so tiresome! You must know that I am thinking of his marrying one of them.\"\\n\\n\\n\\n\\n\"Is that his design in settling here?\"\\n\\n\\n\\n\\n\"Design! Nonsense, how can you talk so! But it is very likely that he may fall in love with one of them, and therefore you must visit him as soon as he comes.\"\\n\\n\\n\\n\\n\"I see no occasion for that. You and the girls may go, or you may send them by themselves, which perhaps will be still better, for as you are as handsome as any of them, Mr. Bingley may like you the best of the party.\"\\n\\n\\n\\n\\n\"My dear, you flatter me. I certainly have had my share of beauty, but I do not pretend to be anything extraordinary now. When a woman has five grown-up daughters, she ought to give over thinking of her own beauty.\"\\n\\n\\n\\n\\n\"In such cases, a woman has not often much beauty to think of.\"\\n\\n\\n\\n\\n\"But, my dear, you must indeed go and see Mr. Bingley when he comes into the neighbourhood.\"\\n\\n\\n\\n\\n\"It is more than I engage for, I assure you.\"\\n\\n\\n\\n\\n\"But consider your daughters. Only think what an establishment it would be for one of them. Sir William and Lady Lucas are determined to go, merely on that account, for in general, you know, they visit no newcomers. Indeed you must go, for it will be impossible for us to visit him if you do not.\"\\n\\n\\n\\n\\n\"You are over-scrupulous, surely. I dare say Mr. Bingley will be very glad to see you; and I will send a few lines by you to assure him of my hearty consent to his marrying whichever he chooses of the girls; though I must throw in a good word for my little Lizzy.\"\\n\\n\\n\\n\\n\"I desire you will do no such thing. Lizzy is not a bit better than the others; and I am sure she is not half so handsome as Jane, nor half so good-humoured as Lydia. But you are always giving her the preference.\"\\n\\n\\n\\n\\n\"They have none of them much to recommend them,\" replied he; \"they are all silly and ignorant like other girls; but Lizzy has something more of quickness than her sisters.\"\\n\\n\\n\\n\\n\"Mr. Bennet, how can you abuse your own children in such a way? You take delight in vexing me. You have no compassion for my poor nerves.\"\\n\\n\\n\\n\\n\"You mistake me, my dear. I have a high respect for your nerves. They are my old friends. I have heard you mention them with consideration these last twenty years at least.\"\\n\\n\\n\\n\\n\"Ah, you do not know what I suffer.\"\\n\\n\\n\\n\\n\"But I hope you will get over it, and live to see many young men of four thousand a year come into the neighbourhood.\"\\n\\n\\n\\n\\n\"It will be no use to us, if twenty such should come, since you will not visit them.\"\\n\\n\\n\\n\\n\"Depend upon it, my dear, that when there are twenty, I will visit them all.\"\\n\\n\\n\\n\\nMr. Bennet was so odd a mixture of quick parts, sarcastic humour, reserve, and caprice, that the experience of three-and-twenty years had been insufficient to make his wife understand his character. Her mind was less difficult to develop. She was a woman of mean understanding, little information, and uncertain temper. When she was discontented, she fancied herself nervous. The business of her life was to get her daughters married; its solace was visiting and news. \\n'"
      ]
     },
     "execution_count": 81,
     "metadata": {},
     "output_type": "execute_result"
    }
   ],
   "source": [
    "fhand = open('PrideandPredjudice.txt', 'r') # file handle, open in read mode\n",
    "multiline = fhand.read()\n",
    "fhand.close()\n",
    "multiline\n"
   ]
  },
  {
   "cell_type": "code",
   "execution_count": 82,
   "id": "1cfc3f9e",
   "metadata": {},
   "outputs": [],
   "source": [
    "multiline = multiline.replace('\\n', \"\") # eliminate new lines"
   ]
  },
  {
   "cell_type": "code",
   "execution_count": 76,
   "id": "70709ec5",
   "metadata": {},
   "outputs": [
    {
     "data": {
      "text/plain": [
       "'It is a truth universally acknowledged, that a single man in possession of a good fortune, must be in want of a wife.However little known the feelings or views of such a man may be on his first entering a neighbourhood, this truth is so well fixed in the minds of the surrounding families, that he is considered the rightful property of some one or other of their daughters.\"My dear Mr. Bennet,\" said his lady to him one day, \"have you heard that Netherfield Park is let at last?\"Mr. Bennet replied that he had not.\"But it is,\" returned she; \"for Mrs. Long has just been here, and she told me all about it.\"Mr. Bennet made no answer.\"Do you not want to know who has taken it?\" cried his wife impatiently.\"You want to tell me, and I have no objection to hearing it.\"This was invitation enough.\"Why, my dear, you must know, Mrs. Long says that Netherfield is taken by a young man of large fortune from the north of England; that he came down on Monday in a chaise and four to see the place, and was so much delighted with it, that he agreed with Mr. Morris immediately; that he is to take possession before Michaelmas, and some of his servants are to be in the house by the end of next week.\"\"What is his name?\"\"Bingley.\"\"Is he married or single?\"\"Oh! Single, my dear, to be sure! A single man of large fortune; four or five thousand a year. What a fine thing for our girls!\"\"How so? How can it affect them?\"\"My dear Mr. Bennet,\" replied his wife, \"how can you be so tiresome! You must know that I am thinking of his marrying one of them.\"\"Is that his design in settling here?\"\"Design! Nonsense, how can you talk so! But it is very likely that he may fall in love with one of them, and therefore you must visit him as soon as he comes.\"\"I see no occasion for that. You and the girls may go, or you may send them by themselves, which perhaps will be still better, for as you are as handsome as any of them, Mr. Bingley may like you the best of the party.\"\"My dear, you flatter me. I certainly have had my share of beauty, but I do not pretend to be anything extraordinary now. When a woman has five grown-up daughters, she ought to give over thinking of her own beauty.\"\"In such cases, a woman has not often much beauty to think of.\"\"But, my dear, you must indeed go and see Mr. Bingley when he comes into the neighbourhood.\"\"It is more than I engage for, I assure you.\"\"But consider your daughters. Only think what an establishment it would be for one of them. Sir William and Lady Lucas are determined to go, merely on that account, for in general, you know, they visit no newcomers. Indeed you must go, for it will be impossible for us to visit him if you do not.\"\"You are over-scrupulous, surely. I dare say Mr. Bingley will be very glad to see you; and I will send a few lines by you to assure him of my hearty consent to his marrying whichever he chooses of the girls; though I must throw in a good word for my little Lizzy.\"\"I desire you will do no such thing. Lizzy is not a bit better than the others; and I am sure she is not half so handsome as Jane, nor half so good-humoured as Lydia. But you are always giving her the preference.\"\"They have none of them much to recommend them,\" replied he; \"they are all silly and ignorant like other girls; but Lizzy has something more of quickness than her sisters.\"\"Mr. Bennet, how can you abuse your own children in such a way? You take delight in vexing me. You have no compassion for my poor nerves.\"\"You mistake me, my dear. I have a high respect for your nerves. They are my old friends. I have heard you mention them with consideration these last twenty years at least.\"\"Ah, you do not know what I suffer.\"\"But I hope you will get over it, and live to see many young men of four thousand a year come into the neighbourhood.\"\"It will be no use to us, if twenty such should come, since you will not visit them.\"\"Depend upon it, my dear, that when there are twenty, I will visit them all.\"Mr. Bennet was so odd a mixture of quick parts, sarcastic humour, reserve, and caprice, that the experience of three-and-twenty years had been insufficient to make his wife understand his character. Her mind was less difficult to develop. She was a woman of mean understanding, little information, and uncertain temper. When she was discontented, she fancied herself nervous. The business of her life was to get her daughters married; its solace was visiting and news. '"
      ]
     },
     "execution_count": 76,
     "metadata": {},
     "output_type": "execute_result"
    }
   ],
   "source": [
    "multiline"
   ]
  },
  {
   "cell_type": "code",
   "execution_count": 83,
   "id": "2008b65c",
   "metadata": {},
   "outputs": [
    {
     "data": {
      "text/plain": [
       "'It is a truth universally acknowledged  that a single man in possession of a good fortune  must be in want of a wife However little known the feelings or views of such a man may be on his first entering a neighbourhood  this truth is so well fixed in the minds of the surrounding families  that he is considered the rightful property of some one or other of their daughters  My dear Mr  Bennet   said his lady to him one day   have you heard that Netherfield Park is let at last  Mr  Bennet replied that he had not  But it is   returned she   for Mrs  Long has just been here  and she told me all about it  Mr  Bennet made no answer  Do you not want to know who has taken it   cried his wife impatiently  You want to tell me  and I have no objection to hearing it  This was invitation enough  Why  my dear  you must know  Mrs  Long says that Netherfield is taken by a young man of large fortune from the north of England  that he came down on Monday in a chaise and four to see the place  and was so much delighted with it  that he agreed with Mr  Morris immediately  that he is to take possession before Michaelmas  and some of his servants are to be in the house by the end of next week   What is his name   Bingley   Is he married or single   Oh  Single  my dear  to be sure  A single man of large fortune  four or five thousand a year  What a fine thing for our girls   How so  How can it affect them   My dear Mr  Bennet   replied his wife   how can you be so tiresome  You must know that I am thinking of his marrying one of them   Is that his design in settling here   Design  Nonsense  how can you talk so  But it is very likely that he may fall in love with one of them  and therefore you must visit him as soon as he comes   I see no occasion for that  You and the girls may go  or you may send them by themselves  which perhaps will be still better  for as you are as handsome as any of them  Mr  Bingley may like you the best of the party   My dear  you flatter me  I certainly have had my share of beauty  but I do not pretend to be anything extraordinary now  When a woman has five grown up daughters  she ought to give over thinking of her own beauty   In such cases  a woman has not often much beauty to think of   But  my dear  you must indeed go and see Mr  Bingley when he comes into the neighbourhood   It is more than I engage for  I assure you   But consider your daughters  Only think what an establishment it would be for one of them  Sir William and Lady Lucas are determined to go  merely on that account  for in general  you know  they visit no newcomers  Indeed you must go  for it will be impossible for us to visit him if you do not   You are over scrupulous  surely  I dare say Mr  Bingley will be very glad to see you  and I will send a few lines by you to assure him of my hearty consent to his marrying whichever he chooses of the girls  though I must throw in a good word for my little Lizzy   I desire you will do no such thing  Lizzy is not a bit better than the others  and I am sure she is not half so handsome as Jane  nor half so good humoured as Lydia  But you are always giving her the preference   They have none of them much to recommend them   replied he   they are all silly and ignorant like other girls  but Lizzy has something more of quickness than her sisters   Mr  Bennet  how can you abuse your own children in such a way  You take delight in vexing me  You have no compassion for my poor nerves   You mistake me  my dear  I have a high respect for your nerves  They are my old friends  I have heard you mention them with consideration these last twenty years at least   Ah  you do not know what I suffer   But I hope you will get over it  and live to see many young men of four thousand a year come into the neighbourhood   It will be no use to us  if twenty such should come  since you will not visit them   Depend upon it  my dear  that when there are twenty  I will visit them all  Mr  Bennet was so odd a mixture of quick parts  sarcastic humour  reserve  and caprice  that the experience of three and twenty years had been insufficient to make his wife understand his character  Her mind was less difficult to develop  She was a woman of mean understanding  little information  and uncertain temper  When she was discontented  she fancied herself nervous  The business of her life was to get her daughters married  its solace was visiting and news  '"
      ]
     },
     "execution_count": 83,
     "metadata": {},
     "output_type": "execute_result"
    }
   ],
   "source": [
    "# remove special characters and punctuation\n",
    "cleaned_multiline = \"\" # define empty string\n",
    "for char in multiline:\n",
    "    # keep spaces and numbers and replace all other charcaters with a space\n",
    "    if char == \" \":\n",
    "        cleaned_multiline += char # += adds a value to existing variable and assigns new value back to same variable\n",
    "    elif char.isalnum():  # using the isalnum() method of strings.\n",
    "        cleaned_multiline += char\n",
    "    else:\n",
    "        cleaned_multiline += \" \"\n",
    "cleaned_multiline"
   ]
  },
  {
   "cell_type": "code",
   "execution_count": 86,
   "id": "c62baf2a",
   "metadata": {},
   "outputs": [
    {
     "data": {
      "text/plain": [
       "852"
      ]
     },
     "execution_count": 86,
     "metadata": {},
     "output_type": "execute_result"
    }
   ],
   "source": [
    "# generate list of words by splitting string\n",
    "list_of_words = cleaned_multiline.split()\n",
    "len(list_of_words)"
   ]
  },
  {
   "cell_type": "code",
   "execution_count": 87,
   "id": "5d8e963c",
   "metadata": {},
   "outputs": [
    {
     "data": {
      "text/plain": [
       "340"
      ]
     },
     "execution_count": 87,
     "metadata": {},
     "output_type": "execute_result"
    }
   ],
   "source": [
    "# Use set to get unique words\n",
    "unique_words_as_list = list(set(list_of_words))\n",
    "len(unique_words_as_list) # number of unique words"
   ]
  },
  {
   "cell_type": "code",
   "execution_count": 90,
   "id": "a4aad4d8",
   "metadata": {},
   "outputs": [
    {
     "data": {
      "text/plain": [
       "340"
      ]
     },
     "execution_count": 90,
     "metadata": {},
     "output_type": "execute_result"
    }
   ],
   "source": [
    "# Create a dictionary with unique words as keys\n",
    "unique_words_as_dict = dict.fromkeys(list_of_words)\n",
    "len(list(unique_words_as_dict.keys())) # the number of unique words\n",
    "# populate number of occurences of each word in next step"
   ]
  },
  {
   "cell_type": "code",
   "execution_count": 91,
   "id": "4b90cf5e",
   "metadata": {},
   "outputs": [
    {
     "data": {
      "text/plain": [
       "{'It': 3,\n",
       " 'is': 12,\n",
       " 'a': 20,\n",
       " 'truth': 2,\n",
       " 'universally': 1,\n",
       " 'acknowledged': 1,\n",
       " 'that': 15,\n",
       " 'single': 3,\n",
       " 'man': 4,\n",
       " 'in': 11,\n",
       " 'possession': 2,\n",
       " 'of': 29,\n",
       " 'good': 3,\n",
       " 'fortune': 3,\n",
       " 'must': 7,\n",
       " 'be': 11,\n",
       " 'want': 3,\n",
       " 'wife': 4,\n",
       " 'However': 1,\n",
       " 'little': 3,\n",
       " 'known': 1,\n",
       " 'the': 17,\n",
       " 'feelings': 1,\n",
       " 'or': 5,\n",
       " 'views': 1,\n",
       " 'such': 5,\n",
       " 'may': 5,\n",
       " 'on': 3,\n",
       " 'his': 11,\n",
       " 'first': 1,\n",
       " 'entering': 1,\n",
       " 'neighbourhood': 3,\n",
       " 'this': 1,\n",
       " 'so': 8,\n",
       " 'well': 1,\n",
       " 'fixed': 1,\n",
       " 'minds': 1,\n",
       " 'surrounding': 1,\n",
       " 'families': 1,\n",
       " 'he': 11,\n",
       " 'considered': 1,\n",
       " 'rightful': 1,\n",
       " 'property': 1,\n",
       " 'some': 2,\n",
       " 'one': 5,\n",
       " 'other': 2,\n",
       " 'their': 1,\n",
       " 'daughters': 4,\n",
       " 'My': 3,\n",
       " 'dear': 8,\n",
       " 'Mr': 10,\n",
       " 'Bennet': 6,\n",
       " 'said': 1,\n",
       " 'lady': 1,\n",
       " 'to': 22,\n",
       " 'him': 4,\n",
       " 'day': 1,\n",
       " 'have': 7,\n",
       " 'you': 24,\n",
       " 'heard': 2,\n",
       " 'Netherfield': 2,\n",
       " 'Park': 1,\n",
       " 'let': 1,\n",
       " 'at': 2,\n",
       " 'last': 2,\n",
       " 'replied': 3,\n",
       " 'had': 3,\n",
       " 'not': 9,\n",
       " 'But': 6,\n",
       " 'it': 11,\n",
       " 'returned': 1,\n",
       " 'she': 6,\n",
       " 'for': 12,\n",
       " 'Mrs': 2,\n",
       " 'Long': 2,\n",
       " 'has': 5,\n",
       " 'just': 1,\n",
       " 'been': 2,\n",
       " 'here': 2,\n",
       " 'and': 17,\n",
       " 'told': 1,\n",
       " 'me': 5,\n",
       " 'all': 3,\n",
       " 'about': 1,\n",
       " 'made': 1,\n",
       " 'no': 7,\n",
       " 'answer': 1,\n",
       " 'Do': 1,\n",
       " 'know': 5,\n",
       " 'who': 1,\n",
       " 'taken': 2,\n",
       " 'cried': 1,\n",
       " 'impatiently': 1,\n",
       " 'You': 7,\n",
       " 'tell': 1,\n",
       " 'I': 17,\n",
       " 'objection': 1,\n",
       " 'hearing': 1,\n",
       " 'This': 1,\n",
       " 'was': 8,\n",
       " 'invitation': 1,\n",
       " 'enough': 1,\n",
       " 'Why': 1,\n",
       " 'my': 10,\n",
       " 'says': 1,\n",
       " 'by': 4,\n",
       " 'young': 2,\n",
       " 'large': 2,\n",
       " 'from': 1,\n",
       " 'north': 1,\n",
       " 'England': 1,\n",
       " 'came': 1,\n",
       " 'down': 1,\n",
       " 'Monday': 1,\n",
       " 'chaise': 1,\n",
       " 'four': 3,\n",
       " 'see': 5,\n",
       " 'place': 1,\n",
       " 'much': 3,\n",
       " 'delighted': 1,\n",
       " 'with': 4,\n",
       " 'agreed': 1,\n",
       " 'Morris': 1,\n",
       " 'immediately': 1,\n",
       " 'take': 2,\n",
       " 'before': 1,\n",
       " 'Michaelmas': 1,\n",
       " 'servants': 1,\n",
       " 'are': 8,\n",
       " 'house': 1,\n",
       " 'end': 1,\n",
       " 'next': 1,\n",
       " 'week': 1,\n",
       " 'What': 2,\n",
       " 'name': 1,\n",
       " 'Bingley': 4,\n",
       " 'Is': 2,\n",
       " 'married': 2,\n",
       " 'Oh': 1,\n",
       " 'Single': 1,\n",
       " 'sure': 2,\n",
       " 'A': 1,\n",
       " 'five': 2,\n",
       " 'thousand': 2,\n",
       " 'year': 2,\n",
       " 'fine': 1,\n",
       " 'thing': 2,\n",
       " 'our': 1,\n",
       " 'girls': 4,\n",
       " 'How': 2,\n",
       " 'can': 4,\n",
       " 'affect': 1,\n",
       " 'them': 11,\n",
       " 'how': 3,\n",
       " 'tiresome': 1,\n",
       " 'am': 2,\n",
       " 'thinking': 2,\n",
       " 'marrying': 2,\n",
       " 'design': 1,\n",
       " 'settling': 1,\n",
       " 'Design': 1,\n",
       " 'Nonsense': 1,\n",
       " 'talk': 1,\n",
       " 'very': 2,\n",
       " 'likely': 1,\n",
       " 'fall': 1,\n",
       " 'love': 1,\n",
       " 'therefore': 1,\n",
       " 'visit': 5,\n",
       " 'as': 7,\n",
       " 'soon': 1,\n",
       " 'comes': 2,\n",
       " 'occasion': 1,\n",
       " 'go': 4,\n",
       " 'send': 2,\n",
       " 'themselves': 1,\n",
       " 'which': 1,\n",
       " 'perhaps': 1,\n",
       " 'will': 9,\n",
       " 'still': 1,\n",
       " 'better': 2,\n",
       " 'handsome': 2,\n",
       " 'any': 1,\n",
       " 'like': 2,\n",
       " 'best': 1,\n",
       " 'party': 1,\n",
       " 'flatter': 1,\n",
       " 'certainly': 1,\n",
       " 'share': 1,\n",
       " 'beauty': 3,\n",
       " 'but': 2,\n",
       " 'do': 4,\n",
       " 'pretend': 1,\n",
       " 'anything': 1,\n",
       " 'extraordinary': 1,\n",
       " 'now': 1,\n",
       " 'When': 2,\n",
       " 'woman': 3,\n",
       " 'grown': 1,\n",
       " 'up': 1,\n",
       " 'ought': 1,\n",
       " 'give': 1,\n",
       " 'over': 3,\n",
       " 'her': 5,\n",
       " 'own': 2,\n",
       " 'In': 1,\n",
       " 'cases': 1,\n",
       " 'often': 1,\n",
       " 'think': 2,\n",
       " 'indeed': 1,\n",
       " 'when': 2,\n",
       " 'into': 2,\n",
       " 'more': 2,\n",
       " 'than': 3,\n",
       " 'engage': 1,\n",
       " 'assure': 2,\n",
       " 'consider': 1,\n",
       " 'your': 3,\n",
       " 'Only': 1,\n",
       " 'what': 2,\n",
       " 'an': 1,\n",
       " 'establishment': 1,\n",
       " 'would': 1,\n",
       " 'Sir': 1,\n",
       " 'William': 1,\n",
       " 'Lady': 1,\n",
       " 'Lucas': 1,\n",
       " 'determined': 1,\n",
       " 'merely': 1,\n",
       " 'account': 1,\n",
       " 'general': 1,\n",
       " 'they': 2,\n",
       " 'newcomers': 1,\n",
       " 'Indeed': 1,\n",
       " 'impossible': 1,\n",
       " 'us': 2,\n",
       " 'if': 2,\n",
       " 'scrupulous': 1,\n",
       " 'surely': 1,\n",
       " 'dare': 1,\n",
       " 'say': 1,\n",
       " 'glad': 1,\n",
       " 'few': 1,\n",
       " 'lines': 1,\n",
       " 'hearty': 1,\n",
       " 'consent': 1,\n",
       " 'whichever': 1,\n",
       " 'chooses': 1,\n",
       " 'though': 1,\n",
       " 'throw': 1,\n",
       " 'word': 1,\n",
       " 'Lizzy': 3,\n",
       " 'desire': 1,\n",
       " 'bit': 1,\n",
       " 'others': 1,\n",
       " 'half': 2,\n",
       " 'Jane': 1,\n",
       " 'nor': 1,\n",
       " 'humoured': 1,\n",
       " 'Lydia': 1,\n",
       " 'always': 1,\n",
       " 'giving': 1,\n",
       " 'preference': 1,\n",
       " 'They': 2,\n",
       " 'none': 1,\n",
       " 'recommend': 1,\n",
       " 'silly': 1,\n",
       " 'ignorant': 1,\n",
       " 'something': 1,\n",
       " 'quickness': 1,\n",
       " 'sisters': 1,\n",
       " 'abuse': 1,\n",
       " 'children': 1,\n",
       " 'way': 1,\n",
       " 'delight': 1,\n",
       " 'vexing': 1,\n",
       " 'compassion': 1,\n",
       " 'poor': 1,\n",
       " 'nerves': 2,\n",
       " 'mistake': 1,\n",
       " 'high': 1,\n",
       " 'respect': 1,\n",
       " 'old': 1,\n",
       " 'friends': 1,\n",
       " 'mention': 1,\n",
       " 'consideration': 1,\n",
       " 'these': 1,\n",
       " 'twenty': 4,\n",
       " 'years': 2,\n",
       " 'least': 1,\n",
       " 'Ah': 1,\n",
       " 'suffer': 1,\n",
       " 'hope': 1,\n",
       " 'get': 2,\n",
       " 'live': 1,\n",
       " 'many': 1,\n",
       " 'men': 1,\n",
       " 'come': 2,\n",
       " 'use': 1,\n",
       " 'should': 1,\n",
       " 'since': 1,\n",
       " 'Depend': 1,\n",
       " 'upon': 1,\n",
       " 'there': 1,\n",
       " 'odd': 1,\n",
       " 'mixture': 1,\n",
       " 'quick': 1,\n",
       " 'parts': 1,\n",
       " 'sarcastic': 1,\n",
       " 'humour': 1,\n",
       " 'reserve': 1,\n",
       " 'caprice': 1,\n",
       " 'experience': 1,\n",
       " 'three': 1,\n",
       " 'insufficient': 1,\n",
       " 'make': 1,\n",
       " 'understand': 1,\n",
       " 'character': 1,\n",
       " 'Her': 1,\n",
       " 'mind': 1,\n",
       " 'less': 1,\n",
       " 'difficult': 1,\n",
       " 'develop': 1,\n",
       " 'She': 1,\n",
       " 'mean': 1,\n",
       " 'understanding': 1,\n",
       " 'information': 1,\n",
       " 'uncertain': 1,\n",
       " 'temper': 1,\n",
       " 'discontented': 1,\n",
       " 'fancied': 1,\n",
       " 'herself': 1,\n",
       " 'nervous': 1,\n",
       " 'The': 1,\n",
       " 'business': 1,\n",
       " 'life': 1,\n",
       " 'its': 1,\n",
       " 'solace': 1,\n",
       " 'visiting': 1,\n",
       " 'news': 1}"
      ]
     },
     "execution_count": 91,
     "metadata": {},
     "output_type": "execute_result"
    }
   ],
   "source": [
    "# populate values in dictionary by looping through words\n",
    "for word in list_of_words:\n",
    "    if unique_words_as_dict[word] is None:\n",
    "        unique_words_as_dict[word] = 1\n",
    "    else:\n",
    "        unique_words_as_dict[word] += 1\n",
    "unique_words_as_dict"
   ]
  },
  {
   "cell_type": "code",
   "execution_count": 113,
   "id": "3a0f240a",
   "metadata": {},
   "outputs": [],
   "source": [
    "# sort the dictionary based on descending frequency of count\n",
    "top_words = sorted(unique_words_as_dict.items(), key=lambda x: x[1], reverse=True) # sort words based on frequency as key value, and return with highest frequency first"
   ]
  },
  {
   "cell_type": "code",
   "execution_count": 114,
   "id": "54ea3fb4",
   "metadata": {},
   "outputs": [
    {
     "data": {
      "text/plain": [
       "[('of', 29),\n",
       " ('you', 24),\n",
       " ('to', 22),\n",
       " ('a', 20),\n",
       " ('the', 17),\n",
       " ('and', 17),\n",
       " ('I', 17),\n",
       " ('that', 15),\n",
       " ('is', 12),\n",
       " ('for', 12),\n",
       " ('in', 11),\n",
       " ('be', 11),\n",
       " ('his', 11),\n",
       " ('he', 11),\n",
       " ('it', 11),\n",
       " ('them', 11),\n",
       " ('Mr', 10),\n",
       " ('my', 10),\n",
       " ('not', 9),\n",
       " ('will', 9),\n",
       " ('so', 8),\n",
       " ('dear', 8),\n",
       " ('was', 8),\n",
       " ('are', 8),\n",
       " ('must', 7)]"
      ]
     },
     "execution_count": 114,
     "metadata": {},
     "output_type": "execute_result"
    }
   ],
   "source": [
    "# return top 25 words\n",
    "top_words[:25] "
   ]
  },
  {
   "cell_type": "markdown",
   "id": "fcbaffce",
   "metadata": {},
   "source": [
    "### References\n",
    "- The Gutenberg Project.  https://www.gutenberg.org/files/1342/old/pandp12p.pdf\n",
    "- Python for Everybody: Exploring Data in Python 3 by Charles Severance\n",
    "- Data Wrangling with Python by Tirthajyoti Sarkar and Shubhadeep Roychowdhury (the word counting exercise came from this text).\n"
   ]
  }
 ],
 "metadata": {
  "kernelspec": {
   "display_name": "Python 3 (ipykernel)",
   "language": "python",
   "name": "python3"
  },
  "language_info": {
   "codemirror_mode": {
    "name": "ipython",
    "version": 3
   },
   "file_extension": ".py",
   "mimetype": "text/x-python",
   "name": "python",
   "nbconvert_exporter": "python",
   "pygments_lexer": "ipython3",
   "version": "3.9.13"
  }
 },
 "nbformat": 4,
 "nbformat_minor": 5
}
