{
 "cells": [
  {
   "cell_type": "markdown",
   "id": "a3a68e4e",
   "metadata": {},
   "source": [
    "# Introduction to Pandas"
   ]
  },
  {
   "cell_type": "markdown",
   "id": "e05fc354",
   "metadata": {},
   "source": [
    "## Learning Goals\n",
    "- Use Series and DataFrame to work with data\n",
    "- Create a DataFrame from a list or dictionary or by reading a CSV file\n",
    "- Inspect a DataFrame\n",
    "- Access rows, columns and elements\n",
    "- Subset or filter data\n",
    "- Make basic plots (bar and line) with matplotlib"
   ]
  },
  {
   "cell_type": "markdown",
   "id": "786a7fe2",
   "metadata": {},
   "source": [
    "## Pandas\n",
    "Pandas is a fast, powerful, and flexible open source data analysis and maniputation tool built on top of the Python programming language.  Pandas is built for tabular data.  Moreover, it displays data in an intuitive and pleasing way (compared to NumPy, for example).\n",
    "\n",
    "More documentation can be found here: https://pandas.pydata.org.\n"
   ]
  },
  {
   "cell_type": "markdown",
   "id": "4319f671",
   "metadata": {},
   "source": [
    "### Introduction and Motivation\n",
    "Why Pandas is better suited for some tasks than NumPy arrays or Python data structures like dictionaries."
   ]
  },
  {
   "cell_type": "code",
   "execution_count": 70,
   "id": "12fe5626",
   "metadata": {},
   "outputs": [
    {
     "data": {
      "text/plain": [
       "array([('2018-10-13 11:10:23.560', '262km NW of Ozernovskiy, Russia', 'mww', 6.7, 'green', 1),\n",
       "       ('2018-10-13 04:34:15.580', '25km E of Bitung, Indonesia', 'mww', 5.2, 'green', 0),\n",
       "       ('2018-10-13 00:13:46.220', '42km WNW of Sola, Vanuatu', 'mww', 5.7, 'green', 0),\n",
       "       ('2018-10-12 21:09:49.240', '13km E of Nueva Concepcion, Guatemala', 'mww', 5.7, 'green', 0),\n",
       "       ('2018-10-12 02:52:03.620', '128km SE of Kimbe, Papua New Guinea', 'mww', 5.6, 'green', 1)],\n",
       "      dtype=[('time', '<U23'), ('place', '<U37'), ('magType', '<U3'), ('mag', '<f8'), ('alert', '<U5'), ('tsunami', '<i8')])"
      ]
     },
     "execution_count": 70,
     "metadata": {},
     "output_type": "execute_result"
    }
   ],
   "source": [
    "# read short CSV file using numpy\n",
    "import numpy as np\n",
    "\n",
    "data = np.genfromtxt(\n",
    "    'example_data.csv', delimiter=';', \n",
    "    names=True, dtype=None, encoding='UTF'\n",
    ")\n",
    "data"
   ]
  },
  {
   "cell_type": "code",
   "execution_count": 73,
   "id": "da442e37",
   "metadata": {},
   "outputs": [
    {
     "data": {
      "text/plain": [
       "(5,)"
      ]
     },
     "execution_count": 73,
     "metadata": {},
     "output_type": "execute_result"
    }
   ],
   "source": [
    "data.shape"
   ]
  },
  {
   "cell_type": "markdown",
   "id": "03a90c31",
   "metadata": {},
   "source": [
    "Each of the entries in the array is a row from the CSV file, and in each row, we see several strings, a float and an integer.\n",
    "To find the maximum magnitude we can use list comprehension to select the third index of each row and then take the maximum.  This is a bit awkward and it would be better to have the data separated in a more understandable representation. "
   ]
  },
  {
   "cell_type": "code",
   "execution_count": 74,
   "id": "1a459c91",
   "metadata": {},
   "outputs": [
    {
     "data": {
      "text/plain": [
       "6.7"
      ]
     },
     "execution_count": 74,
     "metadata": {},
     "output_type": "execute_result"
    }
   ],
   "source": [
    "max([row[3] for row in data])"
   ]
  },
  {
   "cell_type": "markdown",
   "id": "195c3a5e",
   "metadata": {},
   "source": [
    "We can instead create a dictionary where the keys are the column names (time, place, magType, etc.) and the values are NumPy arrays of the data.  Maybe this is an improvement, but it is still difficuly to parse visually."
   ]
  },
  {
   "cell_type": "code",
   "execution_count": 75,
   "id": "52b6eb5f",
   "metadata": {},
   "outputs": [
    {
     "data": {
      "text/plain": [
       "{'time': array(['2018-10-13 11:10:23.560', '2018-10-13 04:34:15.580',\n",
       "        '2018-10-13 00:13:46.220', '2018-10-12 21:09:49.240',\n",
       "        '2018-10-12 02:52:03.620'], dtype='<U23'),\n",
       " 'place': array(['262km NW of Ozernovskiy, Russia', '25km E of Bitung, Indonesia',\n",
       "        '42km WNW of Sola, Vanuatu',\n",
       "        '13km E of Nueva Concepcion, Guatemala',\n",
       "        '128km SE of Kimbe, Papua New Guinea'], dtype='<U37'),\n",
       " 'magType': array(['mww', 'mww', 'mww', 'mww', 'mww'], dtype='<U3'),\n",
       " 'mag': array([6.7, 5.2, 5.7, 5.7, 5.6]),\n",
       " 'alert': array(['green', 'green', 'green', 'green', 'green'], dtype='<U5'),\n",
       " 'tsunami': array([1, 0, 0, 0, 1])}"
      ]
     },
     "execution_count": 75,
     "metadata": {},
     "output_type": "execute_result"
    }
   ],
   "source": [
    "array_dict = {\n",
    "    col: np.array([row[i] for row in data])\n",
    "    for i, col in enumerate(data.dtype.names)\n",
    "}\n",
    "array_dict"
   ]
  },
  {
   "cell_type": "code",
   "execution_count": 76,
   "id": "b4d27335",
   "metadata": {},
   "outputs": [
    {
     "data": {
      "text/plain": [
       "6.7"
      ]
     },
     "execution_count": 76,
     "metadata": {},
     "output_type": "execute_result"
    }
   ],
   "source": [
    "# select the mag key fromt he dictionary and use the max() method\n",
    "array_dict['mag'].max()"
   ]
  },
  {
   "cell_type": "markdown",
   "id": "146f215d",
   "metadata": {},
   "source": [
    "If we want to select al of the information associated with the earthquake with the maximum magnitude, we would need to find the index of the maximum and then for each of the keys in the dictionary, take that item.\n",
    "\n",
    "### Series\n",
    "\n",
    "The point of the above examples is that NumPy arrays and dictionaries, though perfectly valid, might not be the best way to store and access data in this form.\n",
    "\n",
    "The Series class is a data structure for arrays of a single type-- think of it as a single column in a spreadsheet.  Its dimension will always be (n, ) where n is the number of rows.  When created, it includes an **index** (see numbers 0 through 4 in left column below) which enable us to select rows.  Pandas creates a default index, but you can also define another index. \n",
    "\n",
    "We can create a series storing the location of each earthquake by using the dictionary we created.\n"
   ]
  },
  {
   "cell_type": "code",
   "execution_count": 77,
   "id": "abc957ff",
   "metadata": {},
   "outputs": [
    {
     "data": {
      "text/plain": [
       "0          262km NW of Ozernovskiy, Russia\n",
       "1              25km E of Bitung, Indonesia\n",
       "2                42km WNW of Sola, Vanuatu\n",
       "3    13km E of Nueva Concepcion, Guatemala\n",
       "4      128km SE of Kimbe, Papua New Guinea\n",
       "Name: place, dtype: object"
      ]
     },
     "execution_count": 77,
     "metadata": {},
     "output_type": "execute_result"
    }
   ],
   "source": [
    "import pandas as pd\n",
    "\n",
    "# create a Pandas series called place\n",
    "place = pd.Series(array_dict['place'], name='place')\n",
    "place"
   ]
  },
  {
   "cell_type": "code",
   "execution_count": 16,
   "id": "3da129df",
   "metadata": {},
   "outputs": [
    {
     "data": {
      "text/plain": [
       "(5,)"
      ]
     },
     "execution_count": 16,
     "metadata": {},
     "output_type": "execute_result"
    }
   ],
   "source": [
    "# get dimensions-- will return (rows, columns)\n",
    "place.shape"
   ]
  },
  {
   "cell_type": "markdown",
   "id": "8a040c51",
   "metadata": {},
   "source": [
    "### DataFrame\n",
    "\n",
    "The DataFrame class builds on the Series class, and can have many columns, each with its own data type.  You can think of this as an entire spreadsheet.\n"
   ]
  },
  {
   "cell_type": "code",
   "execution_count": 18,
   "id": "3193d3cc",
   "metadata": {},
   "outputs": [
    {
     "data": {
      "text/html": [
       "<div>\n",
       "<style scoped>\n",
       "    .dataframe tbody tr th:only-of-type {\n",
       "        vertical-align: middle;\n",
       "    }\n",
       "\n",
       "    .dataframe tbody tr th {\n",
       "        vertical-align: top;\n",
       "    }\n",
       "\n",
       "    .dataframe thead th {\n",
       "        text-align: right;\n",
       "    }\n",
       "</style>\n",
       "<table border=\"1\" class=\"dataframe\">\n",
       "  <thead>\n",
       "    <tr style=\"text-align: right;\">\n",
       "      <th></th>\n",
       "      <th>time</th>\n",
       "      <th>place</th>\n",
       "      <th>magType</th>\n",
       "      <th>mag</th>\n",
       "      <th>alert</th>\n",
       "      <th>tsunami</th>\n",
       "    </tr>\n",
       "  </thead>\n",
       "  <tbody>\n",
       "    <tr>\n",
       "      <th>0</th>\n",
       "      <td>2018-10-13 11:10:23.560</td>\n",
       "      <td>262km NW of Ozernovskiy, Russia</td>\n",
       "      <td>mww</td>\n",
       "      <td>6.7</td>\n",
       "      <td>green</td>\n",
       "      <td>1</td>\n",
       "    </tr>\n",
       "    <tr>\n",
       "      <th>1</th>\n",
       "      <td>2018-10-13 04:34:15.580</td>\n",
       "      <td>25km E of Bitung, Indonesia</td>\n",
       "      <td>mww</td>\n",
       "      <td>5.2</td>\n",
       "      <td>green</td>\n",
       "      <td>0</td>\n",
       "    </tr>\n",
       "    <tr>\n",
       "      <th>2</th>\n",
       "      <td>2018-10-13 00:13:46.220</td>\n",
       "      <td>42km WNW of Sola, Vanuatu</td>\n",
       "      <td>mww</td>\n",
       "      <td>5.7</td>\n",
       "      <td>green</td>\n",
       "      <td>0</td>\n",
       "    </tr>\n",
       "    <tr>\n",
       "      <th>3</th>\n",
       "      <td>2018-10-12 21:09:49.240</td>\n",
       "      <td>13km E of Nueva Concepcion, Guatemala</td>\n",
       "      <td>mww</td>\n",
       "      <td>5.7</td>\n",
       "      <td>green</td>\n",
       "      <td>0</td>\n",
       "    </tr>\n",
       "    <tr>\n",
       "      <th>4</th>\n",
       "      <td>2018-10-12 02:52:03.620</td>\n",
       "      <td>128km SE of Kimbe, Papua New Guinea</td>\n",
       "      <td>mww</td>\n",
       "      <td>5.6</td>\n",
       "      <td>green</td>\n",
       "      <td>1</td>\n",
       "    </tr>\n",
       "  </tbody>\n",
       "</table>\n",
       "</div>"
      ],
      "text/plain": [
       "                      time                                  place magType  \\\n",
       "0  2018-10-13 11:10:23.560        262km NW of Ozernovskiy, Russia     mww   \n",
       "1  2018-10-13 04:34:15.580            25km E of Bitung, Indonesia     mww   \n",
       "2  2018-10-13 00:13:46.220              42km WNW of Sola, Vanuatu     mww   \n",
       "3  2018-10-12 21:09:49.240  13km E of Nueva Concepcion, Guatemala     mww   \n",
       "4  2018-10-12 02:52:03.620    128km SE of Kimbe, Papua New Guinea     mww   \n",
       "\n",
       "   mag  alert  tsunami  \n",
       "0  6.7  green        1  \n",
       "1  5.2  green        0  \n",
       "2  5.7  green        0  \n",
       "3  5.7  green        0  \n",
       "4  5.6  green        1  "
      ]
     },
     "execution_count": 18,
     "metadata": {},
     "output_type": "execute_result"
    }
   ],
   "source": [
    "# create a dataframe from the file we read\n",
    "df = pd.DataFrame(data)\n",
    "df"
   ]
  },
  {
   "cell_type": "markdown",
   "id": "60b9365d",
   "metadata": {},
   "source": [
    "Notice the index on the left and the pleasing display of the information compared to the Numpy array or the dictionary above."
   ]
  },
  {
   "cell_type": "code",
   "execution_count": 19,
   "id": "139b5b7b",
   "metadata": {},
   "outputs": [
    {
     "data": {
      "text/plain": [
       "time        object\n",
       "place       object\n",
       "magType     object\n",
       "mag        float64\n",
       "alert       object\n",
       "tsunami      int64\n",
       "dtype: object"
      ]
     },
     "execution_count": 19,
     "metadata": {},
     "output_type": "execute_result"
    }
   ],
   "source": [
    "# check type of data\n",
    "df.dtypes"
   ]
  },
  {
   "cell_type": "code",
   "execution_count": 20,
   "id": "1d07d97b",
   "metadata": {},
   "outputs": [
    {
     "data": {
      "text/plain": [
       "Index(['time', 'place', 'magType', 'mag', 'alert', 'tsunami'], dtype='object')"
      ]
     },
     "execution_count": 20,
     "metadata": {},
     "output_type": "execute_result"
    }
   ],
   "source": [
    "# find column names\n",
    "df.columns"
   ]
  },
  {
   "cell_type": "code",
   "execution_count": 21,
   "id": "9caaf872",
   "metadata": {},
   "outputs": [
    {
     "data": {
      "text/plain": [
       "RangeIndex(start=0, stop=5, step=1)"
      ]
     },
     "execution_count": 21,
     "metadata": {},
     "output_type": "execute_result"
    }
   ],
   "source": [
    "# see index\n",
    "df.index"
   ]
  },
  {
   "cell_type": "code",
   "execution_count": 22,
   "id": "aec562a5",
   "metadata": {},
   "outputs": [
    {
     "data": {
      "text/plain": [
       "(5, 6)"
      ]
     },
     "execution_count": 22,
     "metadata": {},
     "output_type": "execute_result"
    }
   ],
   "source": [
    "# see dimensions\n",
    "df.shape"
   ]
  },
  {
   "cell_type": "markdown",
   "id": "6ac774bc",
   "metadata": {},
   "source": [
    "The above attributes give us a great deal of information about our (small) data set.  We see there are 5 rows and 6 columns, and the columns have titles 'time', 'place', etc."
   ]
  },
  {
   "cell_type": "markdown",
   "id": "2114424a",
   "metadata": {},
   "source": [
    "### Creating Series and DataFrames "
   ]
  },
  {
   "cell_type": "code",
   "execution_count": 23,
   "id": "a3b23144",
   "metadata": {},
   "outputs": [],
   "source": [
    "import numpy as np\n",
    "import pandas as pd"
   ]
  },
  {
   "cell_type": "markdown",
   "id": "08292842",
   "metadata": {},
   "source": [
    "We can create a DataFrame from a Python Data Structure.  In the three examples below, we will create create a DataFrame from a dictionary, from a list of tuples, and from a NumPy array."
   ]
  },
  {
   "cell_type": "code",
   "execution_count": 33,
   "id": "55ee2ef3",
   "metadata": {},
   "outputs": [
    {
     "data": {
      "text/html": [
       "<div>\n",
       "<style scoped>\n",
       "    .dataframe tbody tr th:only-of-type {\n",
       "        vertical-align: middle;\n",
       "    }\n",
       "\n",
       "    .dataframe tbody tr th {\n",
       "        vertical-align: top;\n",
       "    }\n",
       "\n",
       "    .dataframe thead th {\n",
       "        text-align: right;\n",
       "    }\n",
       "</style>\n",
       "<table border=\"1\" class=\"dataframe\">\n",
       "  <thead>\n",
       "    <tr style=\"text-align: right;\">\n",
       "      <th></th>\n",
       "      <th>Name</th>\n",
       "      <th>Age</th>\n",
       "      <th>University</th>\n",
       "    </tr>\n",
       "  </thead>\n",
       "  <tbody>\n",
       "    <tr>\n",
       "      <th>0</th>\n",
       "      <td>Aaron</td>\n",
       "      <td>23</td>\n",
       "      <td>Cal Poly Humboldt</td>\n",
       "    </tr>\n",
       "    <tr>\n",
       "      <th>1</th>\n",
       "      <td>Luke</td>\n",
       "      <td>21</td>\n",
       "      <td>Sonoma State</td>\n",
       "    </tr>\n",
       "    <tr>\n",
       "      <th>2</th>\n",
       "      <td>Kai</td>\n",
       "      <td>22</td>\n",
       "      <td>UCLA</td>\n",
       "    </tr>\n",
       "    <tr>\n",
       "      <th>3</th>\n",
       "      <td>Casey</td>\n",
       "      <td>21</td>\n",
       "      <td>UCD</td>\n",
       "    </tr>\n",
       "  </tbody>\n",
       "</table>\n",
       "</div>"
      ],
      "text/plain": [
       "    Name  Age         University\n",
       "0  Aaron   23  Cal Poly Humboldt\n",
       "1   Luke   21       Sonoma State\n",
       "2    Kai   22               UCLA\n",
       "3  Casey   21                UCD"
      ]
     },
     "execution_count": 33,
     "metadata": {},
     "output_type": "execute_result"
    }
   ],
   "source": [
    "# data frame from dictionary\n",
    "pd.DataFrame(\n",
    "    {\n",
    "    'Name' : ['Aaron', 'Luke', 'Kai', 'Casey'],\n",
    "    'Age' : [23, 21, 22, 21],\n",
    "    'University' : ['Cal Poly Humboldt', 'Sonoma State', 'UCLA', 'UCD'],\n",
    "    }, \n",
    "   \n",
    ")"
   ]
  },
  {
   "cell_type": "code",
   "execution_count": 29,
   "id": "7ecde0d6",
   "metadata": {},
   "outputs": [
    {
     "data": {
      "text/html": [
       "<div>\n",
       "<style scoped>\n",
       "    .dataframe tbody tr th:only-of-type {\n",
       "        vertical-align: middle;\n",
       "    }\n",
       "\n",
       "    .dataframe tbody tr th {\n",
       "        vertical-align: top;\n",
       "    }\n",
       "\n",
       "    .dataframe thead th {\n",
       "        text-align: right;\n",
       "    }\n",
       "</style>\n",
       "<table border=\"1\" class=\"dataframe\">\n",
       "  <thead>\n",
       "    <tr style=\"text-align: right;\">\n",
       "      <th></th>\n",
       "      <th>n</th>\n",
       "      <th>n/2</th>\n",
       "      <th>n^4</th>\n",
       "    </tr>\n",
       "  </thead>\n",
       "  <tbody>\n",
       "    <tr>\n",
       "      <th>0</th>\n",
       "      <td>0</td>\n",
       "      <td>0.0</td>\n",
       "      <td>0</td>\n",
       "    </tr>\n",
       "    <tr>\n",
       "      <th>1</th>\n",
       "      <td>1</td>\n",
       "      <td>0.5</td>\n",
       "      <td>1</td>\n",
       "    </tr>\n",
       "    <tr>\n",
       "      <th>2</th>\n",
       "      <td>2</td>\n",
       "      <td>1.0</td>\n",
       "      <td>16</td>\n",
       "    </tr>\n",
       "    <tr>\n",
       "      <th>3</th>\n",
       "      <td>3</td>\n",
       "      <td>1.5</td>\n",
       "      <td>81</td>\n",
       "    </tr>\n",
       "    <tr>\n",
       "      <th>4</th>\n",
       "      <td>4</td>\n",
       "      <td>2.0</td>\n",
       "      <td>256</td>\n",
       "    </tr>\n",
       "  </tbody>\n",
       "</table>\n",
       "</div>"
      ],
      "text/plain": [
       "   n  n/2  n^4\n",
       "0  0  0.0    0\n",
       "1  1  0.5    1\n",
       "2  2  1.0   16\n",
       "3  3  1.5   81\n",
       "4  4  2.0  256"
      ]
     },
     "execution_count": 29,
     "metadata": {},
     "output_type": "execute_result"
    }
   ],
   "source": [
    "# data frame from list of tuples\n",
    "list_of_tuples = [(n, n/2, n**4) for n in range(5)]\n",
    "list_of_tuples\n",
    "pd.DataFrame(\n",
    "    list_of_tuples, \n",
    "    columns=['n', 'n/2', 'n^4']\n",
    ")"
   ]
  },
  {
   "cell_type": "code",
   "execution_count": 30,
   "id": "c70a02a4",
   "metadata": {},
   "outputs": [
    {
     "data": {
      "text/html": [
       "<div>\n",
       "<style scoped>\n",
       "    .dataframe tbody tr th:only-of-type {\n",
       "        vertical-align: middle;\n",
       "    }\n",
       "\n",
       "    .dataframe tbody tr th {\n",
       "        vertical-align: top;\n",
       "    }\n",
       "\n",
       "    .dataframe thead th {\n",
       "        text-align: right;\n",
       "    }\n",
       "</style>\n",
       "<table border=\"1\" class=\"dataframe\">\n",
       "  <thead>\n",
       "    <tr style=\"text-align: right;\">\n",
       "      <th></th>\n",
       "      <th>n</th>\n",
       "      <th>n/2</th>\n",
       "      <th>n^4</th>\n",
       "    </tr>\n",
       "  </thead>\n",
       "  <tbody>\n",
       "    <tr>\n",
       "      <th>0</th>\n",
       "      <td>0.0</td>\n",
       "      <td>0.0</td>\n",
       "      <td>0.0</td>\n",
       "    </tr>\n",
       "    <tr>\n",
       "      <th>1</th>\n",
       "      <td>1.0</td>\n",
       "      <td>0.5</td>\n",
       "      <td>1.0</td>\n",
       "    </tr>\n",
       "    <tr>\n",
       "      <th>2</th>\n",
       "      <td>2.0</td>\n",
       "      <td>1.0</td>\n",
       "      <td>16.0</td>\n",
       "    </tr>\n",
       "    <tr>\n",
       "      <th>3</th>\n",
       "      <td>3.0</td>\n",
       "      <td>1.5</td>\n",
       "      <td>81.0</td>\n",
       "    </tr>\n",
       "    <tr>\n",
       "      <th>4</th>\n",
       "      <td>4.0</td>\n",
       "      <td>2.0</td>\n",
       "      <td>256.0</td>\n",
       "    </tr>\n",
       "  </tbody>\n",
       "</table>\n",
       "</div>"
      ],
      "text/plain": [
       "     n  n/2    n^4\n",
       "0  0.0  0.0    0.0\n",
       "1  1.0  0.5    1.0\n",
       "2  2.0  1.0   16.0\n",
       "3  3.0  1.5   81.0\n",
       "4  4.0  2.0  256.0"
      ]
     },
     "execution_count": 30,
     "metadata": {},
     "output_type": "execute_result"
    }
   ],
   "source": [
    "# data frame from NumPy array\n",
    "pd.DataFrame(\n",
    "    np.array([\n",
    "        [0, 0, 0],\n",
    "        [1, .5, 1],\n",
    "        [2, 1, 16],\n",
    "        [3, 1.5, 81],\n",
    "        [4, 2, 256]\n",
    "    ]), columns=['n', 'n/2', 'n^4']\n",
    ")"
   ]
  },
  {
   "cell_type": "code",
   "execution_count": 44,
   "id": "46bb536c",
   "metadata": {},
   "outputs": [
    {
     "data": {
      "text/html": [
       "<div>\n",
       "<style scoped>\n",
       "    .dataframe tbody tr th:only-of-type {\n",
       "        vertical-align: middle;\n",
       "    }\n",
       "\n",
       "    .dataframe tbody tr th {\n",
       "        vertical-align: top;\n",
       "    }\n",
       "\n",
       "    .dataframe thead th {\n",
       "        text-align: right;\n",
       "    }\n",
       "</style>\n",
       "<table border=\"1\" class=\"dataframe\">\n",
       "  <thead>\n",
       "    <tr style=\"text-align: right;\">\n",
       "      <th></th>\n",
       "      <th>Median Home Price</th>\n",
       "      <th>Town</th>\n",
       "    </tr>\n",
       "  </thead>\n",
       "  <tbody>\n",
       "    <tr>\n",
       "      <th>0</th>\n",
       "      <td>454000</td>\n",
       "      <td>Arcata</td>\n",
       "    </tr>\n",
       "    <tr>\n",
       "      <th>1</th>\n",
       "      <td>383000</td>\n",
       "      <td>Eureka</td>\n",
       "    </tr>\n",
       "  </tbody>\n",
       "</table>\n",
       "</div>"
      ],
      "text/plain": [
       "   Median Home Price    Town\n",
       "0             454000  Arcata\n",
       "1             383000  Eureka"
      ]
     },
     "execution_count": 44,
     "metadata": {},
     "output_type": "execute_result"
    }
   ],
   "source": [
    "# data frame from list of dictionaries (as would be seen using an API)\n",
    "pd.DataFrame([\n",
    "    {'Median Home Price': 454000, 'Town': 'Arcata'},\n",
    "     {'Median Home Price': 383000, 'Town': 'Eureka'},\n",
    "])\n",
    "# note that the keys of the dictionary become the column names and the values of the dictionary\n",
    "# become the entries in the data frame"
   ]
  },
  {
   "cell_type": "markdown",
   "id": "1bd1fad0",
   "metadata": {},
   "source": [
    "### Task: \n",
    "Create a DataFrame from\n",
    "- a NumPy array with these entries and columns title \"a\" and \"b\":  \\begin{bmatrix}\n",
    "5 & 6 \\\\\n",
    "7 & 8 \n",
    "\\end{bmatrix}\n",
    "- a list of tuples, with the same entries and column names as above\n",
    "- a dictionary, with the same entries and column names as above"
   ]
  },
  {
   "cell_type": "markdown",
   "id": "be48242f",
   "metadata": {},
   "source": [
    "### Solution"
   ]
  },
  {
   "cell_type": "code",
   "execution_count": 34,
   "id": "4e73ebd8",
   "metadata": {},
   "outputs": [
    {
     "data": {
      "text/html": [
       "<div>\n",
       "<style scoped>\n",
       "    .dataframe tbody tr th:only-of-type {\n",
       "        vertical-align: middle;\n",
       "    }\n",
       "\n",
       "    .dataframe tbody tr th {\n",
       "        vertical-align: top;\n",
       "    }\n",
       "\n",
       "    .dataframe thead th {\n",
       "        text-align: right;\n",
       "    }\n",
       "</style>\n",
       "<table border=\"1\" class=\"dataframe\">\n",
       "  <thead>\n",
       "    <tr style=\"text-align: right;\">\n",
       "      <th></th>\n",
       "      <th>a</th>\n",
       "      <th>b</th>\n",
       "    </tr>\n",
       "  </thead>\n",
       "  <tbody>\n",
       "    <tr>\n",
       "      <th>0</th>\n",
       "      <td>5</td>\n",
       "      <td>6</td>\n",
       "    </tr>\n",
       "    <tr>\n",
       "      <th>1</th>\n",
       "      <td>7</td>\n",
       "      <td>8</td>\n",
       "    </tr>\n",
       "  </tbody>\n",
       "</table>\n",
       "</div>"
      ],
      "text/plain": [
       "   a  b\n",
       "0  5  6\n",
       "1  7  8"
      ]
     },
     "execution_count": 34,
     "metadata": {},
     "output_type": "execute_result"
    }
   ],
   "source": [
    "# data frame from NumPy array\n",
    "pd.DataFrame(\n",
    "    np.array([\n",
    "        [5, 6],\n",
    "        [7, 8]  \n",
    "    ]), columns=['a', 'b', ]\n",
    ")"
   ]
  },
  {
   "cell_type": "code",
   "execution_count": 35,
   "id": "1bf5f360",
   "metadata": {},
   "outputs": [
    {
     "data": {
      "text/html": [
       "<div>\n",
       "<style scoped>\n",
       "    .dataframe tbody tr th:only-of-type {\n",
       "        vertical-align: middle;\n",
       "    }\n",
       "\n",
       "    .dataframe tbody tr th {\n",
       "        vertical-align: top;\n",
       "    }\n",
       "\n",
       "    .dataframe thead th {\n",
       "        text-align: right;\n",
       "    }\n",
       "</style>\n",
       "<table border=\"1\" class=\"dataframe\">\n",
       "  <thead>\n",
       "    <tr style=\"text-align: right;\">\n",
       "      <th></th>\n",
       "      <th>a</th>\n",
       "      <th>b</th>\n",
       "    </tr>\n",
       "  </thead>\n",
       "  <tbody>\n",
       "    <tr>\n",
       "      <th>0</th>\n",
       "      <td>5</td>\n",
       "      <td>6</td>\n",
       "    </tr>\n",
       "    <tr>\n",
       "      <th>1</th>\n",
       "      <td>7</td>\n",
       "      <td>8</td>\n",
       "    </tr>\n",
       "  </tbody>\n",
       "</table>\n",
       "</div>"
      ],
      "text/plain": [
       "   a  b\n",
       "0  5  6\n",
       "1  7  8"
      ]
     },
     "execution_count": 35,
     "metadata": {},
     "output_type": "execute_result"
    }
   ],
   "source": [
    "# data frame from list of tuples\n",
    "list_of_tuples = [(5, 6), (7, 8)]\n",
    "list_of_tuples\n",
    "pd.DataFrame(\n",
    "    list_of_tuples, \n",
    "    columns=['a', 'b']\n",
    ")"
   ]
  },
  {
   "cell_type": "code",
   "execution_count": 36,
   "id": "159e3b69",
   "metadata": {
    "scrolled": true
   },
   "outputs": [
    {
     "data": {
      "text/html": [
       "<div>\n",
       "<style scoped>\n",
       "    .dataframe tbody tr th:only-of-type {\n",
       "        vertical-align: middle;\n",
       "    }\n",
       "\n",
       "    .dataframe tbody tr th {\n",
       "        vertical-align: top;\n",
       "    }\n",
       "\n",
       "    .dataframe thead th {\n",
       "        text-align: right;\n",
       "    }\n",
       "</style>\n",
       "<table border=\"1\" class=\"dataframe\">\n",
       "  <thead>\n",
       "    <tr style=\"text-align: right;\">\n",
       "      <th></th>\n",
       "      <th>a</th>\n",
       "      <th>b</th>\n",
       "    </tr>\n",
       "  </thead>\n",
       "  <tbody>\n",
       "    <tr>\n",
       "      <th>0</th>\n",
       "      <td>5</td>\n",
       "      <td>6</td>\n",
       "    </tr>\n",
       "    <tr>\n",
       "      <th>1</th>\n",
       "      <td>7</td>\n",
       "      <td>8</td>\n",
       "    </tr>\n",
       "  </tbody>\n",
       "</table>\n",
       "</div>"
      ],
      "text/plain": [
       "   a  b\n",
       "0  5  6\n",
       "1  7  8"
      ]
     },
     "execution_count": 36,
     "metadata": {},
     "output_type": "execute_result"
    }
   ],
   "source": [
    "# data frame from dictionary\n",
    "pd.DataFrame(\n",
    "    {\n",
    "    'a' : [5, 7],\n",
    "    'b' : [6, 8],\n",
    "    }, \n",
    "   \n",
    ")"
   ]
  },
  {
   "cell_type": "markdown",
   "id": "2e9871f4",
   "metadata": {},
   "source": [
    "### Example\n",
    "We can create a data frame with a nested list with the populations of a few European capital cities.  For example, London, the capital of the UK, has a population of 8.615 million in 2015."
   ]
  },
  {
   "cell_type": "code",
   "execution_count": 11,
   "id": "26b5e739",
   "metadata": {},
   "outputs": [
    {
     "data": {
      "text/html": [
       "<div>\n",
       "<style scoped>\n",
       "    .dataframe tbody tr th:only-of-type {\n",
       "        vertical-align: middle;\n",
       "    }\n",
       "\n",
       "    .dataframe tbody tr th {\n",
       "        vertical-align: top;\n",
       "    }\n",
       "\n",
       "    .dataframe thead th {\n",
       "        text-align: right;\n",
       "    }\n",
       "</style>\n",
       "<table border=\"1\" class=\"dataframe\">\n",
       "  <thead>\n",
       "    <tr style=\"text-align: right;\">\n",
       "      <th></th>\n",
       "      <th>0</th>\n",
       "      <th>1</th>\n",
       "    </tr>\n",
       "  </thead>\n",
       "  <tbody>\n",
       "    <tr>\n",
       "      <th>0</th>\n",
       "      <td>909976</td>\n",
       "      <td>Sweden</td>\n",
       "    </tr>\n",
       "    <tr>\n",
       "      <th>1</th>\n",
       "      <td>8615246</td>\n",
       "      <td>UK</td>\n",
       "    </tr>\n",
       "    <tr>\n",
       "      <th>2</th>\n",
       "      <td>2872086</td>\n",
       "      <td>Italy</td>\n",
       "    </tr>\n",
       "    <tr>\n",
       "      <th>3</th>\n",
       "      <td>2273305</td>\n",
       "      <td>France</td>\n",
       "    </tr>\n",
       "  </tbody>\n",
       "</table>\n",
       "</div>"
      ],
      "text/plain": [
       "         0       1\n",
       "0   909976  Sweden\n",
       "1  8615246      UK\n",
       "2  2872086   Italy\n",
       "3  2273305  France"
      ]
     },
     "execution_count": 11,
     "metadata": {},
     "output_type": "execute_result"
    }
   ],
   "source": [
    "df = pd.DataFrame([[909976, 'Sweden'], [8615246, 'UK'], [2872086, 'Italy'], [2273305, 'France']])\n",
    "df"
   ]
  },
  {
   "cell_type": "markdown",
   "id": "0d9f46e8",
   "metadata": {},
   "source": [
    "We can reindex the data frame with the names of the respective capitals, since this might be more intuitive than a numbered index."
   ]
  },
  {
   "cell_type": "code",
   "execution_count": 13,
   "id": "1854cae8",
   "metadata": {},
   "outputs": [
    {
     "data": {
      "text/html": [
       "<div>\n",
       "<style scoped>\n",
       "    .dataframe tbody tr th:only-of-type {\n",
       "        vertical-align: middle;\n",
       "    }\n",
       "\n",
       "    .dataframe tbody tr th {\n",
       "        vertical-align: top;\n",
       "    }\n",
       "\n",
       "    .dataframe thead th {\n",
       "        text-align: right;\n",
       "    }\n",
       "</style>\n",
       "<table border=\"1\" class=\"dataframe\">\n",
       "  <thead>\n",
       "    <tr style=\"text-align: right;\">\n",
       "      <th></th>\n",
       "      <th>0</th>\n",
       "      <th>1</th>\n",
       "    </tr>\n",
       "  </thead>\n",
       "  <tbody>\n",
       "    <tr>\n",
       "      <th>Stockholm</th>\n",
       "      <td>909976</td>\n",
       "      <td>Sweden</td>\n",
       "    </tr>\n",
       "    <tr>\n",
       "      <th>London</th>\n",
       "      <td>8615246</td>\n",
       "      <td>UK</td>\n",
       "    </tr>\n",
       "    <tr>\n",
       "      <th>Rome</th>\n",
       "      <td>2872086</td>\n",
       "      <td>Italy</td>\n",
       "    </tr>\n",
       "    <tr>\n",
       "      <th>Paris</th>\n",
       "      <td>2273305</td>\n",
       "      <td>France</td>\n",
       "    </tr>\n",
       "  </tbody>\n",
       "</table>\n",
       "</div>"
      ],
      "text/plain": [
       "                 0       1\n",
       "Stockholm   909976  Sweden\n",
       "London     8615246      UK\n",
       "Rome       2872086   Italy\n",
       "Paris      2273305  France"
      ]
     },
     "execution_count": 13,
     "metadata": {},
     "output_type": "execute_result"
    }
   ],
   "source": [
    "df.index = ['Stockholm', 'London', 'Rome', 'Paris']\n",
    "df"
   ]
  },
  {
   "cell_type": "markdown",
   "id": "c59dac82",
   "metadata": {},
   "source": [
    "We can also rename the columns so the data frame is more understandable."
   ]
  },
  {
   "cell_type": "code",
   "execution_count": 14,
   "id": "faface5c",
   "metadata": {},
   "outputs": [
    {
     "data": {
      "text/html": [
       "<div>\n",
       "<style scoped>\n",
       "    .dataframe tbody tr th:only-of-type {\n",
       "        vertical-align: middle;\n",
       "    }\n",
       "\n",
       "    .dataframe tbody tr th {\n",
       "        vertical-align: top;\n",
       "    }\n",
       "\n",
       "    .dataframe thead th {\n",
       "        text-align: right;\n",
       "    }\n",
       "</style>\n",
       "<table border=\"1\" class=\"dataframe\">\n",
       "  <thead>\n",
       "    <tr style=\"text-align: right;\">\n",
       "      <th></th>\n",
       "      <th>Population</th>\n",
       "      <th>Country</th>\n",
       "    </tr>\n",
       "  </thead>\n",
       "  <tbody>\n",
       "    <tr>\n",
       "      <th>Stockholm</th>\n",
       "      <td>909976</td>\n",
       "      <td>Sweden</td>\n",
       "    </tr>\n",
       "    <tr>\n",
       "      <th>London</th>\n",
       "      <td>8615246</td>\n",
       "      <td>UK</td>\n",
       "    </tr>\n",
       "    <tr>\n",
       "      <th>Rome</th>\n",
       "      <td>2872086</td>\n",
       "      <td>Italy</td>\n",
       "    </tr>\n",
       "    <tr>\n",
       "      <th>Paris</th>\n",
       "      <td>2273305</td>\n",
       "      <td>France</td>\n",
       "    </tr>\n",
       "  </tbody>\n",
       "</table>\n",
       "</div>"
      ],
      "text/plain": [
       "           Population Country\n",
       "Stockholm      909976  Sweden\n",
       "London        8615246      UK\n",
       "Rome          2872086   Italy\n",
       "Paris         2273305  France"
      ]
     },
     "execution_count": 14,
     "metadata": {},
     "output_type": "execute_result"
    }
   ],
   "source": [
    "df.columns = ['Population', 'Country']\n",
    "df"
   ]
  },
  {
   "cell_type": "markdown",
   "id": "299a23a5",
   "metadata": {},
   "source": [
    "### Accessing Columns\n",
    "We can access a column using attribute notation or by indexing with the column name.  These are equivalent.  Note that a column of a data frame is just a series object."
   ]
  },
  {
   "cell_type": "code",
   "execution_count": 15,
   "id": "a0b7ff45",
   "metadata": {},
   "outputs": [
    {
     "data": {
      "text/plain": [
       "Stockholm     909976\n",
       "London       8615246\n",
       "Rome         2872086\n",
       "Paris        2273305\n",
       "Name: Population, dtype: int64"
      ]
     },
     "execution_count": 15,
     "metadata": {},
     "output_type": "execute_result"
    }
   ],
   "source": [
    "# option 1, attribute notation\n",
    "df.Population"
   ]
  },
  {
   "cell_type": "code",
   "execution_count": 17,
   "id": "e340acbe",
   "metadata": {},
   "outputs": [
    {
     "data": {
      "text/plain": [
       "Stockholm     909976\n",
       "London       8615246\n",
       "Rome         2872086\n",
       "Paris        2273305\n",
       "Name: Population, dtype: int64"
      ]
     },
     "execution_count": 17,
     "metadata": {},
     "output_type": "execute_result"
    }
   ],
   "source": [
    "# option 2 indexing notation\n",
    "df['Population']"
   ]
  },
  {
   "cell_type": "markdown",
   "id": "0d1170c1",
   "metadata": {},
   "source": [
    "### Accessing Rows"
   ]
  },
  {
   "cell_type": "markdown",
   "id": "c5b8b4c8",
   "metadata": {},
   "source": [
    "We can access rows with the loc index attribute.  This will also result in a series object."
   ]
  },
  {
   "cell_type": "code",
   "execution_count": 18,
   "id": "2815e8c9",
   "metadata": {},
   "outputs": [
    {
     "data": {
      "text/plain": [
       "Population    909976\n",
       "Country       Sweden\n",
       "Name: Stockholm, dtype: object"
      ]
     },
     "execution_count": 18,
     "metadata": {},
     "output_type": "execute_result"
    }
   ],
   "source": [
    "# access the row for Stockholm\n",
    "df.loc['Stockholm']"
   ]
  },
  {
   "cell_type": "markdown",
   "id": "7f6ec47f",
   "metadata": {},
   "source": [
    "### Subsetting with loc"
   ]
  },
  {
   "cell_type": "markdown",
   "id": "e8f03b53",
   "metadata": {},
   "source": [
    "We can also pass a list of row labels to loc to result in a new data frame that is a subset of the rows of the original.  We can also subset on both rows and columns."
   ]
  },
  {
   "cell_type": "code",
   "execution_count": 19,
   "id": "e0eb66df",
   "metadata": {},
   "outputs": [
    {
     "data": {
      "text/html": [
       "<div>\n",
       "<style scoped>\n",
       "    .dataframe tbody tr th:only-of-type {\n",
       "        vertical-align: middle;\n",
       "    }\n",
       "\n",
       "    .dataframe tbody tr th {\n",
       "        vertical-align: top;\n",
       "    }\n",
       "\n",
       "    .dataframe thead th {\n",
       "        text-align: right;\n",
       "    }\n",
       "</style>\n",
       "<table border=\"1\" class=\"dataframe\">\n",
       "  <thead>\n",
       "    <tr style=\"text-align: right;\">\n",
       "      <th></th>\n",
       "      <th>Population</th>\n",
       "      <th>Country</th>\n",
       "    </tr>\n",
       "  </thead>\n",
       "  <tbody>\n",
       "    <tr>\n",
       "      <th>Paris</th>\n",
       "      <td>2273305</td>\n",
       "      <td>France</td>\n",
       "    </tr>\n",
       "    <tr>\n",
       "      <th>Rome</th>\n",
       "      <td>2872086</td>\n",
       "      <td>Italy</td>\n",
       "    </tr>\n",
       "  </tbody>\n",
       "</table>\n",
       "</div>"
      ],
      "text/plain": [
       "       Population Country\n",
       "Paris     2273305  France\n",
       "Rome      2872086   Italy"
      ]
     },
     "execution_count": 19,
     "metadata": {},
     "output_type": "execute_result"
    }
   ],
   "source": [
    "# create new data frame with the rows for Paris and Rome and all columns\n",
    "df.loc[['Paris', 'Rome']]"
   ]
  },
  {
   "cell_type": "code",
   "execution_count": 20,
   "id": "ea010d2c",
   "metadata": {},
   "outputs": [
    {
     "data": {
      "text/plain": [
       "Paris    2273305\n",
       "Rome     2872086\n",
       "Name: Population, dtype: int64"
      ]
     },
     "execution_count": 20,
     "metadata": {},
     "output_type": "execute_result"
    }
   ],
   "source": [
    "# create new data frame with rows for Paris and Rome and only the column for Population\n",
    "df.loc[['Paris', 'Rome'], 'Population']"
   ]
  },
  {
   "cell_type": "markdown",
   "id": "4ab9db45",
   "metadata": {},
   "source": [
    "### Descriptive Statistics and Bar Plots\n"
   ]
  },
  {
   "cell_type": "code",
   "execution_count": 23,
   "id": "f816019c",
   "metadata": {},
   "outputs": [
    {
     "name": "stderr",
     "output_type": "stream",
     "text": [
      "/var/folders/xy/xym_q8_57pz2ff1dhfvmsdb80000gn/T/ipykernel_942/3698961737.py:1: FutureWarning: Dropping of nuisance columns in DataFrame reductions (with 'numeric_only=None') is deprecated; in a future version this will raise TypeError.  Select only valid columns before calling the reduction.\n",
      "  df.mean()\n"
     ]
    },
    {
     "data": {
      "text/plain": [
       "Population    3667653.25\n",
       "dtype: float64"
      ]
     },
     "execution_count": 23,
     "metadata": {},
     "output_type": "execute_result"
    }
   ],
   "source": [
    "df.mean() # returns mean of numerical columns only"
   ]
  },
  {
   "cell_type": "code",
   "execution_count": 26,
   "id": "efa4516d",
   "metadata": {},
   "outputs": [
    {
     "data": {
      "image/png": "[encoded data removed]",
      "text/plain": [
       "<Figure size 640x480 with 1 Axes>"
      ]
     },
     "metadata": {},
     "output_type": "display_data"
    }
   ],
   "source": [
    "ax = df.plot.bar(y = 'Population') # uses index as x-axis by default"
   ]
  },
  {
   "cell_type": "markdown",
   "id": "9dea08f5",
   "metadata": {},
   "source": [
    "### Task\n",
    "Look up census data to determine the population of the following cities in Humboldt County: Arcata, Eureka, McKinelyville, Fortuna.  The most recent data available might be from several years ago.\n",
    "Put this information into a data frame.\n",
    "- Reindex the data frame with the name of the main public high school in each town.\n",
    "- Rename the columns appropriately.\n",
    "- Subset the data frame so you have just the Northern Humboldt Union High School District schools represented (Arcata and McKinleyville).\n",
    "- Make a bar plot of the population of the towns that contain these schools (just of the towns in the Northern Humboldt Union High School District.\n"
   ]
  },
  {
   "cell_type": "markdown",
   "id": "a2ac7dfc",
   "metadata": {},
   "source": [
    "### Solution\n",
    "From the Census Bureau or Google:\n",
    "Arcata: 19,114\n",
    "Eureka: 26,489\n",
    "McKinelyville: 16,645\n",
    "Fortuna: 12,482\n"
   ]
  },
  {
   "cell_type": "code",
   "execution_count": 31,
   "id": "93b97010",
   "metadata": {},
   "outputs": [
    {
     "data": {
      "text/html": [
       "<div>\n",
       "<style scoped>\n",
       "    .dataframe tbody tr th:only-of-type {\n",
       "        vertical-align: middle;\n",
       "    }\n",
       "\n",
       "    .dataframe tbody tr th {\n",
       "        vertical-align: top;\n",
       "    }\n",
       "\n",
       "    .dataframe thead th {\n",
       "        text-align: right;\n",
       "    }\n",
       "</style>\n",
       "<table border=\"1\" class=\"dataframe\">\n",
       "  <thead>\n",
       "    <tr style=\"text-align: right;\">\n",
       "      <th></th>\n",
       "      <th>Population</th>\n",
       "      <th>City</th>\n",
       "    </tr>\n",
       "  </thead>\n",
       "  <tbody>\n",
       "    <tr>\n",
       "      <th>Arcata High School</th>\n",
       "      <td>19114</td>\n",
       "      <td>Arcata</td>\n",
       "    </tr>\n",
       "    <tr>\n",
       "      <th>Eureka High School</th>\n",
       "      <td>26489</td>\n",
       "      <td>Eureka</td>\n",
       "    </tr>\n",
       "    <tr>\n",
       "      <th>McKinleyville High School</th>\n",
       "      <td>16645</td>\n",
       "      <td>McKinleyville</td>\n",
       "    </tr>\n",
       "    <tr>\n",
       "      <th>Fortuna High School</th>\n",
       "      <td>12482</td>\n",
       "      <td>Fortuna</td>\n",
       "    </tr>\n",
       "  </tbody>\n",
       "</table>\n",
       "</div>"
      ],
      "text/plain": [
       "                           Population           City\n",
       "Arcata High School              19114         Arcata\n",
       "Eureka High School              26489         Eureka\n",
       "McKinleyville High School       16645  McKinleyville\n",
       "Fortuna High School             12482        Fortuna"
      ]
     },
     "execution_count": 31,
     "metadata": {},
     "output_type": "execute_result"
    }
   ],
   "source": [
    "dfHum = pd.DataFrame([[19114, 'Arcata'], [26489, 'Eureka'], [16645, 'McKinleyville'], [12482, 'Fortuna']])\n",
    "dfHum.index = ['Arcata High School', 'Eureka High School', 'McKinleyville High School', 'Fortuna High School']\n",
    "dfHum.columns = ['Population', 'City']\n",
    "dfHum"
   ]
  },
  {
   "cell_type": "code",
   "execution_count": 38,
   "id": "cb6a7845",
   "metadata": {},
   "outputs": [],
   "source": [
    "dfNorHum = dfHum.loc[['Arcata High School', 'McKinleyville High School']]"
   ]
  },
  {
   "cell_type": "code",
   "execution_count": 39,
   "id": "c21b0556",
   "metadata": {},
   "outputs": [
    {
     "data": {
      "image/png": "[encoded data removed]",
      "text/plain": [
       "<Figure size 640x480 with 1 Axes>"
      ]
     },
     "metadata": {},
     "output_type": "display_data"
    }
   ],
   "source": [
    "ax = dfNorHum.plot.bar(x = 'City', y = 'Population')"
   ]
  },
  {
   "cell_type": "markdown",
   "id": "1286e125",
   "metadata": {},
   "source": [
    "### Creating a DataFrame from a CSV File\n",
    "The above examples are good to know about, but we generally will not want to hand-enter data into a list of tuples, ndarray, or a dictionary, so reading files is a practical skill.  For this example, we will use the provided earthquake.csv file which contains earthquake data from September 18, 2018 through October 13, 2018 from the USGS earthquake API. (API is an application programming interface).  The API can be accessed here: https://earthquake.usgs.gov/earthquakes/search/.  A CSV file earthquakes.csv has been prepared for you.  "
   ]
  },
  {
   "cell_type": "code",
   "execution_count": 1,
   "id": "6fb6d294",
   "metadata": {},
   "outputs": [
    {
     "name": "stdout",
     "output_type": "stream",
     "text": [
      "    9333 earthquakes.csv\r\n"
     ]
    }
   ],
   "source": [
    "# see how many lines the file is before reading it in\n",
    "# in a Jupyter notebook, the ! before code runs the command line\n",
    "!wc -l earthquakes.csv # wc is word count, and -l means count the lines in the file"
   ]
  },
  {
   "cell_type": "code",
   "execution_count": 2,
   "id": "a1a09840",
   "metadata": {},
   "outputs": [
    {
     "name": "stdout",
     "output_type": "stream",
     "text": [
      "alert,cdi,code,detail,dmin,felt,gap,ids,mag,magType,mmi,net,nst,place,rms,sig,sources,status,time,title,tsunami,type,types,tz,updated,url\r\n",
      ",,37389218,https://earthquake.usgs.gov/fdsnws/event/1/query?eventid=ci37389218&format=geojson,0.008693,,85.0,\",ci37389218,\",1.35,ml,,ci,26.0,\"9km NE of Aguanga, CA\",0.19,28,\",ci,\",automatic,1539475168010,\"M 1.4 - 9km NE of Aguanga, CA\",0,earthquake,\",geoserve,nearby-cities,origin,phase-data,\",-480.0,1539475395144,https://earthquake.usgs.gov/earthquakes/eventpage/ci37389218\r\n",
      ",,37389202,https://earthquake.usgs.gov/fdsnws/event/1/query?eventid=ci37389202&format=geojson,0.02003,,79.0,\",ci37389202,\",1.29,ml,,ci,20.0,\"9km NE of Aguanga, CA\",0.29,26,\",ci,\",automatic,1539475129610,\"M 1.3 - 9km NE of Aguanga, CA\",0,earthquake,\",geoserve,nearby-cities,origin,phase-data,\",-480.0,1539475253925,https://earthquake.usgs.gov/earthquakes/eventpage/ci37389202\r\n"
     ]
    }
   ],
   "source": [
    "# look at the first 3 rows (sepcified by n) of the file\n",
    "!head -n 3 earthquakes.csv"
   ]
  },
  {
   "cell_type": "markdown",
   "id": "8fa9ed7c",
   "metadata": {},
   "source": [
    "Notice that the file contains headers (alert, cdi, code, etc.), and that it is comma separated.  (Not all CSV files are comma separated, even though CSV stands for comma-separated values.)  We should also check the last few rows to make sure there is not extra information (like a footer).  This can be done with tail."
   ]
  },
  {
   "cell_type": "code",
   "execution_count": 4,
   "id": "56ba1daf",
   "metadata": {},
   "outputs": [
    {
     "name": "stdout",
     "output_type": "stream",
     "text": [
      ",,2018261000,https://earthquake.usgs.gov/fdsnws/event/1/query?eventid=pr2018261000&format=geojson,0.4526,,276.0,\",pr2018261000,\",2.4,md,,pr,9.0,\"35km NNE of Hatillo, Puerto Rico\",0.41,89,\",pr,\",reviewed,1537229908180,\"M 2.4 - 35km NNE of Hatillo, Puerto Rico\",0,earthquake,\",geoserve,origin,phase-data,\",-240.0,1537243777410,https://earthquake.usgs.gov/earthquakes/eventpage/pr2018261000\r\n",
      ",,38063959,https://earthquake.usgs.gov/fdsnws/event/1/query?eventid=ci38063959&format=geojson,0.01865,,61.0,\",ci38063959,\",1.1,ml,,ci,27.0,\"9km NE of Aguanga, CA\",0.1,19,\",ci,\",reviewed,1537229545350,\"M 1.1 - 9km NE of Aguanga, CA\",0,earthquake,\",focal-mechanism,geoserve,nearby-cities,origin,phase-data,scitech-link,\",-480.0,1537230211640,https://earthquake.usgs.gov/earthquakes/eventpage/ci38063959\r\n",
      ",,38063935,https://earthquake.usgs.gov/fdsnws/event/1/query?eventid=ci38063935&format=geojson,0.01698,,39.0,\",ci38063935,\",0.66,ml,,ci,24.0,\"9km NE of Aguanga, CA\",0.1,7,\",ci,\",reviewed,1537228864470,\"M 0.7 - 9km NE of Aguanga, CA\",0,earthquake,\",focal-mechanism,geoserve,nearby-cities,origin,phase-data,scitech-link,\",-480.0,1537305830770,https://earthquake.usgs.gov/earthquakes/eventpage/ci38063935\r\n"
     ]
    }
   ],
   "source": [
    "# look at the last 3 rows (sepcified by n) of the file\n",
    "!tail -n 3 earthquakes.csv"
   ]
  },
  {
   "cell_type": "markdown",
   "id": "ff084c4d",
   "metadata": {},
   "source": [
    "Let's read in the file.  (Put the file in your working directory, or adjust the file path.)  The function read_csv() will do this.  This function can also read data from a URL-- the data does not have to be on your local machine to work."
   ]
  },
  {
   "cell_type": "code",
   "execution_count": 40,
   "id": "d596cf09",
   "metadata": {},
   "outputs": [
    {
     "data": {
      "text/html": [
       "<div>\n",
       "<style scoped>\n",
       "    .dataframe tbody tr th:only-of-type {\n",
       "        vertical-align: middle;\n",
       "    }\n",
       "\n",
       "    .dataframe tbody tr th {\n",
       "        vertical-align: top;\n",
       "    }\n",
       "\n",
       "    .dataframe thead th {\n",
       "        text-align: right;\n",
       "    }\n",
       "</style>\n",
       "<table border=\"1\" class=\"dataframe\">\n",
       "  <thead>\n",
       "    <tr style=\"text-align: right;\">\n",
       "      <th></th>\n",
       "      <th>alert</th>\n",
       "      <th>cdi</th>\n",
       "      <th>code</th>\n",
       "      <th>detail</th>\n",
       "      <th>dmin</th>\n",
       "      <th>felt</th>\n",
       "      <th>gap</th>\n",
       "      <th>ids</th>\n",
       "      <th>mag</th>\n",
       "      <th>magType</th>\n",
       "      <th>...</th>\n",
       "      <th>sources</th>\n",
       "      <th>status</th>\n",
       "      <th>time</th>\n",
       "      <th>title</th>\n",
       "      <th>tsunami</th>\n",
       "      <th>type</th>\n",
       "      <th>types</th>\n",
       "      <th>tz</th>\n",
       "      <th>updated</th>\n",
       "      <th>url</th>\n",
       "    </tr>\n",
       "  </thead>\n",
       "  <tbody>\n",
       "    <tr>\n",
       "      <th>0</th>\n",
       "      <td>NaN</td>\n",
       "      <td>NaN</td>\n",
       "      <td>37389218</td>\n",
       "      <td>https://earthquake.usgs.gov/fdsnws/event/1/que...</td>\n",
       "      <td>0.008693</td>\n",
       "      <td>NaN</td>\n",
       "      <td>85.0</td>\n",
       "      <td>,ci37389218,</td>\n",
       "      <td>1.35</td>\n",
       "      <td>ml</td>\n",
       "      <td>...</td>\n",
       "      <td>,ci,</td>\n",
       "      <td>automatic</td>\n",
       "      <td>1539475168010</td>\n",
       "      <td>M 1.4 - 9km NE of Aguanga, CA</td>\n",
       "      <td>0</td>\n",
       "      <td>earthquake</td>\n",
       "      <td>,geoserve,nearby-cities,origin,phase-data,</td>\n",
       "      <td>-480.0</td>\n",
       "      <td>1539475395144</td>\n",
       "      <td>https://earthquake.usgs.gov/earthquakes/eventp...</td>\n",
       "    </tr>\n",
       "    <tr>\n",
       "      <th>1</th>\n",
       "      <td>NaN</td>\n",
       "      <td>NaN</td>\n",
       "      <td>37389202</td>\n",
       "      <td>https://earthquake.usgs.gov/fdsnws/event/1/que...</td>\n",
       "      <td>0.020030</td>\n",
       "      <td>NaN</td>\n",
       "      <td>79.0</td>\n",
       "      <td>,ci37389202,</td>\n",
       "      <td>1.29</td>\n",
       "      <td>ml</td>\n",
       "      <td>...</td>\n",
       "      <td>,ci,</td>\n",
       "      <td>automatic</td>\n",
       "      <td>1539475129610</td>\n",
       "      <td>M 1.3 - 9km NE of Aguanga, CA</td>\n",
       "      <td>0</td>\n",
       "      <td>earthquake</td>\n",
       "      <td>,geoserve,nearby-cities,origin,phase-data,</td>\n",
       "      <td>-480.0</td>\n",
       "      <td>1539475253925</td>\n",
       "      <td>https://earthquake.usgs.gov/earthquakes/eventp...</td>\n",
       "    </tr>\n",
       "    <tr>\n",
       "      <th>2</th>\n",
       "      <td>NaN</td>\n",
       "      <td>4.4</td>\n",
       "      <td>37389194</td>\n",
       "      <td>https://earthquake.usgs.gov/fdsnws/event/1/que...</td>\n",
       "      <td>0.021370</td>\n",
       "      <td>28.0</td>\n",
       "      <td>21.0</td>\n",
       "      <td>,ci37389194,</td>\n",
       "      <td>3.42</td>\n",
       "      <td>ml</td>\n",
       "      <td>...</td>\n",
       "      <td>,ci,</td>\n",
       "      <td>automatic</td>\n",
       "      <td>1539475062610</td>\n",
       "      <td>M 3.4 - 8km NE of Aguanga, CA</td>\n",
       "      <td>0</td>\n",
       "      <td>earthquake</td>\n",
       "      <td>,dyfi,focal-mechanism,geoserve,nearby-cities,o...</td>\n",
       "      <td>-480.0</td>\n",
       "      <td>1539536756176</td>\n",
       "      <td>https://earthquake.usgs.gov/earthquakes/eventp...</td>\n",
       "    </tr>\n",
       "    <tr>\n",
       "      <th>3</th>\n",
       "      <td>NaN</td>\n",
       "      <td>NaN</td>\n",
       "      <td>37389186</td>\n",
       "      <td>https://earthquake.usgs.gov/fdsnws/event/1/que...</td>\n",
       "      <td>0.026180</td>\n",
       "      <td>NaN</td>\n",
       "      <td>39.0</td>\n",
       "      <td>,ci37389186,</td>\n",
       "      <td>0.44</td>\n",
       "      <td>ml</td>\n",
       "      <td>...</td>\n",
       "      <td>,ci,</td>\n",
       "      <td>automatic</td>\n",
       "      <td>1539474978070</td>\n",
       "      <td>M 0.4 - 9km NE of Aguanga, CA</td>\n",
       "      <td>0</td>\n",
       "      <td>earthquake</td>\n",
       "      <td>,geoserve,nearby-cities,origin,phase-data,</td>\n",
       "      <td>-480.0</td>\n",
       "      <td>1539475196167</td>\n",
       "      <td>https://earthquake.usgs.gov/earthquakes/eventp...</td>\n",
       "    </tr>\n",
       "    <tr>\n",
       "      <th>4</th>\n",
       "      <td>NaN</td>\n",
       "      <td>NaN</td>\n",
       "      <td>73096941</td>\n",
       "      <td>https://earthquake.usgs.gov/fdsnws/event/1/que...</td>\n",
       "      <td>0.077990</td>\n",
       "      <td>NaN</td>\n",
       "      <td>192.0</td>\n",
       "      <td>,nc73096941,</td>\n",
       "      <td>2.16</td>\n",
       "      <td>md</td>\n",
       "      <td>...</td>\n",
       "      <td>,nc,</td>\n",
       "      <td>automatic</td>\n",
       "      <td>1539474716050</td>\n",
       "      <td>M 2.2 - 10km NW of Avenal, CA</td>\n",
       "      <td>0</td>\n",
       "      <td>earthquake</td>\n",
       "      <td>,geoserve,nearby-cities,origin,phase-data,scit...</td>\n",
       "      <td>-480.0</td>\n",
       "      <td>1539477547926</td>\n",
       "      <td>https://earthquake.usgs.gov/earthquakes/eventp...</td>\n",
       "    </tr>\n",
       "  </tbody>\n",
       "</table>\n",
       "<p>5 rows × 26 columns</p>\n",
       "</div>"
      ],
      "text/plain": [
       "  alert  cdi      code                                             detail  \\\n",
       "0   NaN  NaN  37389218  https://earthquake.usgs.gov/fdsnws/event/1/que...   \n",
       "1   NaN  NaN  37389202  https://earthquake.usgs.gov/fdsnws/event/1/que...   \n",
       "2   NaN  4.4  37389194  https://earthquake.usgs.gov/fdsnws/event/1/que...   \n",
       "3   NaN  NaN  37389186  https://earthquake.usgs.gov/fdsnws/event/1/que...   \n",
       "4   NaN  NaN  73096941  https://earthquake.usgs.gov/fdsnws/event/1/que...   \n",
       "\n",
       "       dmin  felt    gap           ids   mag magType  ...  sources     status  \\\n",
       "0  0.008693   NaN   85.0  ,ci37389218,  1.35      ml  ...     ,ci,  automatic   \n",
       "1  0.020030   NaN   79.0  ,ci37389202,  1.29      ml  ...     ,ci,  automatic   \n",
       "2  0.021370  28.0   21.0  ,ci37389194,  3.42      ml  ...     ,ci,  automatic   \n",
       "3  0.026180   NaN   39.0  ,ci37389186,  0.44      ml  ...     ,ci,  automatic   \n",
       "4  0.077990   NaN  192.0  ,nc73096941,  2.16      md  ...     ,nc,  automatic   \n",
       "\n",
       "            time                          title  tsunami        type  \\\n",
       "0  1539475168010  M 1.4 - 9km NE of Aguanga, CA        0  earthquake   \n",
       "1  1539475129610  M 1.3 - 9km NE of Aguanga, CA        0  earthquake   \n",
       "2  1539475062610  M 3.4 - 8km NE of Aguanga, CA        0  earthquake   \n",
       "3  1539474978070  M 0.4 - 9km NE of Aguanga, CA        0  earthquake   \n",
       "4  1539474716050  M 2.2 - 10km NW of Avenal, CA        0  earthquake   \n",
       "\n",
       "                                               types     tz        updated  \\\n",
       "0         ,geoserve,nearby-cities,origin,phase-data, -480.0  1539475395144   \n",
       "1         ,geoserve,nearby-cities,origin,phase-data, -480.0  1539475253925   \n",
       "2  ,dyfi,focal-mechanism,geoserve,nearby-cities,o... -480.0  1539536756176   \n",
       "3         ,geoserve,nearby-cities,origin,phase-data, -480.0  1539475196167   \n",
       "4  ,geoserve,nearby-cities,origin,phase-data,scit... -480.0  1539477547926   \n",
       "\n",
       "                                                 url  \n",
       "0  https://earthquake.usgs.gov/earthquakes/eventp...  \n",
       "1  https://earthquake.usgs.gov/earthquakes/eventp...  \n",
       "2  https://earthquake.usgs.gov/earthquakes/eventp...  \n",
       "3  https://earthquake.usgs.gov/earthquakes/eventp...  \n",
       "4  https://earthquake.usgs.gov/earthquakes/eventp...  \n",
       "\n",
       "[5 rows x 26 columns]"
      ]
     },
     "execution_count": 40,
     "metadata": {},
     "output_type": "execute_result"
    }
   ],
   "source": [
    "df = pd.read_csv('earthquakes.csv')\n",
    "# look at the first 5 rows\n",
    "df.head()"
   ]
  },
  {
   "cell_type": "markdown",
   "id": "4279c395",
   "metadata": {},
   "source": [
    "Notice this is MUCH cleaner to read!"
   ]
  },
  {
   "cell_type": "markdown",
   "id": "1ec845a2",
   "metadata": {},
   "source": [
    "### Inspecting a DataFrame\n",
    "Once we read our data, we should inspect the dataframe to make sure that the data was read properly.  This also suggests where we might need to direct wrangling actions.  The following commands are a good workflow to get a sense of what our data looks like at an early stage."
   ]
  },
  {
   "cell_type": "code",
   "execution_count": 7,
   "id": "cc0a4b7c",
   "metadata": {},
   "outputs": [
    {
     "data": {
      "text/plain": [
       "False"
      ]
     },
     "execution_count": 7,
     "metadata": {},
     "output_type": "execute_result"
    }
   ],
   "source": [
    "# is the data frame empty?  returns true or false\n",
    "df.empty"
   ]
  },
  {
   "cell_type": "code",
   "execution_count": 8,
   "id": "acc49a3c",
   "metadata": {},
   "outputs": [
    {
     "data": {
      "text/plain": [
       "(9332, 26)"
      ]
     },
     "execution_count": 8,
     "metadata": {},
     "output_type": "execute_result"
    }
   ],
   "source": [
    "# what are the dimensions?  (returns as number of rows, number of columns)\n",
    "df.shape"
   ]
  },
  {
   "cell_type": "code",
   "execution_count": 9,
   "id": "5d8d4602",
   "metadata": {},
   "outputs": [
    {
     "data": {
      "text/plain": [
       "Index(['alert', 'cdi', 'code', 'detail', 'dmin', 'felt', 'gap', 'ids', 'mag',\n",
       "       'magType', 'mmi', 'net', 'nst', 'place', 'rms', 'sig', 'sources',\n",
       "       'status', 'time', 'title', 'tsunami', 'type', 'types', 'tz', 'updated',\n",
       "       'url'],\n",
       "      dtype='object')"
      ]
     },
     "execution_count": 9,
     "metadata": {},
     "output_type": "execute_result"
    }
   ],
   "source": [
    "# what are the columns?  We know there are 26, but what are they?\n",
    "df.columns"
   ]
  },
  {
   "cell_type": "code",
   "execution_count": 59,
   "id": "754f8a9c",
   "metadata": {},
   "outputs": [
    {
     "data": {
      "text/html": [
       "<div>\n",
       "<style scoped>\n",
       "    .dataframe tbody tr th:only-of-type {\n",
       "        vertical-align: middle;\n",
       "    }\n",
       "\n",
       "    .dataframe tbody tr th {\n",
       "        vertical-align: top;\n",
       "    }\n",
       "\n",
       "    .dataframe thead th {\n",
       "        text-align: right;\n",
       "    }\n",
       "</style>\n",
       "<table border=\"1\" class=\"dataframe\">\n",
       "  <thead>\n",
       "    <tr style=\"text-align: right;\">\n",
       "      <th></th>\n",
       "      <th>alert</th>\n",
       "      <th>cdi</th>\n",
       "      <th>code</th>\n",
       "      <th>detail</th>\n",
       "      <th>dmin</th>\n",
       "      <th>felt</th>\n",
       "      <th>gap</th>\n",
       "      <th>ids</th>\n",
       "      <th>mag</th>\n",
       "      <th>magType</th>\n",
       "      <th>...</th>\n",
       "      <th>sources</th>\n",
       "      <th>status</th>\n",
       "      <th>time</th>\n",
       "      <th>title</th>\n",
       "      <th>tsunami</th>\n",
       "      <th>type</th>\n",
       "      <th>types</th>\n",
       "      <th>tz</th>\n",
       "      <th>updated</th>\n",
       "      <th>url</th>\n",
       "    </tr>\n",
       "  </thead>\n",
       "  <tbody>\n",
       "    <tr>\n",
       "      <th>0</th>\n",
       "      <td>NaN</td>\n",
       "      <td>NaN</td>\n",
       "      <td>37389218</td>\n",
       "      <td>https://earthquake.usgs.gov/fdsnws/event/1/que...</td>\n",
       "      <td>0.008693</td>\n",
       "      <td>NaN</td>\n",
       "      <td>85.0</td>\n",
       "      <td>,ci37389218,</td>\n",
       "      <td>1.35</td>\n",
       "      <td>ml</td>\n",
       "      <td>...</td>\n",
       "      <td>,ci,</td>\n",
       "      <td>automatic</td>\n",
       "      <td>1539475168010</td>\n",
       "      <td>M 1.4 - 9km NE of Aguanga, CA</td>\n",
       "      <td>0</td>\n",
       "      <td>earthquake</td>\n",
       "      <td>,geoserve,nearby-cities,origin,phase-data,</td>\n",
       "      <td>-480.0</td>\n",
       "      <td>1539475395144</td>\n",
       "      <td>https://earthquake.usgs.gov/earthquakes/eventp...</td>\n",
       "    </tr>\n",
       "    <tr>\n",
       "      <th>1</th>\n",
       "      <td>NaN</td>\n",
       "      <td>NaN</td>\n",
       "      <td>37389202</td>\n",
       "      <td>https://earthquake.usgs.gov/fdsnws/event/1/que...</td>\n",
       "      <td>0.020030</td>\n",
       "      <td>NaN</td>\n",
       "      <td>79.0</td>\n",
       "      <td>,ci37389202,</td>\n",
       "      <td>1.29</td>\n",
       "      <td>ml</td>\n",
       "      <td>...</td>\n",
       "      <td>,ci,</td>\n",
       "      <td>automatic</td>\n",
       "      <td>1539475129610</td>\n",
       "      <td>M 1.3 - 9km NE of Aguanga, CA</td>\n",
       "      <td>0</td>\n",
       "      <td>earthquake</td>\n",
       "      <td>,geoserve,nearby-cities,origin,phase-data,</td>\n",
       "      <td>-480.0</td>\n",
       "      <td>1539475253925</td>\n",
       "      <td>https://earthquake.usgs.gov/earthquakes/eventp...</td>\n",
       "    </tr>\n",
       "    <tr>\n",
       "      <th>2</th>\n",
       "      <td>NaN</td>\n",
       "      <td>4.4</td>\n",
       "      <td>37389194</td>\n",
       "      <td>https://earthquake.usgs.gov/fdsnws/event/1/que...</td>\n",
       "      <td>0.021370</td>\n",
       "      <td>28.0</td>\n",
       "      <td>21.0</td>\n",
       "      <td>,ci37389194,</td>\n",
       "      <td>3.42</td>\n",
       "      <td>ml</td>\n",
       "      <td>...</td>\n",
       "      <td>,ci,</td>\n",
       "      <td>automatic</td>\n",
       "      <td>1539475062610</td>\n",
       "      <td>M 3.4 - 8km NE of Aguanga, CA</td>\n",
       "      <td>0</td>\n",
       "      <td>earthquake</td>\n",
       "      <td>,dyfi,focal-mechanism,geoserve,nearby-cities,o...</td>\n",
       "      <td>-480.0</td>\n",
       "      <td>1539536756176</td>\n",
       "      <td>https://earthquake.usgs.gov/earthquakes/eventp...</td>\n",
       "    </tr>\n",
       "  </tbody>\n",
       "</table>\n",
       "<p>3 rows × 26 columns</p>\n",
       "</div>"
      ],
      "text/plain": [
       "  alert  cdi      code                                             detail  \\\n",
       "0   NaN  NaN  37389218  https://earthquake.usgs.gov/fdsnws/event/1/que...   \n",
       "1   NaN  NaN  37389202  https://earthquake.usgs.gov/fdsnws/event/1/que...   \n",
       "2   NaN  4.4  37389194  https://earthquake.usgs.gov/fdsnws/event/1/que...   \n",
       "\n",
       "       dmin  felt   gap           ids   mag magType  ...  sources     status  \\\n",
       "0  0.008693   NaN  85.0  ,ci37389218,  1.35      ml  ...     ,ci,  automatic   \n",
       "1  0.020030   NaN  79.0  ,ci37389202,  1.29      ml  ...     ,ci,  automatic   \n",
       "2  0.021370  28.0  21.0  ,ci37389194,  3.42      ml  ...     ,ci,  automatic   \n",
       "\n",
       "            time                          title  tsunami        type  \\\n",
       "0  1539475168010  M 1.4 - 9km NE of Aguanga, CA        0  earthquake   \n",
       "1  1539475129610  M 1.3 - 9km NE of Aguanga, CA        0  earthquake   \n",
       "2  1539475062610  M 3.4 - 8km NE of Aguanga, CA        0  earthquake   \n",
       "\n",
       "                                               types     tz        updated  \\\n",
       "0         ,geoserve,nearby-cities,origin,phase-data, -480.0  1539475395144   \n",
       "1         ,geoserve,nearby-cities,origin,phase-data, -480.0  1539475253925   \n",
       "2  ,dyfi,focal-mechanism,geoserve,nearby-cities,o... -480.0  1539536756176   \n",
       "\n",
       "                                                 url  \n",
       "0  https://earthquake.usgs.gov/earthquakes/eventp...  \n",
       "1  https://earthquake.usgs.gov/earthquakes/eventp...  \n",
       "2  https://earthquake.usgs.gov/earthquakes/eventp...  \n",
       "\n",
       "[3 rows x 26 columns]"
      ]
     },
     "execution_count": 59,
     "metadata": {},
     "output_type": "execute_result"
    }
   ],
   "source": [
    "# we did this previously, but inspecting the top few rows is useful\n",
    "df.head(3)"
   ]
  },
  {
   "cell_type": "code",
   "execution_count": 58,
   "id": "a704ce0f",
   "metadata": {},
   "outputs": [
    {
     "data": {
      "text/html": [
       "<div>\n",
       "<style scoped>\n",
       "    .dataframe tbody tr th:only-of-type {\n",
       "        vertical-align: middle;\n",
       "    }\n",
       "\n",
       "    .dataframe tbody tr th {\n",
       "        vertical-align: top;\n",
       "    }\n",
       "\n",
       "    .dataframe thead th {\n",
       "        text-align: right;\n",
       "    }\n",
       "</style>\n",
       "<table border=\"1\" class=\"dataframe\">\n",
       "  <thead>\n",
       "    <tr style=\"text-align: right;\">\n",
       "      <th></th>\n",
       "      <th>alert</th>\n",
       "      <th>cdi</th>\n",
       "      <th>code</th>\n",
       "      <th>detail</th>\n",
       "      <th>dmin</th>\n",
       "      <th>felt</th>\n",
       "      <th>gap</th>\n",
       "      <th>ids</th>\n",
       "      <th>mag</th>\n",
       "      <th>magType</th>\n",
       "      <th>...</th>\n",
       "      <th>sources</th>\n",
       "      <th>status</th>\n",
       "      <th>time</th>\n",
       "      <th>title</th>\n",
       "      <th>tsunami</th>\n",
       "      <th>type</th>\n",
       "      <th>types</th>\n",
       "      <th>tz</th>\n",
       "      <th>updated</th>\n",
       "      <th>url</th>\n",
       "    </tr>\n",
       "  </thead>\n",
       "  <tbody>\n",
       "    <tr>\n",
       "      <th>9329</th>\n",
       "      <td>NaN</td>\n",
       "      <td>NaN</td>\n",
       "      <td>2018261000</td>\n",
       "      <td>https://earthquake.usgs.gov/fdsnws/event/1/que...</td>\n",
       "      <td>0.45260</td>\n",
       "      <td>NaN</td>\n",
       "      <td>276.0</td>\n",
       "      <td>,pr2018261000,</td>\n",
       "      <td>2.40</td>\n",
       "      <td>md</td>\n",
       "      <td>...</td>\n",
       "      <td>,pr,</td>\n",
       "      <td>reviewed</td>\n",
       "      <td>1537229908180</td>\n",
       "      <td>M 2.4 - 35km NNE of Hatillo, Puerto Rico</td>\n",
       "      <td>0</td>\n",
       "      <td>earthquake</td>\n",
       "      <td>,geoserve,origin,phase-data,</td>\n",
       "      <td>-240.0</td>\n",
       "      <td>1537243777410</td>\n",
       "      <td>https://earthquake.usgs.gov/earthquakes/eventp...</td>\n",
       "    </tr>\n",
       "    <tr>\n",
       "      <th>9330</th>\n",
       "      <td>NaN</td>\n",
       "      <td>NaN</td>\n",
       "      <td>38063959</td>\n",
       "      <td>https://earthquake.usgs.gov/fdsnws/event/1/que...</td>\n",
       "      <td>0.01865</td>\n",
       "      <td>NaN</td>\n",
       "      <td>61.0</td>\n",
       "      <td>,ci38063959,</td>\n",
       "      <td>1.10</td>\n",
       "      <td>ml</td>\n",
       "      <td>...</td>\n",
       "      <td>,ci,</td>\n",
       "      <td>reviewed</td>\n",
       "      <td>1537229545350</td>\n",
       "      <td>M 1.1 - 9km NE of Aguanga, CA</td>\n",
       "      <td>0</td>\n",
       "      <td>earthquake</td>\n",
       "      <td>,focal-mechanism,geoserve,nearby-cities,origin...</td>\n",
       "      <td>-480.0</td>\n",
       "      <td>1537230211640</td>\n",
       "      <td>https://earthquake.usgs.gov/earthquakes/eventp...</td>\n",
       "    </tr>\n",
       "    <tr>\n",
       "      <th>9331</th>\n",
       "      <td>NaN</td>\n",
       "      <td>NaN</td>\n",
       "      <td>38063935</td>\n",
       "      <td>https://earthquake.usgs.gov/fdsnws/event/1/que...</td>\n",
       "      <td>0.01698</td>\n",
       "      <td>NaN</td>\n",
       "      <td>39.0</td>\n",
       "      <td>,ci38063935,</td>\n",
       "      <td>0.66</td>\n",
       "      <td>ml</td>\n",
       "      <td>...</td>\n",
       "      <td>,ci,</td>\n",
       "      <td>reviewed</td>\n",
       "      <td>1537228864470</td>\n",
       "      <td>M 0.7 - 9km NE of Aguanga, CA</td>\n",
       "      <td>0</td>\n",
       "      <td>earthquake</td>\n",
       "      <td>,focal-mechanism,geoserve,nearby-cities,origin...</td>\n",
       "      <td>-480.0</td>\n",
       "      <td>1537305830770</td>\n",
       "      <td>https://earthquake.usgs.gov/earthquakes/eventp...</td>\n",
       "    </tr>\n",
       "  </tbody>\n",
       "</table>\n",
       "<p>3 rows × 26 columns</p>\n",
       "</div>"
      ],
      "text/plain": [
       "     alert  cdi        code  \\\n",
       "9329   NaN  NaN  2018261000   \n",
       "9330   NaN  NaN    38063959   \n",
       "9331   NaN  NaN    38063935   \n",
       "\n",
       "                                                 detail     dmin  felt    gap  \\\n",
       "9329  https://earthquake.usgs.gov/fdsnws/event/1/que...  0.45260   NaN  276.0   \n",
       "9330  https://earthquake.usgs.gov/fdsnws/event/1/que...  0.01865   NaN   61.0   \n",
       "9331  https://earthquake.usgs.gov/fdsnws/event/1/que...  0.01698   NaN   39.0   \n",
       "\n",
       "                 ids   mag magType  ...  sources    status           time  \\\n",
       "9329  ,pr2018261000,  2.40      md  ...     ,pr,  reviewed  1537229908180   \n",
       "9330    ,ci38063959,  1.10      ml  ...     ,ci,  reviewed  1537229545350   \n",
       "9331    ,ci38063935,  0.66      ml  ...     ,ci,  reviewed  1537228864470   \n",
       "\n",
       "                                         title  tsunami        type  \\\n",
       "9329  M 2.4 - 35km NNE of Hatillo, Puerto Rico        0  earthquake   \n",
       "9330             M 1.1 - 9km NE of Aguanga, CA        0  earthquake   \n",
       "9331             M 0.7 - 9km NE of Aguanga, CA        0  earthquake   \n",
       "\n",
       "                                                  types     tz        updated  \\\n",
       "9329                       ,geoserve,origin,phase-data, -240.0  1537243777410   \n",
       "9330  ,focal-mechanism,geoserve,nearby-cities,origin... -480.0  1537230211640   \n",
       "9331  ,focal-mechanism,geoserve,nearby-cities,origin... -480.0  1537305830770   \n",
       "\n",
       "                                                    url  \n",
       "9329  https://earthquake.usgs.gov/earthquakes/eventp...  \n",
       "9330  https://earthquake.usgs.gov/earthquakes/eventp...  \n",
       "9331  https://earthquake.usgs.gov/earthquakes/eventp...  \n",
       "\n",
       "[3 rows x 26 columns]"
      ]
     },
     "execution_count": 58,
     "metadata": {},
     "output_type": "execute_result"
    }
   ],
   "source": [
    "# as is inspecting the last three rows\n",
    "df.tail(3)"
   ]
  },
  {
   "cell_type": "code",
   "execution_count": 60,
   "id": "a7b516e7",
   "metadata": {},
   "outputs": [
    {
     "data": {
      "text/plain": [
       "alert       object\n",
       "cdi        float64\n",
       "code        object\n",
       "detail      object\n",
       "dmin       float64\n",
       "felt       float64\n",
       "gap        float64\n",
       "ids         object\n",
       "mag        float64\n",
       "magType     object\n",
       "mmi        float64\n",
       "net         object\n",
       "nst        float64\n",
       "place       object\n",
       "rms        float64\n",
       "sig          int64\n",
       "sources     object\n",
       "status      object\n",
       "time         int64\n",
       "title       object\n",
       "tsunami      int64\n",
       "type        object\n",
       "types       object\n",
       "tz         float64\n",
       "updated      int64\n",
       "url         object\n",
       "dtype: object"
      ]
     },
     "execution_count": 60,
     "metadata": {},
     "output_type": "execute_result"
    }
   ],
   "source": [
    "# what data types are included?\n",
    "df.dtypes"
   ]
  },
  {
   "cell_type": "code",
   "execution_count": 61,
   "id": "ead2d9b2",
   "metadata": {},
   "outputs": [
    {
     "name": "stdout",
     "output_type": "stream",
     "text": [
      "<class 'pandas.core.frame.DataFrame'>\n",
      "RangeIndex: 9332 entries, 0 to 9331\n",
      "Data columns (total 26 columns):\n",
      " #   Column   Non-Null Count  Dtype  \n",
      "---  ------   --------------  -----  \n",
      " 0   alert    59 non-null     object \n",
      " 1   cdi      329 non-null    float64\n",
      " 2   code     9332 non-null   object \n",
      " 3   detail   9332 non-null   object \n",
      " 4   dmin     6139 non-null   float64\n",
      " 5   felt     329 non-null    float64\n",
      " 6   gap      6164 non-null   float64\n",
      " 7   ids      9332 non-null   object \n",
      " 8   mag      9331 non-null   float64\n",
      " 9   magType  9331 non-null   object \n",
      " 10  mmi      93 non-null     float64\n",
      " 11  net      9332 non-null   object \n",
      " 12  nst      5364 non-null   float64\n",
      " 13  place    9332 non-null   object \n",
      " 14  rms      9332 non-null   float64\n",
      " 15  sig      9332 non-null   int64  \n",
      " 16  sources  9332 non-null   object \n",
      " 17  status   9332 non-null   object \n",
      " 18  time     9332 non-null   int64  \n",
      " 19  title    9332 non-null   object \n",
      " 20  tsunami  9332 non-null   int64  \n",
      " 21  type     9332 non-null   object \n",
      " 22  types    9332 non-null   object \n",
      " 23  tz       9331 non-null   float64\n",
      " 24  updated  9332 non-null   int64  \n",
      " 25  url      9332 non-null   object \n",
      "dtypes: float64(9), int64(4), object(13)\n",
      "memory usage: 1.9+ MB\n"
     ]
    }
   ],
   "source": [
    "# info() gives more information, including the number of non-nulls\n",
    "df.info()"
   ]
  },
  {
   "cell_type": "markdown",
   "id": "00970e71",
   "metadata": {},
   "source": [
    "Since there are 9332 rows, we see that all the ids are non-null (because the non-null count for ids is 9332) but many of the rows have null for alert (since the non-null count fro alert is 59)."
   ]
  },
  {
   "cell_type": "markdown",
   "id": "f73874a8",
   "metadata": {},
   "source": [
    "### Describing and Summarizing the Data in a First Inspection"
   ]
  },
  {
   "cell_type": "code",
   "execution_count": 62,
   "id": "b7014f6e",
   "metadata": {},
   "outputs": [
    {
     "data": {
      "text/html": [
       "<div>\n",
       "<style scoped>\n",
       "    .dataframe tbody tr th:only-of-type {\n",
       "        vertical-align: middle;\n",
       "    }\n",
       "\n",
       "    .dataframe tbody tr th {\n",
       "        vertical-align: top;\n",
       "    }\n",
       "\n",
       "    .dataframe thead th {\n",
       "        text-align: right;\n",
       "    }\n",
       "</style>\n",
       "<table border=\"1\" class=\"dataframe\">\n",
       "  <thead>\n",
       "    <tr style=\"text-align: right;\">\n",
       "      <th></th>\n",
       "      <th>cdi</th>\n",
       "      <th>dmin</th>\n",
       "      <th>felt</th>\n",
       "      <th>gap</th>\n",
       "      <th>mag</th>\n",
       "      <th>mmi</th>\n",
       "      <th>nst</th>\n",
       "      <th>rms</th>\n",
       "      <th>sig</th>\n",
       "      <th>time</th>\n",
       "      <th>tsunami</th>\n",
       "      <th>tz</th>\n",
       "      <th>updated</th>\n",
       "    </tr>\n",
       "  </thead>\n",
       "  <tbody>\n",
       "    <tr>\n",
       "      <th>count</th>\n",
       "      <td>329.000000</td>\n",
       "      <td>6139.000000</td>\n",
       "      <td>329.000000</td>\n",
       "      <td>6164.000000</td>\n",
       "      <td>9331.000000</td>\n",
       "      <td>93.000000</td>\n",
       "      <td>5364.000000</td>\n",
       "      <td>9332.000000</td>\n",
       "      <td>9332.000000</td>\n",
       "      <td>9.332000e+03</td>\n",
       "      <td>9332.000000</td>\n",
       "      <td>9331.000000</td>\n",
       "      <td>9.332000e+03</td>\n",
       "    </tr>\n",
       "    <tr>\n",
       "      <th>mean</th>\n",
       "      <td>2.754711</td>\n",
       "      <td>0.544925</td>\n",
       "      <td>12.310030</td>\n",
       "      <td>121.506588</td>\n",
       "      <td>1.497345</td>\n",
       "      <td>3.651398</td>\n",
       "      <td>19.053878</td>\n",
       "      <td>0.362122</td>\n",
       "      <td>56.899914</td>\n",
       "      <td>1.538284e+12</td>\n",
       "      <td>0.006537</td>\n",
       "      <td>-451.990140</td>\n",
       "      <td>1.538537e+12</td>\n",
       "    </tr>\n",
       "    <tr>\n",
       "      <th>std</th>\n",
       "      <td>1.010637</td>\n",
       "      <td>2.214305</td>\n",
       "      <td>48.954944</td>\n",
       "      <td>72.962363</td>\n",
       "      <td>1.203347</td>\n",
       "      <td>1.790523</td>\n",
       "      <td>15.492315</td>\n",
       "      <td>0.317784</td>\n",
       "      <td>91.872163</td>\n",
       "      <td>6.080306e+08</td>\n",
       "      <td>0.080589</td>\n",
       "      <td>231.752571</td>\n",
       "      <td>6.564135e+08</td>\n",
       "    </tr>\n",
       "    <tr>\n",
       "      <th>min</th>\n",
       "      <td>0.000000</td>\n",
       "      <td>0.000648</td>\n",
       "      <td>0.000000</td>\n",
       "      <td>12.000000</td>\n",
       "      <td>-1.260000</td>\n",
       "      <td>0.000000</td>\n",
       "      <td>0.000000</td>\n",
       "      <td>0.000000</td>\n",
       "      <td>0.000000</td>\n",
       "      <td>1.537229e+12</td>\n",
       "      <td>0.000000</td>\n",
       "      <td>-720.000000</td>\n",
       "      <td>1.537230e+12</td>\n",
       "    </tr>\n",
       "    <tr>\n",
       "      <th>25%</th>\n",
       "      <td>2.000000</td>\n",
       "      <td>0.020425</td>\n",
       "      <td>1.000000</td>\n",
       "      <td>66.142500</td>\n",
       "      <td>0.720000</td>\n",
       "      <td>2.680000</td>\n",
       "      <td>8.000000</td>\n",
       "      <td>0.119675</td>\n",
       "      <td>8.000000</td>\n",
       "      <td>1.537793e+12</td>\n",
       "      <td>0.000000</td>\n",
       "      <td>-540.000000</td>\n",
       "      <td>1.537996e+12</td>\n",
       "    </tr>\n",
       "    <tr>\n",
       "      <th>50%</th>\n",
       "      <td>2.700000</td>\n",
       "      <td>0.059050</td>\n",
       "      <td>2.000000</td>\n",
       "      <td>105.000000</td>\n",
       "      <td>1.300000</td>\n",
       "      <td>3.720000</td>\n",
       "      <td>15.000000</td>\n",
       "      <td>0.210000</td>\n",
       "      <td>26.000000</td>\n",
       "      <td>1.538245e+12</td>\n",
       "      <td>0.000000</td>\n",
       "      <td>-480.000000</td>\n",
       "      <td>1.538621e+12</td>\n",
       "    </tr>\n",
       "    <tr>\n",
       "      <th>75%</th>\n",
       "      <td>3.300000</td>\n",
       "      <td>0.177250</td>\n",
       "      <td>5.000000</td>\n",
       "      <td>159.000000</td>\n",
       "      <td>1.900000</td>\n",
       "      <td>4.570000</td>\n",
       "      <td>25.000000</td>\n",
       "      <td>0.590000</td>\n",
       "      <td>56.000000</td>\n",
       "      <td>1.538766e+12</td>\n",
       "      <td>0.000000</td>\n",
       "      <td>-480.000000</td>\n",
       "      <td>1.539110e+12</td>\n",
       "    </tr>\n",
       "    <tr>\n",
       "      <th>max</th>\n",
       "      <td>8.400000</td>\n",
       "      <td>53.737000</td>\n",
       "      <td>580.000000</td>\n",
       "      <td>355.910000</td>\n",
       "      <td>7.500000</td>\n",
       "      <td>9.120000</td>\n",
       "      <td>172.000000</td>\n",
       "      <td>1.910000</td>\n",
       "      <td>2015.000000</td>\n",
       "      <td>1.539475e+12</td>\n",
       "      <td>1.000000</td>\n",
       "      <td>720.000000</td>\n",
       "      <td>1.539537e+12</td>\n",
       "    </tr>\n",
       "  </tbody>\n",
       "</table>\n",
       "</div>"
      ],
      "text/plain": [
       "              cdi         dmin        felt          gap          mag  \\\n",
       "count  329.000000  6139.000000  329.000000  6164.000000  9331.000000   \n",
       "mean     2.754711     0.544925   12.310030   121.506588     1.497345   \n",
       "std      1.010637     2.214305   48.954944    72.962363     1.203347   \n",
       "min      0.000000     0.000648    0.000000    12.000000    -1.260000   \n",
       "25%      2.000000     0.020425    1.000000    66.142500     0.720000   \n",
       "50%      2.700000     0.059050    2.000000   105.000000     1.300000   \n",
       "75%      3.300000     0.177250    5.000000   159.000000     1.900000   \n",
       "max      8.400000    53.737000  580.000000   355.910000     7.500000   \n",
       "\n",
       "             mmi          nst          rms          sig          time  \\\n",
       "count  93.000000  5364.000000  9332.000000  9332.000000  9.332000e+03   \n",
       "mean    3.651398    19.053878     0.362122    56.899914  1.538284e+12   \n",
       "std     1.790523    15.492315     0.317784    91.872163  6.080306e+08   \n",
       "min     0.000000     0.000000     0.000000     0.000000  1.537229e+12   \n",
       "25%     2.680000     8.000000     0.119675     8.000000  1.537793e+12   \n",
       "50%     3.720000    15.000000     0.210000    26.000000  1.538245e+12   \n",
       "75%     4.570000    25.000000     0.590000    56.000000  1.538766e+12   \n",
       "max     9.120000   172.000000     1.910000  2015.000000  1.539475e+12   \n",
       "\n",
       "           tsunami           tz       updated  \n",
       "count  9332.000000  9331.000000  9.332000e+03  \n",
       "mean      0.006537  -451.990140  1.538537e+12  \n",
       "std       0.080589   231.752571  6.564135e+08  \n",
       "min       0.000000  -720.000000  1.537230e+12  \n",
       "25%       0.000000  -540.000000  1.537996e+12  \n",
       "50%       0.000000  -480.000000  1.538621e+12  \n",
       "75%       0.000000  -480.000000  1.539110e+12  \n",
       "max       1.000000   720.000000  1.539537e+12  "
      ]
     },
     "execution_count": 62,
     "metadata": {},
     "output_type": "execute_result"
    }
   ],
   "source": [
    "# obtain summary statistics\n",
    "df.describe()"
   ]
  },
  {
   "cell_type": "markdown",
   "id": "536b63bd",
   "metadata": {},
   "source": [
    "Note, this will return statistics for the columns which are numeric.  (It does not make sense to average features like \"place\")."
   ]
  },
  {
   "cell_type": "code",
   "execution_count": 63,
   "id": "e787d645",
   "metadata": {},
   "outputs": [
    {
     "data": {
      "text/plain": [
       "count    9331.000000\n",
       "mean        1.497345\n",
       "std         1.203347\n",
       "min        -1.260000\n",
       "25%         0.720000\n",
       "50%         1.300000\n",
       "75%         1.900000\n",
       "max         7.500000\n",
       "Name: mag, dtype: float64"
      ]
     },
     "execution_count": 63,
     "metadata": {},
     "output_type": "execute_result"
    }
   ],
   "source": [
    "# if we would like to just describe one column, such as mag (magnitude)\n",
    "df.mag.describe()"
   ]
  },
  {
   "cell_type": "code",
   "execution_count": 65,
   "id": "2d880acc",
   "metadata": {},
   "outputs": [
    {
     "data": {
      "text/plain": [
       "array([nan, 'green', 'red'], dtype=object)"
      ]
     },
     "execution_count": 65,
     "metadata": {},
     "output_type": "execute_result"
    }
   ],
   "source": [
    "# we can look for unique values in a column\n",
    "df.alert.unique()"
   ]
  },
  {
   "cell_type": "markdown",
   "id": "fa9ce4d5",
   "metadata": {},
   "source": [
    "This tells us the categories for alert are either green, red, or nan (null).  If we'd like the number of each, we can use value_counts()."
   ]
  },
  {
   "cell_type": "code",
   "execution_count": 66,
   "id": "7ad4ebea",
   "metadata": {},
   "outputs": [
    {
     "data": {
      "text/plain": [
       "green    58\n",
       "red       1\n",
       "Name: alert, dtype: int64"
      ]
     },
     "execution_count": 66,
     "metadata": {},
     "output_type": "execute_result"
    }
   ],
   "source": [
    "df.alert.value_counts()"
   ]
  },
  {
   "cell_type": "markdown",
   "id": "9de24e88",
   "metadata": {},
   "source": [
    "### Subsetting Data"
   ]
  },
  {
   "cell_type": "markdown",
   "id": "cd7b170e",
   "metadata": {},
   "source": [
    "- An entire column of a data frame can be grabbed using either attribute notation (e.g., df.mag) or dictionary syntax (e.g., df['mag']).\n",
    "- Several columns can be selected by using the columns names.  For example, df[['mag', 'place']] will give us a new data frame made of just the columns for magnitude and place.\n",
    "- Rows can be selected using row number (the first index is included, the last is not).\n",
    "- Subsets of rows and columns can be selected with chaining.\n",
    "- As seen above, we can also use loc."
   ]
  },
  {
   "cell_type": "code",
   "execution_count": 94,
   "id": "7bcfe41b",
   "metadata": {},
   "outputs": [
    {
     "data": {
      "text/plain": [
       "0                      1.35\n",
       "1                      1.29\n",
       "2                      3.42\n",
       "3                      0.44\n",
       "4                      2.16\n",
       "               ...         \n",
       "9327                   0.62\n",
       "9328                   1.00\n",
       "9329                   2.40\n",
       "9330                   1.10\n",
       "9331                   0.66\n",
       "Name: mag, Length: 9332, dtype: float64"
      ]
     },
     "execution_count": 94,
     "metadata": {},
     "output_type": "execute_result"
    }
   ],
   "source": [
    "# attribute notation\n",
    "df.mag"
   ]
  },
  {
   "cell_type": "code",
   "execution_count": 95,
   "id": "341ed0c1",
   "metadata": {},
   "outputs": [
    {
     "data": {
      "text/plain": [
       "0                      1.35\n",
       "1                      1.29\n",
       "2                      3.42\n",
       "3                      0.44\n",
       "4                      2.16\n",
       "               ...         \n",
       "9327                   0.62\n",
       "9328                   1.00\n",
       "9329                   2.40\n",
       "9330                   1.10\n",
       "9331                   0.66\n",
       "Name: mag, Length: 9332, dtype: float64"
      ]
     },
     "execution_count": 95,
     "metadata": {},
     "output_type": "execute_result"
    }
   ],
   "source": [
    "# dictionary notation\n",
    "df['mag']"
   ]
  },
  {
   "cell_type": "code",
   "execution_count": 96,
   "id": "d1cc7eb4",
   "metadata": {
    "scrolled": true
   },
   "outputs": [
    {
     "data": {
      "text/html": [
       "<div>\n",
       "<style scoped>\n",
       "    .dataframe tbody tr th:only-of-type {\n",
       "        vertical-align: middle;\n",
       "    }\n",
       "\n",
       "    .dataframe tbody tr th {\n",
       "        vertical-align: top;\n",
       "    }\n",
       "\n",
       "    .dataframe thead th {\n",
       "        text-align: right;\n",
       "    }\n",
       "</style>\n",
       "<table border=\"1\" class=\"dataframe\">\n",
       "  <thead>\n",
       "    <tr style=\"text-align: right;\">\n",
       "      <th></th>\n",
       "      <th>mag</th>\n",
       "      <th>place</th>\n",
       "    </tr>\n",
       "  </thead>\n",
       "  <tbody>\n",
       "    <tr>\n",
       "      <th>0</th>\n",
       "      <td>1.35</td>\n",
       "      <td>9km NE of Aguanga, CA</td>\n",
       "    </tr>\n",
       "    <tr>\n",
       "      <th>1</th>\n",
       "      <td>1.29</td>\n",
       "      <td>9km NE of Aguanga, CA</td>\n",
       "    </tr>\n",
       "    <tr>\n",
       "      <th>2</th>\n",
       "      <td>3.42</td>\n",
       "      <td>8km NE of Aguanga, CA</td>\n",
       "    </tr>\n",
       "    <tr>\n",
       "      <th>3</th>\n",
       "      <td>0.44</td>\n",
       "      <td>9km NE of Aguanga, CA</td>\n",
       "    </tr>\n",
       "    <tr>\n",
       "      <th>4</th>\n",
       "      <td>2.16</td>\n",
       "      <td>10km NW of Avenal, CA</td>\n",
       "    </tr>\n",
       "    <tr>\n",
       "      <th>...</th>\n",
       "      <td>...</td>\n",
       "      <td>...</td>\n",
       "    </tr>\n",
       "    <tr>\n",
       "      <th>9327</th>\n",
       "      <td>0.62</td>\n",
       "      <td>9km ENE of Mammoth Lakes, CA</td>\n",
       "    </tr>\n",
       "    <tr>\n",
       "      <th>9328</th>\n",
       "      <td>1.00</td>\n",
       "      <td>3km W of Julian, CA</td>\n",
       "    </tr>\n",
       "    <tr>\n",
       "      <th>9329</th>\n",
       "      <td>2.40</td>\n",
       "      <td>35km NNE of Hatillo, Puerto Rico</td>\n",
       "    </tr>\n",
       "    <tr>\n",
       "      <th>9330</th>\n",
       "      <td>1.10</td>\n",
       "      <td>9km NE of Aguanga, CA</td>\n",
       "    </tr>\n",
       "    <tr>\n",
       "      <th>9331</th>\n",
       "      <td>0.66</td>\n",
       "      <td>9km NE of Aguanga, CA</td>\n",
       "    </tr>\n",
       "  </tbody>\n",
       "</table>\n",
       "<p>9332 rows × 2 columns</p>\n",
       "</div>"
      ],
      "text/plain": [
       "                      mag                             place\n",
       "0                    1.35             9km NE of Aguanga, CA\n",
       "1                    1.29             9km NE of Aguanga, CA\n",
       "2                    3.42             8km NE of Aguanga, CA\n",
       "3                    0.44             9km NE of Aguanga, CA\n",
       "4                    2.16             10km NW of Avenal, CA\n",
       "...                   ...                               ...\n",
       "9327                 0.62      9km ENE of Mammoth Lakes, CA\n",
       "9328                 1.00               3km W of Julian, CA\n",
       "9329                 2.40  35km NNE of Hatillo, Puerto Rico\n",
       "9330                 1.10             9km NE of Aguanga, CA\n",
       "9331                 0.66             9km NE of Aguanga, CA\n",
       "\n",
       "[9332 rows x 2 columns]"
      ]
     },
     "execution_count": 96,
     "metadata": {},
     "output_type": "execute_result"
    }
   ],
   "source": [
    "# selecting multiple columns\n",
    "df[['mag', 'place']]"
   ]
  },
  {
   "cell_type": "code",
   "execution_count": 97,
   "id": "15d629ad",
   "metadata": {},
   "outputs": [
    {
     "data": {
      "text/html": [
       "<div>\n",
       "<style scoped>\n",
       "    .dataframe tbody tr th:only-of-type {\n",
       "        vertical-align: middle;\n",
       "    }\n",
       "\n",
       "    .dataframe tbody tr th {\n",
       "        vertical-align: top;\n",
       "    }\n",
       "\n",
       "    .dataframe thead th {\n",
       "        text-align: right;\n",
       "    }\n",
       "</style>\n",
       "<table border=\"1\" class=\"dataframe\">\n",
       "  <thead>\n",
       "    <tr style=\"text-align: right;\">\n",
       "      <th></th>\n",
       "      <th>alert</th>\n",
       "      <th>cdi</th>\n",
       "      <th>code</th>\n",
       "      <th>detail</th>\n",
       "      <th>dmin</th>\n",
       "      <th>felt</th>\n",
       "      <th>gap</th>\n",
       "      <th>ids</th>\n",
       "      <th>mag</th>\n",
       "      <th>magType</th>\n",
       "      <th>...</th>\n",
       "      <th>sources</th>\n",
       "      <th>status</th>\n",
       "      <th>time</th>\n",
       "      <th>title</th>\n",
       "      <th>tsunami</th>\n",
       "      <th>type</th>\n",
       "      <th>types</th>\n",
       "      <th>tz</th>\n",
       "      <th>updated</th>\n",
       "      <th>url</th>\n",
       "    </tr>\n",
       "  </thead>\n",
       "  <tbody>\n",
       "    <tr>\n",
       "      <th>0</th>\n",
       "      <td>NaN</td>\n",
       "      <td>NaN</td>\n",
       "      <td>37389218</td>\n",
       "      <td>https://earthquake.usgs.gov/fdsnws/event/1/que...</td>\n",
       "      <td>0.01</td>\n",
       "      <td>NaN</td>\n",
       "      <td>85.00</td>\n",
       "      <td>,ci37389218,</td>\n",
       "      <td>1.35</td>\n",
       "      <td>ml</td>\n",
       "      <td>...</td>\n",
       "      <td>,ci,</td>\n",
       "      <td>automatic</td>\n",
       "      <td>1539475168010</td>\n",
       "      <td>M 1.4 - 9km NE of Aguanga, CA</td>\n",
       "      <td>0</td>\n",
       "      <td>earthquake</td>\n",
       "      <td>,geoserve,nearby-cities,origin,phase-data,</td>\n",
       "      <td>-480.00</td>\n",
       "      <td>1539475395144</td>\n",
       "      <td>https://earthquake.usgs.gov/earthquakes/eventp...</td>\n",
       "    </tr>\n",
       "    <tr>\n",
       "      <th>1</th>\n",
       "      <td>NaN</td>\n",
       "      <td>NaN</td>\n",
       "      <td>37389202</td>\n",
       "      <td>https://earthquake.usgs.gov/fdsnws/event/1/que...</td>\n",
       "      <td>0.02</td>\n",
       "      <td>NaN</td>\n",
       "      <td>79.00</td>\n",
       "      <td>,ci37389202,</td>\n",
       "      <td>1.29</td>\n",
       "      <td>ml</td>\n",
       "      <td>...</td>\n",
       "      <td>,ci,</td>\n",
       "      <td>automatic</td>\n",
       "      <td>1539475129610</td>\n",
       "      <td>M 1.3 - 9km NE of Aguanga, CA</td>\n",
       "      <td>0</td>\n",
       "      <td>earthquake</td>\n",
       "      <td>,geoserve,nearby-cities,origin,phase-data,</td>\n",
       "      <td>-480.00</td>\n",
       "      <td>1539475253925</td>\n",
       "      <td>https://earthquake.usgs.gov/earthquakes/eventp...</td>\n",
       "    </tr>\n",
       "    <tr>\n",
       "      <th>2</th>\n",
       "      <td>NaN</td>\n",
       "      <td>4.40</td>\n",
       "      <td>37389194</td>\n",
       "      <td>https://earthquake.usgs.gov/fdsnws/event/1/que...</td>\n",
       "      <td>0.02</td>\n",
       "      <td>28.00</td>\n",
       "      <td>21.00</td>\n",
       "      <td>,ci37389194,</td>\n",
       "      <td>3.42</td>\n",
       "      <td>ml</td>\n",
       "      <td>...</td>\n",
       "      <td>,ci,</td>\n",
       "      <td>automatic</td>\n",
       "      <td>1539475062610</td>\n",
       "      <td>M 3.4 - 8km NE of Aguanga, CA</td>\n",
       "      <td>0</td>\n",
       "      <td>earthquake</td>\n",
       "      <td>,dyfi,focal-mechanism,geoserve,nearby-cities,o...</td>\n",
       "      <td>-480.00</td>\n",
       "      <td>1539536756176</td>\n",
       "      <td>https://earthquake.usgs.gov/earthquakes/eventp...</td>\n",
       "    </tr>\n",
       "    <tr>\n",
       "      <th>3</th>\n",
       "      <td>NaN</td>\n",
       "      <td>NaN</td>\n",
       "      <td>37389186</td>\n",
       "      <td>https://earthquake.usgs.gov/fdsnws/event/1/que...</td>\n",
       "      <td>0.03</td>\n",
       "      <td>NaN</td>\n",
       "      <td>39.00</td>\n",
       "      <td>,ci37389186,</td>\n",
       "      <td>0.44</td>\n",
       "      <td>ml</td>\n",
       "      <td>...</td>\n",
       "      <td>,ci,</td>\n",
       "      <td>automatic</td>\n",
       "      <td>1539474978070</td>\n",
       "      <td>M 0.4 - 9km NE of Aguanga, CA</td>\n",
       "      <td>0</td>\n",
       "      <td>earthquake</td>\n",
       "      <td>,geoserve,nearby-cities,origin,phase-data,</td>\n",
       "      <td>-480.00</td>\n",
       "      <td>1539475196167</td>\n",
       "      <td>https://earthquake.usgs.gov/earthquakes/eventp...</td>\n",
       "    </tr>\n",
       "  </tbody>\n",
       "</table>\n",
       "<p>4 rows × 26 columns</p>\n",
       "</div>"
      ],
      "text/plain": [
       "  alert                  cdi      code  \\\n",
       "0   NaN                  NaN  37389218   \n",
       "1   NaN                  NaN  37389202   \n",
       "2   NaN                 4.40  37389194   \n",
       "3   NaN                  NaN  37389186   \n",
       "\n",
       "                                              detail                 dmin  \\\n",
       "0  https://earthquake.usgs.gov/fdsnws/event/1/que...                 0.01   \n",
       "1  https://earthquake.usgs.gov/fdsnws/event/1/que...                 0.02   \n",
       "2  https://earthquake.usgs.gov/fdsnws/event/1/que...                 0.02   \n",
       "3  https://earthquake.usgs.gov/fdsnws/event/1/que...                 0.03   \n",
       "\n",
       "                  felt                  gap           ids  \\\n",
       "0                  NaN                85.00  ,ci37389218,   \n",
       "1                  NaN                79.00  ,ci37389202,   \n",
       "2                28.00                21.00  ,ci37389194,   \n",
       "3                  NaN                39.00  ,ci37389186,   \n",
       "\n",
       "                   mag magType  ...  sources     status           time  \\\n",
       "0                 1.35      ml  ...     ,ci,  automatic  1539475168010   \n",
       "1                 1.29      ml  ...     ,ci,  automatic  1539475129610   \n",
       "2                 3.42      ml  ...     ,ci,  automatic  1539475062610   \n",
       "3                 0.44      ml  ...     ,ci,  automatic  1539474978070   \n",
       "\n",
       "                           title  tsunami        type  \\\n",
       "0  M 1.4 - 9km NE of Aguanga, CA        0  earthquake   \n",
       "1  M 1.3 - 9km NE of Aguanga, CA        0  earthquake   \n",
       "2  M 3.4 - 8km NE of Aguanga, CA        0  earthquake   \n",
       "3  M 0.4 - 9km NE of Aguanga, CA        0  earthquake   \n",
       "\n",
       "                                               types                   tz  \\\n",
       "0         ,geoserve,nearby-cities,origin,phase-data,              -480.00   \n",
       "1         ,geoserve,nearby-cities,origin,phase-data,              -480.00   \n",
       "2  ,dyfi,focal-mechanism,geoserve,nearby-cities,o...              -480.00   \n",
       "3         ,geoserve,nearby-cities,origin,phase-data,              -480.00   \n",
       "\n",
       "         updated                                                url  \n",
       "0  1539475395144  https://earthquake.usgs.gov/earthquakes/eventp...  \n",
       "1  1539475253925  https://earthquake.usgs.gov/earthquakes/eventp...  \n",
       "2  1539536756176  https://earthquake.usgs.gov/earthquakes/eventp...  \n",
       "3  1539475196167  https://earthquake.usgs.gov/earthquakes/eventp...  \n",
       "\n",
       "[4 rows x 26 columns]"
      ]
     },
     "execution_count": 97,
     "metadata": {},
     "output_type": "execute_result"
    }
   ],
   "source": [
    "# select rows 0 through 3\n",
    "df[0:4]"
   ]
  },
  {
   "cell_type": "code",
   "execution_count": 98,
   "id": "b278cf90",
   "metadata": {},
   "outputs": [
    {
     "data": {
      "text/html": [
       "<div>\n",
       "<style scoped>\n",
       "    .dataframe tbody tr th:only-of-type {\n",
       "        vertical-align: middle;\n",
       "    }\n",
       "\n",
       "    .dataframe tbody tr th {\n",
       "        vertical-align: top;\n",
       "    }\n",
       "\n",
       "    .dataframe thead th {\n",
       "        text-align: right;\n",
       "    }\n",
       "</style>\n",
       "<table border=\"1\" class=\"dataframe\">\n",
       "  <thead>\n",
       "    <tr style=\"text-align: right;\">\n",
       "      <th></th>\n",
       "      <th>mag</th>\n",
       "      <th>place</th>\n",
       "    </tr>\n",
       "  </thead>\n",
       "  <tbody>\n",
       "    <tr>\n",
       "      <th>0</th>\n",
       "      <td>1.35</td>\n",
       "      <td>9km NE of Aguanga, CA</td>\n",
       "    </tr>\n",
       "    <tr>\n",
       "      <th>1</th>\n",
       "      <td>1.29</td>\n",
       "      <td>9km NE of Aguanga, CA</td>\n",
       "    </tr>\n",
       "    <tr>\n",
       "      <th>2</th>\n",
       "      <td>3.42</td>\n",
       "      <td>8km NE of Aguanga, CA</td>\n",
       "    </tr>\n",
       "    <tr>\n",
       "      <th>3</th>\n",
       "      <td>0.44</td>\n",
       "      <td>9km NE of Aguanga, CA</td>\n",
       "    </tr>\n",
       "  </tbody>\n",
       "</table>\n",
       "</div>"
      ],
      "text/plain": [
       "                   mag                  place\n",
       "0                 1.35  9km NE of Aguanga, CA\n",
       "1                 1.29  9km NE of Aguanga, CA\n",
       "2                 3.42  8km NE of Aguanga, CA\n",
       "3                 0.44  9km NE of Aguanga, CA"
      ]
     },
     "execution_count": 98,
     "metadata": {},
     "output_type": "execute_result"
    }
   ],
   "source": [
    "# chaining to select specific columns and rows\n",
    "df[['mag', 'place']][0:4] # select colums mag and place and rows 0 through 3"
   ]
  },
  {
   "cell_type": "markdown",
   "id": "0bab0487",
   "metadata": {},
   "source": [
    "### Indexing\n"
   ]
  },
  {
   "cell_type": "code",
   "execution_count": 42,
   "id": "bc0463f6",
   "metadata": {},
   "outputs": [
    {
     "data": {
      "text/html": [
       "<div>\n",
       "<style scoped>\n",
       "    .dataframe tbody tr th:only-of-type {\n",
       "        vertical-align: middle;\n",
       "    }\n",
       "\n",
       "    .dataframe tbody tr th {\n",
       "        vertical-align: top;\n",
       "    }\n",
       "\n",
       "    .dataframe thead th {\n",
       "        text-align: right;\n",
       "    }\n",
       "</style>\n",
       "<table border=\"1\" class=\"dataframe\">\n",
       "  <thead>\n",
       "    <tr style=\"text-align: right;\">\n",
       "      <th></th>\n",
       "      <th>mag</th>\n",
       "      <th>place</th>\n",
       "    </tr>\n",
       "  </thead>\n",
       "  <tbody>\n",
       "    <tr>\n",
       "      <th>0</th>\n",
       "      <td>1.35</td>\n",
       "      <td>9km NE of Aguanga, CA</td>\n",
       "    </tr>\n",
       "    <tr>\n",
       "      <th>1</th>\n",
       "      <td>1.29</td>\n",
       "      <td>9km NE of Aguanga, CA</td>\n",
       "    </tr>\n",
       "    <tr>\n",
       "      <th>2</th>\n",
       "      <td>3.42</td>\n",
       "      <td>8km NE of Aguanga, CA</td>\n",
       "    </tr>\n",
       "    <tr>\n",
       "      <th>3</th>\n",
       "      <td>0.44</td>\n",
       "      <td>9km NE of Aguanga, CA</td>\n",
       "    </tr>\n",
       "  </tbody>\n",
       "</table>\n",
       "</div>"
      ],
      "text/plain": [
       "    mag                  place\n",
       "0  1.35  9km NE of Aguanga, CA\n",
       "1  1.29  9km NE of Aguanga, CA\n",
       "2  3.42  8km NE of Aguanga, CA\n",
       "3  0.44  9km NE of Aguanga, CA"
      ]
     },
     "execution_count": 42,
     "metadata": {},
     "output_type": "execute_result"
    }
   ],
   "source": [
    "# loc lets us make these selections without chaining-- note: row index is inclusive with loc\n",
    "df.loc[0:3, ['mag', 'place']] # select colums mag and place and rows 0 through 3"
   ]
  },
  {
   "cell_type": "markdown",
   "id": "dd6769d1",
   "metadata": {},
   "source": [
    "### Accessing a Specific Value\n",
    "If we want to access the magnitude of the earthquake with index 2, we can use at."
   ]
  },
  {
   "cell_type": "code",
   "execution_count": 43,
   "id": "af9ee37b",
   "metadata": {},
   "outputs": [
    {
     "data": {
      "text/plain": [
       "3.42"
      ]
     },
     "execution_count": 43,
     "metadata": {},
     "output_type": "execute_result"
    }
   ],
   "source": [
    "df.at[2, 'mag']"
   ]
  },
  {
   "cell_type": "markdown",
   "id": "44ab13f4",
   "metadata": {},
   "source": [
    "### Filtering\n",
    "We might be interested only in earthquakes with a magnitude greater than or equal to 7."
   ]
  },
  {
   "cell_type": "code",
   "execution_count": 44,
   "id": "5d814e2a",
   "metadata": {},
   "outputs": [
    {
     "data": {
      "text/html": [
       "<div>\n",
       "<style scoped>\n",
       "    .dataframe tbody tr th:only-of-type {\n",
       "        vertical-align: middle;\n",
       "    }\n",
       "\n",
       "    .dataframe tbody tr th {\n",
       "        vertical-align: top;\n",
       "    }\n",
       "\n",
       "    .dataframe thead th {\n",
       "        text-align: right;\n",
       "    }\n",
       "</style>\n",
       "<table border=\"1\" class=\"dataframe\">\n",
       "  <thead>\n",
       "    <tr style=\"text-align: right;\">\n",
       "      <th></th>\n",
       "      <th>alert</th>\n",
       "      <th>cdi</th>\n",
       "      <th>code</th>\n",
       "      <th>detail</th>\n",
       "      <th>dmin</th>\n",
       "      <th>felt</th>\n",
       "      <th>gap</th>\n",
       "      <th>ids</th>\n",
       "      <th>mag</th>\n",
       "      <th>magType</th>\n",
       "      <th>...</th>\n",
       "      <th>sources</th>\n",
       "      <th>status</th>\n",
       "      <th>time</th>\n",
       "      <th>title</th>\n",
       "      <th>tsunami</th>\n",
       "      <th>type</th>\n",
       "      <th>types</th>\n",
       "      <th>tz</th>\n",
       "      <th>updated</th>\n",
       "      <th>url</th>\n",
       "    </tr>\n",
       "  </thead>\n",
       "  <tbody>\n",
       "    <tr>\n",
       "      <th>837</th>\n",
       "      <td>green</td>\n",
       "      <td>4.1</td>\n",
       "      <td>1000haa3</td>\n",
       "      <td>https://earthquake.usgs.gov/fdsnws/event/1/que...</td>\n",
       "      <td>1.763</td>\n",
       "      <td>3.0</td>\n",
       "      <td>14.0</td>\n",
       "      <td>,us1000haa3,pt18283003,at00pgehsk,</td>\n",
       "      <td>7.0</td>\n",
       "      <td>mww</td>\n",
       "      <td>...</td>\n",
       "      <td>,us,pt,at,</td>\n",
       "      <td>reviewed</td>\n",
       "      <td>1539204500290</td>\n",
       "      <td>M 7.0 - 117km E of Kimbe, Papua New Guinea</td>\n",
       "      <td>1</td>\n",
       "      <td>earthquake</td>\n",
       "      <td>,dyfi,finite-fault,general-text,geoserve,groun...</td>\n",
       "      <td>600.0</td>\n",
       "      <td>1539378744253</td>\n",
       "      <td>https://earthquake.usgs.gov/earthquakes/eventp...</td>\n",
       "    </tr>\n",
       "    <tr>\n",
       "      <th>5263</th>\n",
       "      <td>red</td>\n",
       "      <td>8.4</td>\n",
       "      <td>1000h3p4</td>\n",
       "      <td>https://earthquake.usgs.gov/fdsnws/event/1/que...</td>\n",
       "      <td>1.589</td>\n",
       "      <td>18.0</td>\n",
       "      <td>27.0</td>\n",
       "      <td>,us1000h3p4,us1000h4p4,</td>\n",
       "      <td>7.5</td>\n",
       "      <td>mww</td>\n",
       "      <td>...</td>\n",
       "      <td>,us,us,</td>\n",
       "      <td>reviewed</td>\n",
       "      <td>1538128963480</td>\n",
       "      <td>M 7.5 - 78km N of Palu, Indonesia</td>\n",
       "      <td>1</td>\n",
       "      <td>earthquake</td>\n",
       "      <td>,dyfi,finite-fault,general-text,geoserve,groun...</td>\n",
       "      <td>480.0</td>\n",
       "      <td>1539123134531</td>\n",
       "      <td>https://earthquake.usgs.gov/earthquakes/eventp...</td>\n",
       "    </tr>\n",
       "  </tbody>\n",
       "</table>\n",
       "<p>2 rows × 26 columns</p>\n",
       "</div>"
      ],
      "text/plain": [
       "      alert  cdi      code                                             detail  \\\n",
       "837   green  4.1  1000haa3  https://earthquake.usgs.gov/fdsnws/event/1/que...   \n",
       "5263    red  8.4  1000h3p4  https://earthquake.usgs.gov/fdsnws/event/1/que...   \n",
       "\n",
       "       dmin  felt   gap                                 ids  mag magType  ...  \\\n",
       "837   1.763   3.0  14.0  ,us1000haa3,pt18283003,at00pgehsk,  7.0     mww  ...   \n",
       "5263  1.589  18.0  27.0             ,us1000h3p4,us1000h4p4,  7.5     mww  ...   \n",
       "\n",
       "         sources    status           time  \\\n",
       "837   ,us,pt,at,  reviewed  1539204500290   \n",
       "5263     ,us,us,  reviewed  1538128963480   \n",
       "\n",
       "                                           title  tsunami        type  \\\n",
       "837   M 7.0 - 117km E of Kimbe, Papua New Guinea        1  earthquake   \n",
       "5263           M 7.5 - 78km N of Palu, Indonesia        1  earthquake   \n",
       "\n",
       "                                                  types     tz        updated  \\\n",
       "837   ,dyfi,finite-fault,general-text,geoserve,groun...  600.0  1539378744253   \n",
       "5263  ,dyfi,finite-fault,general-text,geoserve,groun...  480.0  1539123134531   \n",
       "\n",
       "                                                    url  \n",
       "837   https://earthquake.usgs.gov/earthquakes/eventp...  \n",
       "5263  https://earthquake.usgs.gov/earthquakes/eventp...  \n",
       "\n",
       "[2 rows x 26 columns]"
      ]
     },
     "execution_count": 44,
     "metadata": {},
     "output_type": "execute_result"
    }
   ],
   "source": [
    "# keep only the rows where this boolean statement is true\n",
    "df[df.mag >= 7]"
   ]
  },
  {
   "cell_type": "markdown",
   "id": "943340fc",
   "metadata": {},
   "source": [
    "We might also be interested in keeping earthquakes with a magnitude greater than or equal to 7 or earthquakes which caused a tsunami.  We might not need all the columns, so can specifically ask for just the ones we would like to see."
   ]
  },
  {
   "cell_type": "code",
   "execution_count": 45,
   "id": "0fe2f326",
   "metadata": {},
   "outputs": [
    {
     "data": {
      "text/html": [
       "<div>\n",
       "<style scoped>\n",
       "    .dataframe tbody tr th:only-of-type {\n",
       "        vertical-align: middle;\n",
       "    }\n",
       "\n",
       "    .dataframe tbody tr th {\n",
       "        vertical-align: top;\n",
       "    }\n",
       "\n",
       "    .dataframe thead th {\n",
       "        text-align: right;\n",
       "    }\n",
       "</style>\n",
       "<table border=\"1\" class=\"dataframe\">\n",
       "  <thead>\n",
       "    <tr style=\"text-align: right;\">\n",
       "      <th></th>\n",
       "      <th>mag</th>\n",
       "      <th>title</th>\n",
       "      <th>tsunami</th>\n",
       "      <th>place</th>\n",
       "    </tr>\n",
       "  </thead>\n",
       "  <tbody>\n",
       "    <tr>\n",
       "      <th>36</th>\n",
       "      <td>5.0</td>\n",
       "      <td>M 5.0 - 165km NNW of Flying Fish Cove, Christm...</td>\n",
       "      <td>1</td>\n",
       "      <td>165km NNW of Flying Fish Cove, Christmas Island</td>\n",
       "    </tr>\n",
       "    <tr>\n",
       "      <th>118</th>\n",
       "      <td>6.7</td>\n",
       "      <td>M 6.7 - 262km NW of Ozernovskiy, Russia</td>\n",
       "      <td>1</td>\n",
       "      <td>262km NW of Ozernovskiy, Russia</td>\n",
       "    </tr>\n",
       "    <tr>\n",
       "      <th>501</th>\n",
       "      <td>5.6</td>\n",
       "      <td>M 5.6 - 128km SE of Kimbe, Papua New Guinea</td>\n",
       "      <td>1</td>\n",
       "      <td>128km SE of Kimbe, Papua New Guinea</td>\n",
       "    </tr>\n",
       "    <tr>\n",
       "      <th>799</th>\n",
       "      <td>6.5</td>\n",
       "      <td>M 6.5 - 148km S of Severo-Kuril'sk, Russia</td>\n",
       "      <td>1</td>\n",
       "      <td>148km S of Severo-Kuril'sk, Russia</td>\n",
       "    </tr>\n",
       "    <tr>\n",
       "      <th>816</th>\n",
       "      <td>6.2</td>\n",
       "      <td>M 6.2 - 94km SW of Kokopo, Papua New Guinea</td>\n",
       "      <td>1</td>\n",
       "      <td>94km SW of Kokopo, Papua New Guinea</td>\n",
       "    </tr>\n",
       "    <tr>\n",
       "      <th>...</th>\n",
       "      <td>...</td>\n",
       "      <td>...</td>\n",
       "      <td>...</td>\n",
       "      <td>...</td>\n",
       "    </tr>\n",
       "    <tr>\n",
       "      <th>8561</th>\n",
       "      <td>5.4</td>\n",
       "      <td>M 5.4 - 228km S of Taron, Papua New Guinea</td>\n",
       "      <td>1</td>\n",
       "      <td>228km S of Taron, Papua New Guinea</td>\n",
       "    </tr>\n",
       "    <tr>\n",
       "      <th>8624</th>\n",
       "      <td>5.1</td>\n",
       "      <td>M 5.1 - 278km SE of Pondaguitan, Philippines</td>\n",
       "      <td>1</td>\n",
       "      <td>278km SE of Pondaguitan, Philippines</td>\n",
       "    </tr>\n",
       "    <tr>\n",
       "      <th>9133</th>\n",
       "      <td>5.1</td>\n",
       "      <td>M 5.1 - 64km SSW of Kaktovik, Alaska</td>\n",
       "      <td>1</td>\n",
       "      <td>64km SSW of Kaktovik, Alaska</td>\n",
       "    </tr>\n",
       "    <tr>\n",
       "      <th>9175</th>\n",
       "      <td>5.2</td>\n",
       "      <td>M 5.2 - 126km N of Dili, East Timor</td>\n",
       "      <td>1</td>\n",
       "      <td>126km N of Dili, East Timor</td>\n",
       "    </tr>\n",
       "    <tr>\n",
       "      <th>9304</th>\n",
       "      <td>5.1</td>\n",
       "      <td>M 5.1 - 34km NW of Finschhafen, Papua New Guinea</td>\n",
       "      <td>1</td>\n",
       "      <td>34km NW of Finschhafen, Papua New Guinea</td>\n",
       "    </tr>\n",
       "  </tbody>\n",
       "</table>\n",
       "<p>61 rows × 4 columns</p>\n",
       "</div>"
      ],
      "text/plain": [
       "      mag                                              title  tsunami  \\\n",
       "36    5.0  M 5.0 - 165km NNW of Flying Fish Cove, Christm...        1   \n",
       "118   6.7            M 6.7 - 262km NW of Ozernovskiy, Russia        1   \n",
       "501   5.6        M 5.6 - 128km SE of Kimbe, Papua New Guinea        1   \n",
       "799   6.5         M 6.5 - 148km S of Severo-Kuril'sk, Russia        1   \n",
       "816   6.2        M 6.2 - 94km SW of Kokopo, Papua New Guinea        1   \n",
       "...   ...                                                ...      ...   \n",
       "8561  5.4         M 5.4 - 228km S of Taron, Papua New Guinea        1   \n",
       "8624  5.1       M 5.1 - 278km SE of Pondaguitan, Philippines        1   \n",
       "9133  5.1               M 5.1 - 64km SSW of Kaktovik, Alaska        1   \n",
       "9175  5.2                M 5.2 - 126km N of Dili, East Timor        1   \n",
       "9304  5.1   M 5.1 - 34km NW of Finschhafen, Papua New Guinea        1   \n",
       "\n",
       "                                                place  \n",
       "36    165km NNW of Flying Fish Cove, Christmas Island  \n",
       "118                   262km NW of Ozernovskiy, Russia  \n",
       "501               128km SE of Kimbe, Papua New Guinea  \n",
       "799                148km S of Severo-Kuril'sk, Russia  \n",
       "816               94km SW of Kokopo, Papua New Guinea  \n",
       "...                                               ...  \n",
       "8561               228km S of Taron, Papua New Guinea  \n",
       "8624             278km SE of Pondaguitan, Philippines  \n",
       "9133                     64km SSW of Kaktovik, Alaska  \n",
       "9175                      126km N of Dili, East Timor  \n",
       "9304         34km NW of Finschhafen, Papua New Guinea  \n",
       "\n",
       "[61 rows x 4 columns]"
      ]
     },
     "execution_count": 45,
     "metadata": {},
     "output_type": "execute_result"
    }
   ],
   "source": [
    "df.loc[\n",
    "    (df.tsunami == 1) | (df.mag >= 7),\n",
    "    ['mag', 'title', 'tsunami', 'place']\n",
    "]"
   ]
  },
  {
   "cell_type": "markdown",
   "id": "c347332f",
   "metadata": {},
   "source": [
    "We can also subset on earthquakes in California."
   ]
  },
  {
   "cell_type": "code",
   "execution_count": 47,
   "id": "b8118688",
   "metadata": {
    "scrolled": false
   },
   "outputs": [
    {
     "data": {
      "text/html": [
       "<div>\n",
       "<style scoped>\n",
       "    .dataframe tbody tr th:only-of-type {\n",
       "        vertical-align: middle;\n",
       "    }\n",
       "\n",
       "    .dataframe tbody tr th {\n",
       "        vertical-align: top;\n",
       "    }\n",
       "\n",
       "    .dataframe thead th {\n",
       "        text-align: right;\n",
       "    }\n",
       "</style>\n",
       "<table border=\"1\" class=\"dataframe\">\n",
       "  <thead>\n",
       "    <tr style=\"text-align: right;\">\n",
       "      <th></th>\n",
       "      <th>mag</th>\n",
       "      <th>title</th>\n",
       "      <th>tsunami</th>\n",
       "      <th>place</th>\n",
       "    </tr>\n",
       "  </thead>\n",
       "  <tbody>\n",
       "    <tr>\n",
       "      <th>71</th>\n",
       "      <td>0.7</td>\n",
       "      <td>M 0.7 - 36km ENE of Big Pine, California</td>\n",
       "      <td>0</td>\n",
       "      <td>36km ENE of Big Pine, California</td>\n",
       "    </tr>\n",
       "    <tr>\n",
       "      <th>84</th>\n",
       "      <td>1.1</td>\n",
       "      <td>M 1.1 - 14km NE of East Quincy, California</td>\n",
       "      <td>0</td>\n",
       "      <td>14km NE of East Quincy, California</td>\n",
       "    </tr>\n",
       "    <tr>\n",
       "      <th>96</th>\n",
       "      <td>0.9</td>\n",
       "      <td>M 0.9 - 60km E of Big Pine, California</td>\n",
       "      <td>0</td>\n",
       "      <td>60km E of Big Pine, California</td>\n",
       "    </tr>\n",
       "    <tr>\n",
       "      <th>162</th>\n",
       "      <td>1.1</td>\n",
       "      <td>M 1.1 - 29km ENE of Bridgeport, California</td>\n",
       "      <td>0</td>\n",
       "      <td>29km ENE of Bridgeport, California</td>\n",
       "    </tr>\n",
       "    <tr>\n",
       "      <th>292</th>\n",
       "      <td>0.6</td>\n",
       "      <td>M 0.6 - 7km WNW of Tahoe Vista, California</td>\n",
       "      <td>0</td>\n",
       "      <td>7km WNW of Tahoe Vista, California</td>\n",
       "    </tr>\n",
       "    <tr>\n",
       "      <th>...</th>\n",
       "      <td>...</td>\n",
       "      <td>...</td>\n",
       "      <td>...</td>\n",
       "      <td>...</td>\n",
       "    </tr>\n",
       "    <tr>\n",
       "      <th>8974</th>\n",
       "      <td>1.0</td>\n",
       "      <td>M 1.0 - 41km ESE of Big Pine, California</td>\n",
       "      <td>0</td>\n",
       "      <td>41km ESE of Big Pine, California</td>\n",
       "    </tr>\n",
       "    <tr>\n",
       "      <th>9140</th>\n",
       "      <td>0.8</td>\n",
       "      <td>M 0.8 - 54km N of Fort Irwin, California</td>\n",
       "      <td>0</td>\n",
       "      <td>54km N of Fort Irwin, California</td>\n",
       "    </tr>\n",
       "    <tr>\n",
       "      <th>9162</th>\n",
       "      <td>0.8</td>\n",
       "      <td>M 0.8 - 14km SSE of Big Pine, California</td>\n",
       "      <td>0</td>\n",
       "      <td>14km SSE of Big Pine, California</td>\n",
       "    </tr>\n",
       "    <tr>\n",
       "      <th>9235</th>\n",
       "      <td>0.0</td>\n",
       "      <td>M 0.0 - 60km E of Big Pine, California</td>\n",
       "      <td>0</td>\n",
       "      <td>60km E of Big Pine, California</td>\n",
       "    </tr>\n",
       "    <tr>\n",
       "      <th>9298</th>\n",
       "      <td>1.1</td>\n",
       "      <td>M 1.1 - 23km WNW of Bridgeport, California</td>\n",
       "      <td>0</td>\n",
       "      <td>23km WNW of Bridgeport, California</td>\n",
       "    </tr>\n",
       "  </tbody>\n",
       "</table>\n",
       "<p>124 rows × 4 columns</p>\n",
       "</div>"
      ],
      "text/plain": [
       "      mag                                       title  tsunami  \\\n",
       "71    0.7    M 0.7 - 36km ENE of Big Pine, California        0   \n",
       "84    1.1  M 1.1 - 14km NE of East Quincy, California        0   \n",
       "96    0.9      M 0.9 - 60km E of Big Pine, California        0   \n",
       "162   1.1  M 1.1 - 29km ENE of Bridgeport, California        0   \n",
       "292   0.6  M 0.6 - 7km WNW of Tahoe Vista, California        0   \n",
       "...   ...                                         ...      ...   \n",
       "8974  1.0    M 1.0 - 41km ESE of Big Pine, California        0   \n",
       "9140  0.8    M 0.8 - 54km N of Fort Irwin, California        0   \n",
       "9162  0.8    M 0.8 - 14km SSE of Big Pine, California        0   \n",
       "9235  0.0      M 0.0 - 60km E of Big Pine, California        0   \n",
       "9298  1.1  M 1.1 - 23km WNW of Bridgeport, California        0   \n",
       "\n",
       "                                   place  \n",
       "71      36km ENE of Big Pine, California  \n",
       "84    14km NE of East Quincy, California  \n",
       "96        60km E of Big Pine, California  \n",
       "162   29km ENE of Bridgeport, California  \n",
       "292   7km WNW of Tahoe Vista, California  \n",
       "...                                  ...  \n",
       "8974    41km ESE of Big Pine, California  \n",
       "9140    54km N of Fort Irwin, California  \n",
       "9162    14km SSE of Big Pine, California  \n",
       "9235      60km E of Big Pine, California  \n",
       "9298  23km WNW of Bridgeport, California  \n",
       "\n",
       "[124 rows x 4 columns]"
      ]
     },
     "execution_count": 47,
     "metadata": {},
     "output_type": "execute_result"
    }
   ],
   "source": [
    "df.loc[\n",
    "    (df.place.str.contains('California')),\n",
    "    ['mag', 'title', 'tsunami', 'place']\n",
    "]"
   ]
  },
  {
   "cell_type": "markdown",
   "id": "3ebc8672",
   "metadata": {},
   "source": [
    "We might have missed some-- the USGS has tagged some locations as California and some as CA."
   ]
  },
  {
   "cell_type": "code",
   "execution_count": 52,
   "id": "36a3e64f",
   "metadata": {},
   "outputs": [
    {
     "data": {
      "text/html": [
       "<div>\n",
       "<style scoped>\n",
       "    .dataframe tbody tr th:only-of-type {\n",
       "        vertical-align: middle;\n",
       "    }\n",
       "\n",
       "    .dataframe tbody tr th {\n",
       "        vertical-align: top;\n",
       "    }\n",
       "\n",
       "    .dataframe thead th {\n",
       "        text-align: right;\n",
       "    }\n",
       "</style>\n",
       "<table border=\"1\" class=\"dataframe\">\n",
       "  <thead>\n",
       "    <tr style=\"text-align: right;\">\n",
       "      <th></th>\n",
       "      <th>mag</th>\n",
       "      <th>title</th>\n",
       "      <th>tsunami</th>\n",
       "      <th>place</th>\n",
       "    </tr>\n",
       "  </thead>\n",
       "  <tbody>\n",
       "    <tr>\n",
       "      <th>0</th>\n",
       "      <td>1.35</td>\n",
       "      <td>M 1.4 - 9km NE of Aguanga, CA</td>\n",
       "      <td>0</td>\n",
       "      <td>9km NE of Aguanga, CA</td>\n",
       "    </tr>\n",
       "    <tr>\n",
       "      <th>1</th>\n",
       "      <td>1.29</td>\n",
       "      <td>M 1.3 - 9km NE of Aguanga, CA</td>\n",
       "      <td>0</td>\n",
       "      <td>9km NE of Aguanga, CA</td>\n",
       "    </tr>\n",
       "    <tr>\n",
       "      <th>2</th>\n",
       "      <td>3.42</td>\n",
       "      <td>M 3.4 - 8km NE of Aguanga, CA</td>\n",
       "      <td>0</td>\n",
       "      <td>8km NE of Aguanga, CA</td>\n",
       "    </tr>\n",
       "    <tr>\n",
       "      <th>3</th>\n",
       "      <td>0.44</td>\n",
       "      <td>M 0.4 - 9km NE of Aguanga, CA</td>\n",
       "      <td>0</td>\n",
       "      <td>9km NE of Aguanga, CA</td>\n",
       "    </tr>\n",
       "    <tr>\n",
       "      <th>4</th>\n",
       "      <td>2.16</td>\n",
       "      <td>M 2.2 - 10km NW of Avenal, CA</td>\n",
       "      <td>0</td>\n",
       "      <td>10km NW of Avenal, CA</td>\n",
       "    </tr>\n",
       "    <tr>\n",
       "      <th>...</th>\n",
       "      <td>...</td>\n",
       "      <td>...</td>\n",
       "      <td>...</td>\n",
       "      <td>...</td>\n",
       "    </tr>\n",
       "    <tr>\n",
       "      <th>9326</th>\n",
       "      <td>1.82</td>\n",
       "      <td>M 1.8 - 4km W of Julian, CA</td>\n",
       "      <td>0</td>\n",
       "      <td>4km W of Julian, CA</td>\n",
       "    </tr>\n",
       "    <tr>\n",
       "      <th>9327</th>\n",
       "      <td>0.62</td>\n",
       "      <td>M 0.6 - 9km ENE of Mammoth Lakes, CA</td>\n",
       "      <td>0</td>\n",
       "      <td>9km ENE of Mammoth Lakes, CA</td>\n",
       "    </tr>\n",
       "    <tr>\n",
       "      <th>9328</th>\n",
       "      <td>1.00</td>\n",
       "      <td>M 1.0 - 3km W of Julian, CA</td>\n",
       "      <td>0</td>\n",
       "      <td>3km W of Julian, CA</td>\n",
       "    </tr>\n",
       "    <tr>\n",
       "      <th>9330</th>\n",
       "      <td>1.10</td>\n",
       "      <td>M 1.1 - 9km NE of Aguanga, CA</td>\n",
       "      <td>0</td>\n",
       "      <td>9km NE of Aguanga, CA</td>\n",
       "    </tr>\n",
       "    <tr>\n",
       "      <th>9331</th>\n",
       "      <td>0.66</td>\n",
       "      <td>M 0.7 - 9km NE of Aguanga, CA</td>\n",
       "      <td>0</td>\n",
       "      <td>9km NE of Aguanga, CA</td>\n",
       "    </tr>\n",
       "  </tbody>\n",
       "</table>\n",
       "<p>2861 rows × 4 columns</p>\n",
       "</div>"
      ],
      "text/plain": [
       "       mag                                 title  tsunami  \\\n",
       "0     1.35         M 1.4 - 9km NE of Aguanga, CA        0   \n",
       "1     1.29         M 1.3 - 9km NE of Aguanga, CA        0   \n",
       "2     3.42         M 3.4 - 8km NE of Aguanga, CA        0   \n",
       "3     0.44         M 0.4 - 9km NE of Aguanga, CA        0   \n",
       "4     2.16         M 2.2 - 10km NW of Avenal, CA        0   \n",
       "...    ...                                   ...      ...   \n",
       "9326  1.82           M 1.8 - 4km W of Julian, CA        0   \n",
       "9327  0.62  M 0.6 - 9km ENE of Mammoth Lakes, CA        0   \n",
       "9328  1.00           M 1.0 - 3km W of Julian, CA        0   \n",
       "9330  1.10         M 1.1 - 9km NE of Aguanga, CA        0   \n",
       "9331  0.66         M 0.7 - 9km NE of Aguanga, CA        0   \n",
       "\n",
       "                             place  \n",
       "0            9km NE of Aguanga, CA  \n",
       "1            9km NE of Aguanga, CA  \n",
       "2            8km NE of Aguanga, CA  \n",
       "3            9km NE of Aguanga, CA  \n",
       "4            10km NW of Avenal, CA  \n",
       "...                            ...  \n",
       "9326           4km W of Julian, CA  \n",
       "9327  9km ENE of Mammoth Lakes, CA  \n",
       "9328           3km W of Julian, CA  \n",
       "9330         9km NE of Aguanga, CA  \n",
       "9331         9km NE of Aguanga, CA  \n",
       "\n",
       "[2861 rows x 4 columns]"
      ]
     },
     "execution_count": 52,
     "metadata": {},
     "output_type": "execute_result"
    }
   ],
   "source": [
    "# same idea but using regular expression\n",
    "dfCal = df.loc[\n",
    "    (df.place.str.contains(r'CA|California$')),\n",
    "    ['mag', 'title', 'tsunami', 'place']\n",
    "]\n",
    "dfCal"
   ]
  },
  {
   "cell_type": "markdown",
   "id": "aba00778",
   "metadata": {},
   "source": [
    "### Finding the minimum and maximum\n",
    "We might be interested in knowing the lowest and highest magnitude earthquakes which occured in California during the time frame the data frame represents, and also knowing where and when they occured.  Pandas lets us find the index of these extrema and then we can select the entire row."
   ]
  },
  {
   "cell_type": "code",
   "execution_count": 53,
   "id": "2ee93b23",
   "metadata": {},
   "outputs": [
    {
     "data": {
      "text/plain": [
       "[2510, 5263]"
      ]
     },
     "execution_count": 53,
     "metadata": {},
     "output_type": "execute_result"
    }
   ],
   "source": [
    "[dfCal.mag.idxmin(), df.mag.idxmax()]"
   ]
  },
  {
   "cell_type": "code",
   "execution_count": 55,
   "id": "f4291c38",
   "metadata": {},
   "outputs": [
    {
     "data": {
      "text/html": [
       "<div>\n",
       "<style scoped>\n",
       "    .dataframe tbody tr th:only-of-type {\n",
       "        vertical-align: middle;\n",
       "    }\n",
       "\n",
       "    .dataframe tbody tr th {\n",
       "        vertical-align: top;\n",
       "    }\n",
       "\n",
       "    .dataframe thead th {\n",
       "        text-align: right;\n",
       "    }\n",
       "</style>\n",
       "<table border=\"1\" class=\"dataframe\">\n",
       "  <thead>\n",
       "    <tr style=\"text-align: right;\">\n",
       "      <th></th>\n",
       "      <th>mag</th>\n",
       "      <th>title</th>\n",
       "      <th>tsunami</th>\n",
       "      <th>place</th>\n",
       "    </tr>\n",
       "  </thead>\n",
       "  <tbody>\n",
       "    <tr>\n",
       "      <th>2510</th>\n",
       "      <td>-0.50</td>\n",
       "      <td>M -0.5 - 6km W of Tahoe Vista, California</td>\n",
       "      <td>0</td>\n",
       "      <td>6km W of Tahoe Vista, California</td>\n",
       "    </tr>\n",
       "    <tr>\n",
       "      <th>1465</th>\n",
       "      <td>3.83</td>\n",
       "      <td>M 3.8 - 109km WNW of Trinidad, CA</td>\n",
       "      <td>0</td>\n",
       "      <td>109km WNW of Trinidad, CA</td>\n",
       "    </tr>\n",
       "  </tbody>\n",
       "</table>\n",
       "</div>"
      ],
      "text/plain": [
       "       mag                                      title  tsunami  \\\n",
       "2510 -0.50  M -0.5 - 6km W of Tahoe Vista, California        0   \n",
       "1465  3.83          M 3.8 - 109km WNW of Trinidad, CA        0   \n",
       "\n",
       "                                 place  \n",
       "2510  6km W of Tahoe Vista, California  \n",
       "1465         109km WNW of Trinidad, CA  "
      ]
     },
     "execution_count": 55,
     "metadata": {},
     "output_type": "execute_result"
    }
   ],
   "source": [
    "dfCal.loc[\n",
    "    [dfCal.mag.idxmin(), dfCal.mag.idxmax()],\n",
    "    ['mag', 'title', 'tsunami', 'place']\n",
    "]"
   ]
  },
  {
   "cell_type": "markdown",
   "id": "038cd06a",
   "metadata": {},
   "source": [
    "The largest quake in California in early fall 2018 was actually in Trinidad! "
   ]
  },
  {
   "cell_type": "markdown",
   "id": "d217c383",
   "metadata": {},
   "source": [
    "### Task (Main Course)\n",
    "\n",
    "\n",
    "The Eviction Lab at Princeton University gathers and provides data on evictions in the United States.  They have constructed a nationwide database of eviction filings, demonstrating that, on average, 2.7 million households are threatened with eviction annually.  The database relied on almost 100 million court records and is available for researchers who want to examine causes and consequences of eviction lawsuits in the United States.  \n",
    "\n",
    "Having a national perspective is important in understanding how state and local level housing policies relate to eviction risk.  For example, states that require landlords to provide notice to tenants prior to filing an eviction case for nonpayment of rent seem to have lower risk of eviction.  Between 2000 and 2018, almost 7% of renting households faced an eviction lawsuit (Gromis, 2022).\n",
    "\n",
    "For more in depth information, consider reading the book Evicted: Poverty and Profit in the American City by Matthew Desmond.  This book was a winner of the Pulitzer Prize and was identified as one of the top ten books of 2016 by the New York Times.\n",
    "\n",
    "Navigate to the Eviction Lab's data downloads site https://data-downloads.evictionlab.org/#estimating-eviction-prevalance-across-us/ and download the csv file state_eviction_estimates_2000_2018.csv.  Put the file in your working directory.\n",
    "\n",
    "- read the file into a pandas data frame.\n",
    "- inspect the dataframe by finding\n",
    "    - is it empty?\n",
    "    - what are its dimensions?\n",
    "    - what are the column names?  what data type is each?  \n",
    "    - some of the columns will not be needed for this exercise, so subset the data frame and retain the columns state, FIPS_state, year, renting_hh, filings_estimate, hh_threat_estimate.\n",
    "    - Look at the codebook provided on the same site, and make sure you understand what each column name you have retained means.  Write a quick summary.\n",
    "    - look at the first 3 and last 3 rows.\n",
    "    - do we have null objects?  If so, summarize where and how many. \n",
    "    - get the summary statistics for the entire dataframe\n",
    "    - get the summary statistics for the column renting_hh (the number of renting households)\n",
    "- create a data frame that retains just the rows related to California.  Keep the columns 'state', 'year', 'renting_hh', 'filings_estimate', 'hh_threat_estimate' only.\n",
    "    - what year had the minimum number of eviction filings in California between 2000 and 2018 (inclusive)?  How many filings were there that year?\n",
    "    - what year had the maximum number of eviction filings in California between 2000 and 2018 (inclusive)?  How many filings were there that year?\n",
    "    - make a line plot for the eviction filings in California (y-axis) for each year (x-axis).  Instead of plot.bar in the previous example, use plot.line.  What trends do you notice?  Write a few sentences describing the number of eviction filings in California over this time period.\n",
    "    - The graph you created has a significant rise in eviction filings leading up to 2010.  What economic factors might have contributed to this?\n",
    "\n",
    "California passed a Just Cause Eviction Act in October 2019.  Prior to a state-wide adoption of this policy, many cities in California had just cause eviction ordinances.  For example, East Palo Alto has had an ordinance since 2010 and San Diego has had one since 2004.  New Jersey has had a state-wide Just Cause policy since 1974 (nearly 50 years!).\n",
    "\n",
    "- create a data frame that retains just the rows related to New Jersey.  Keep the columns 'state', 'year', 'renting_hh', 'filings_estimate', 'hh_threat_estimate' only.\n",
    "   - what year had the minimum number of eviction filings in New Jersey between 2000 and 2018 (inclusive)?  How many filings were there that year?\n",
    "   - what year had the maximum number of eviction filings in New Jersey between 2000 and 2018 (inclusive)?  How many filings were there that year?\n",
    "   - make a line plot for the eviction filings in New Jersey (y-axis) for each year (x-axis).  What trends do you notice?  Write a few sentences describing the number of eviction filings in New Jersey over this time period.  Does the graph for New Jersey have a similar rise and peak as the graph for California?  (Note: comparing the numbers of eviction filings between the two states doesn't account for their different population sizes, but looking at the trends in the graph helps us understand what was similar and what was different over this time period.\n",
    "    \n",
    "    \n",
    "- Does this data set feel complete to you?  For example, informal evictions (when landlords induce renters to leave through monetary incentives or illegal lockouts) are not accounted for in this data set.\n",
    "- There has been some criticism about how the Eviction Lab obtained some of its data.  For example, they purchased California eviction data from American Information Research Services, which offers tenant screening as a service.  Some critics (e.g., Anti-Eviction Mapping Project, Tenants Together) suggest this purchased data vastly undercounts the number of evictions that have been filed. Discuss the implications of this undercounting in terms of analysis and policy.  (A few sentences is sufficient.)"
   ]
  },
  {
   "cell_type": "markdown",
   "id": "27bfde7d",
   "metadata": {},
   "source": [
    "### Solution"
   ]
  },
  {
   "cell_type": "code",
   "execution_count": 56,
   "id": "73a04272",
   "metadata": {},
   "outputs": [],
   "source": [
    "df = pd.read_csv('state_eviction_estimates_2000_2018.csv')\n"
   ]
  },
  {
   "cell_type": "code",
   "execution_count": 74,
   "id": "c514dfcf",
   "metadata": {},
   "outputs": [
    {
     "data": {
      "text/plain": [
       "False"
      ]
     },
     "execution_count": 74,
     "metadata": {},
     "output_type": "execute_result"
    }
   ],
   "source": [
    "df.empty"
   ]
  },
  {
   "cell_type": "code",
   "execution_count": 75,
   "id": "1067c3f3",
   "metadata": {
    "scrolled": false
   },
   "outputs": [
    {
     "data": {
      "text/plain": [
       "(969, 12)"
      ]
     },
     "execution_count": 75,
     "metadata": {},
     "output_type": "execute_result"
    }
   ],
   "source": [
    "df.shape"
   ]
  },
  {
   "cell_type": "code",
   "execution_count": 77,
   "id": "f9d894fa",
   "metadata": {
    "scrolled": true
   },
   "outputs": [
    {
     "data": {
      "text/plain": [
       "Index(['state', 'FIPS_state', 'year', 'renting_hh', 'filings_estimate',\n",
       "       'filings_ci_95_lower', 'filings_ci_95_upper',\n",
       "       'ind_filings_court_issued', 'ind_filings_court_issued_LT',\n",
       "       'hh_threat_estimate', 'hh_threat_95_lower', 'hh_threat_95_upper'],\n",
       "      dtype='object')"
      ]
     },
     "execution_count": 77,
     "metadata": {},
     "output_type": "execute_result"
    }
   ],
   "source": [
    "df.columns"
   ]
  },
  {
   "cell_type": "code",
   "execution_count": 81,
   "id": "4f269bad",
   "metadata": {},
   "outputs": [],
   "source": [
    "# subset to retain columns as instructed\n",
    "df2 = df[['state', 'FIPS_state', 'year', 'renting_hh', 'filings_estimate', 'hh_threat_estimate']]"
   ]
  },
  {
   "cell_type": "code",
   "execution_count": 82,
   "id": "2c56bd2a",
   "metadata": {},
   "outputs": [
    {
     "name": "stdout",
     "output_type": "stream",
     "text": [
      "<class 'pandas.core.frame.DataFrame'>\n",
      "RangeIndex: 969 entries, 0 to 968\n",
      "Data columns (total 6 columns):\n",
      " #   Column              Non-Null Count  Dtype \n",
      "---  ------              --------------  ----- \n",
      " 0   state               969 non-null    object\n",
      " 1   FIPS_state          969 non-null    int64 \n",
      " 2   year                969 non-null    int64 \n",
      " 3   renting_hh          969 non-null    int64 \n",
      " 4   filings_estimate    969 non-null    int64 \n",
      " 5   hh_threat_estimate  969 non-null    int64 \n",
      "dtypes: int64(5), object(1)\n",
      "memory usage: 45.5+ KB\n"
     ]
    }
   ],
   "source": [
    "df2.info()"
   ]
  },
  {
   "cell_type": "markdown",
   "id": "85a40402",
   "metadata": {},
   "source": [
    "By looking at the codebook, we can interpret the column names which are unclear\n",
    "- FIPS_state is the state FIPS code.  Using google, we can get a further definition: Federal Information Processing System (FIPS) codes are numbers which uniquely identify geographic areas. The state FIPS codes correspond with the states in alphabetical order (e.g., California has code 06).\n",
    "- renting_hh is number of renting households\n",
    "- filings_estimate is estimated number of filings\n",
    "- hh_threat is the estimated number of households threatened with eviction"
   ]
  },
  {
   "cell_type": "code",
   "execution_count": 85,
   "id": "98314fa2",
   "metadata": {},
   "outputs": [
    {
     "data": {
      "text/html": [
       "<div>\n",
       "<style scoped>\n",
       "    .dataframe tbody tr th:only-of-type {\n",
       "        vertical-align: middle;\n",
       "    }\n",
       "\n",
       "    .dataframe tbody tr th {\n",
       "        vertical-align: top;\n",
       "    }\n",
       "\n",
       "    .dataframe thead th {\n",
       "        text-align: right;\n",
       "    }\n",
       "</style>\n",
       "<table border=\"1\" class=\"dataframe\">\n",
       "  <thead>\n",
       "    <tr style=\"text-align: right;\">\n",
       "      <th></th>\n",
       "      <th>state</th>\n",
       "      <th>FIPS_state</th>\n",
       "      <th>year</th>\n",
       "      <th>renting_hh</th>\n",
       "      <th>filings_estimate</th>\n",
       "      <th>hh_threat_estimate</th>\n",
       "    </tr>\n",
       "  </thead>\n",
       "  <tbody>\n",
       "    <tr>\n",
       "      <th>0</th>\n",
       "      <td>Alabama</td>\n",
       "      <td>1</td>\n",
       "      <td>2000</td>\n",
       "      <td>478375</td>\n",
       "      <td>17636</td>\n",
       "      <td>16815</td>\n",
       "    </tr>\n",
       "    <tr>\n",
       "      <th>1</th>\n",
       "      <td>Alabama</td>\n",
       "      <td>1</td>\n",
       "      <td>2001</td>\n",
       "      <td>487658</td>\n",
       "      <td>18248</td>\n",
       "      <td>17329</td>\n",
       "    </tr>\n",
       "    <tr>\n",
       "      <th>2</th>\n",
       "      <td>Alabama</td>\n",
       "      <td>1</td>\n",
       "      <td>2002</td>\n",
       "      <td>496940</td>\n",
       "      <td>18748</td>\n",
       "      <td>17846</td>\n",
       "    </tr>\n",
       "  </tbody>\n",
       "</table>\n",
       "</div>"
      ],
      "text/plain": [
       "     state  FIPS_state  year  renting_hh  filings_estimate  hh_threat_estimate\n",
       "0  Alabama           1  2000      478375             17636               16815\n",
       "1  Alabama           1  2001      487658             18248               17329\n",
       "2  Alabama           1  2002      496940             18748               17846"
      ]
     },
     "execution_count": 85,
     "metadata": {},
     "output_type": "execute_result"
    }
   ],
   "source": [
    "# look at the first 3 rows\n",
    "df2.head(3)"
   ]
  },
  {
   "cell_type": "code",
   "execution_count": 86,
   "id": "86da1ea2",
   "metadata": {},
   "outputs": [
    {
     "data": {
      "text/html": [
       "<div>\n",
       "<style scoped>\n",
       "    .dataframe tbody tr th:only-of-type {\n",
       "        vertical-align: middle;\n",
       "    }\n",
       "\n",
       "    .dataframe tbody tr th {\n",
       "        vertical-align: top;\n",
       "    }\n",
       "\n",
       "    .dataframe thead th {\n",
       "        text-align: right;\n",
       "    }\n",
       "</style>\n",
       "<table border=\"1\" class=\"dataframe\">\n",
       "  <thead>\n",
       "    <tr style=\"text-align: right;\">\n",
       "      <th></th>\n",
       "      <th>state</th>\n",
       "      <th>FIPS_state</th>\n",
       "      <th>year</th>\n",
       "      <th>renting_hh</th>\n",
       "      <th>filings_estimate</th>\n",
       "      <th>hh_threat_estimate</th>\n",
       "    </tr>\n",
       "  </thead>\n",
       "  <tbody>\n",
       "    <tr>\n",
       "      <th>966</th>\n",
       "      <td>Wyoming</td>\n",
       "      <td>56</td>\n",
       "      <td>2016</td>\n",
       "      <td>81496</td>\n",
       "      <td>1464</td>\n",
       "      <td>1376</td>\n",
       "    </tr>\n",
       "    <tr>\n",
       "      <th>967</th>\n",
       "      <td>Wyoming</td>\n",
       "      <td>56</td>\n",
       "      <td>2017</td>\n",
       "      <td>83445</td>\n",
       "      <td>1400</td>\n",
       "      <td>1318</td>\n",
       "    </tr>\n",
       "    <tr>\n",
       "      <th>968</th>\n",
       "      <td>Wyoming</td>\n",
       "      <td>56</td>\n",
       "      <td>2018</td>\n",
       "      <td>85394</td>\n",
       "      <td>1282</td>\n",
       "      <td>1218</td>\n",
       "    </tr>\n",
       "  </tbody>\n",
       "</table>\n",
       "</div>"
      ],
      "text/plain": [
       "       state  FIPS_state  year  renting_hh  filings_estimate  \\\n",
       "966  Wyoming          56  2016       81496              1464   \n",
       "967  Wyoming          56  2017       83445              1400   \n",
       "968  Wyoming          56  2018       85394              1282   \n",
       "\n",
       "     hh_threat_estimate  \n",
       "966                1376  \n",
       "967                1318  \n",
       "968                1218  "
      ]
     },
     "execution_count": 86,
     "metadata": {},
     "output_type": "execute_result"
    }
   ],
   "source": [
    "df2.tail(3)"
   ]
  },
  {
   "cell_type": "code",
   "execution_count": 87,
   "id": "5cd76ce4",
   "metadata": {},
   "outputs": [
    {
     "data": {
      "text/html": [
       "<div>\n",
       "<style scoped>\n",
       "    .dataframe tbody tr th:only-of-type {\n",
       "        vertical-align: middle;\n",
       "    }\n",
       "\n",
       "    .dataframe tbody tr th {\n",
       "        vertical-align: top;\n",
       "    }\n",
       "\n",
       "    .dataframe thead th {\n",
       "        text-align: right;\n",
       "    }\n",
       "</style>\n",
       "<table border=\"1\" class=\"dataframe\">\n",
       "  <thead>\n",
       "    <tr style=\"text-align: right;\">\n",
       "      <th></th>\n",
       "      <th>FIPS_state</th>\n",
       "      <th>year</th>\n",
       "      <th>renting_hh</th>\n",
       "      <th>filings_estimate</th>\n",
       "      <th>hh_threat_estimate</th>\n",
       "    </tr>\n",
       "  </thead>\n",
       "  <tbody>\n",
       "    <tr>\n",
       "      <th>count</th>\n",
       "      <td>969.000000</td>\n",
       "      <td>969.000000</td>\n",
       "      <td>9.690000e+02</td>\n",
       "      <td>969.000000</td>\n",
       "      <td>969.000000</td>\n",
       "    </tr>\n",
       "    <tr>\n",
       "      <th>mean</th>\n",
       "      <td>28.960784</td>\n",
       "      <td>2009.000000</td>\n",
       "      <td>7.985399e+05</td>\n",
       "      <td>71892.153767</td>\n",
       "      <td>53116.658411</td>\n",
       "    </tr>\n",
       "    <tr>\n",
       "      <th>std</th>\n",
       "      <td>15.684931</td>\n",
       "      <td>5.480054</td>\n",
       "      <td>9.842588e+05</td>\n",
       "      <td>107710.813406</td>\n",
       "      <td>66573.901656</td>\n",
       "    </tr>\n",
       "    <tr>\n",
       "      <th>min</th>\n",
       "      <td>1.000000</td>\n",
       "      <td>2000.000000</td>\n",
       "      <td>5.809400e+04</td>\n",
       "      <td>474.000000</td>\n",
       "      <td>457.000000</td>\n",
       "    </tr>\n",
       "    <tr>\n",
       "      <th>25%</th>\n",
       "      <td>16.000000</td>\n",
       "      <td>2004.000000</td>\n",
       "      <td>1.948040e+05</td>\n",
       "      <td>9004.000000</td>\n",
       "      <td>8194.000000</td>\n",
       "    </tr>\n",
       "    <tr>\n",
       "      <th>50%</th>\n",
       "      <td>29.000000</td>\n",
       "      <td>2009.000000</td>\n",
       "      <td>5.211200e+05</td>\n",
       "      <td>26740.000000</td>\n",
       "      <td>22767.000000</td>\n",
       "    </tr>\n",
       "    <tr>\n",
       "      <th>75%</th>\n",
       "      <td>42.000000</td>\n",
       "      <td>2014.000000</td>\n",
       "      <td>9.550390e+05</td>\n",
       "      <td>100004.000000</td>\n",
       "      <td>78743.000000</td>\n",
       "    </tr>\n",
       "    <tr>\n",
       "      <th>max</th>\n",
       "      <td>56.000000</td>\n",
       "      <td>2018.000000</td>\n",
       "      <td>6.087863e+06</td>\n",
       "      <td>655019.000000</td>\n",
       "      <td>328473.000000</td>\n",
       "    </tr>\n",
       "  </tbody>\n",
       "</table>\n",
       "</div>"
      ],
      "text/plain": [
       "       FIPS_state         year    renting_hh  filings_estimate  \\\n",
       "count  969.000000   969.000000  9.690000e+02        969.000000   \n",
       "mean    28.960784  2009.000000  7.985399e+05      71892.153767   \n",
       "std     15.684931     5.480054  9.842588e+05     107710.813406   \n",
       "min      1.000000  2000.000000  5.809400e+04        474.000000   \n",
       "25%     16.000000  2004.000000  1.948040e+05       9004.000000   \n",
       "50%     29.000000  2009.000000  5.211200e+05      26740.000000   \n",
       "75%     42.000000  2014.000000  9.550390e+05     100004.000000   \n",
       "max     56.000000  2018.000000  6.087863e+06     655019.000000   \n",
       "\n",
       "       hh_threat_estimate  \n",
       "count          969.000000  \n",
       "mean         53116.658411  \n",
       "std          66573.901656  \n",
       "min            457.000000  \n",
       "25%           8194.000000  \n",
       "50%          22767.000000  \n",
       "75%          78743.000000  \n",
       "max         328473.000000  "
      ]
     },
     "execution_count": 87,
     "metadata": {},
     "output_type": "execute_result"
    }
   ],
   "source": [
    "# summary statistics\n",
    "df2.describe()"
   ]
  },
  {
   "cell_type": "markdown",
   "id": "3d78f50a",
   "metadata": {},
   "source": [
    "Even though FIPS is a number, the summary statistics are not meaningful."
   ]
  },
  {
   "cell_type": "code",
   "execution_count": 89,
   "id": "1dc33737",
   "metadata": {},
   "outputs": [
    {
     "data": {
      "text/plain": [
       "count    9.690000e+02\n",
       "mean     7.985399e+05\n",
       "std      9.842588e+05\n",
       "min      5.809400e+04\n",
       "25%      1.948040e+05\n",
       "50%      5.211200e+05\n",
       "75%      9.550390e+05\n",
       "max      6.087863e+06\n",
       "Name: renting_hh, dtype: float64"
      ]
     },
     "execution_count": 89,
     "metadata": {},
     "output_type": "execute_result"
    }
   ],
   "source": [
    "# summary statistics of one column\n",
    "df2.renting_hh.describe()"
   ]
  },
  {
   "cell_type": "code",
   "execution_count": 91,
   "id": "e335cf0b",
   "metadata": {},
   "outputs": [
    {
     "data": {
      "text/plain": [
       "count                 969.00\n",
       "mean              798,539.88\n",
       "std               984,258.78\n",
       "min                58,094.00\n",
       "25%               194,804.00\n",
       "50%               521,120.00\n",
       "75%               955,039.00\n",
       "max             6,087,863.00\n",
       "Name: renting_hh, dtype: float64"
      ]
     },
     "execution_count": 91,
     "metadata": {},
     "output_type": "execute_result"
    }
   ],
   "source": [
    "# easier to compare without scientific notation\n",
    "pd.options.display.float_format = '{:20,.2f}'.format\n",
    "df2.renting_hh.describe()"
   ]
  },
  {
   "cell_type": "code",
   "execution_count": 57,
   "id": "abf7c505",
   "metadata": {},
   "outputs": [
    {
     "data": {
      "text/html": [
       "<div>\n",
       "<style scoped>\n",
       "    .dataframe tbody tr th:only-of-type {\n",
       "        vertical-align: middle;\n",
       "    }\n",
       "\n",
       "    .dataframe tbody tr th {\n",
       "        vertical-align: top;\n",
       "    }\n",
       "\n",
       "    .dataframe thead th {\n",
       "        text-align: right;\n",
       "    }\n",
       "</style>\n",
       "<table border=\"1\" class=\"dataframe\">\n",
       "  <thead>\n",
       "    <tr style=\"text-align: right;\">\n",
       "      <th></th>\n",
       "      <th>state</th>\n",
       "      <th>year</th>\n",
       "      <th>renting_hh</th>\n",
       "      <th>filings_estimate</th>\n",
       "      <th>hh_threat_estimate</th>\n",
       "    </tr>\n",
       "  </thead>\n",
       "  <tbody>\n",
       "    <tr>\n",
       "      <th>76</th>\n",
       "      <td>California</td>\n",
       "      <td>2000</td>\n",
       "      <td>4956536</td>\n",
       "      <td>157225</td>\n",
       "      <td>152359</td>\n",
       "    </tr>\n",
       "    <tr>\n",
       "      <th>77</th>\n",
       "      <td>California</td>\n",
       "      <td>2001</td>\n",
       "      <td>5015095</td>\n",
       "      <td>175805</td>\n",
       "      <td>168942</td>\n",
       "    </tr>\n",
       "    <tr>\n",
       "      <th>78</th>\n",
       "      <td>California</td>\n",
       "      <td>2002</td>\n",
       "      <td>5073654</td>\n",
       "      <td>178246</td>\n",
       "      <td>172097</td>\n",
       "    </tr>\n",
       "    <tr>\n",
       "      <th>79</th>\n",
       "      <td>California</td>\n",
       "      <td>2003</td>\n",
       "      <td>5132213</td>\n",
       "      <td>187620</td>\n",
       "      <td>180748</td>\n",
       "    </tr>\n",
       "    <tr>\n",
       "      <th>80</th>\n",
       "      <td>California</td>\n",
       "      <td>2004</td>\n",
       "      <td>5190772</td>\n",
       "      <td>180224</td>\n",
       "      <td>175062</td>\n",
       "    </tr>\n",
       "    <tr>\n",
       "      <th>81</th>\n",
       "      <td>California</td>\n",
       "      <td>2005</td>\n",
       "      <td>5249332</td>\n",
       "      <td>159652</td>\n",
       "      <td>155609</td>\n",
       "    </tr>\n",
       "    <tr>\n",
       "      <th>82</th>\n",
       "      <td>California</td>\n",
       "      <td>2006</td>\n",
       "      <td>5307891</td>\n",
       "      <td>158680</td>\n",
       "      <td>154698</td>\n",
       "    </tr>\n",
       "    <tr>\n",
       "      <th>83</th>\n",
       "      <td>California</td>\n",
       "      <td>2007</td>\n",
       "      <td>5366450</td>\n",
       "      <td>174709</td>\n",
       "      <td>169442</td>\n",
       "    </tr>\n",
       "    <tr>\n",
       "      <th>84</th>\n",
       "      <td>California</td>\n",
       "      <td>2008</td>\n",
       "      <td>5425009</td>\n",
       "      <td>202053</td>\n",
       "      <td>195389</td>\n",
       "    </tr>\n",
       "    <tr>\n",
       "      <th>85</th>\n",
       "      <td>California</td>\n",
       "      <td>2009</td>\n",
       "      <td>5483568</td>\n",
       "      <td>214945</td>\n",
       "      <td>207435</td>\n",
       "    </tr>\n",
       "    <tr>\n",
       "      <th>86</th>\n",
       "      <td>California</td>\n",
       "      <td>2010</td>\n",
       "      <td>5542127</td>\n",
       "      <td>221841</td>\n",
       "      <td>214775</td>\n",
       "    </tr>\n",
       "    <tr>\n",
       "      <th>87</th>\n",
       "      <td>California</td>\n",
       "      <td>2011</td>\n",
       "      <td>5610344</td>\n",
       "      <td>216043</td>\n",
       "      <td>209188</td>\n",
       "    </tr>\n",
       "    <tr>\n",
       "      <th>88</th>\n",
       "      <td>California</td>\n",
       "      <td>2012</td>\n",
       "      <td>5678561</td>\n",
       "      <td>190911</td>\n",
       "      <td>185536</td>\n",
       "    </tr>\n",
       "    <tr>\n",
       "      <th>89</th>\n",
       "      <td>California</td>\n",
       "      <td>2013</td>\n",
       "      <td>5746778</td>\n",
       "      <td>174791</td>\n",
       "      <td>170097</td>\n",
       "    </tr>\n",
       "    <tr>\n",
       "      <th>90</th>\n",
       "      <td>California</td>\n",
       "      <td>2014</td>\n",
       "      <td>5814995</td>\n",
       "      <td>167694</td>\n",
       "      <td>163181</td>\n",
       "    </tr>\n",
       "    <tr>\n",
       "      <th>91</th>\n",
       "      <td>California</td>\n",
       "      <td>2015</td>\n",
       "      <td>5883212</td>\n",
       "      <td>156594</td>\n",
       "      <td>152409</td>\n",
       "    </tr>\n",
       "    <tr>\n",
       "      <th>92</th>\n",
       "      <td>California</td>\n",
       "      <td>2016</td>\n",
       "      <td>5951429</td>\n",
       "      <td>147446</td>\n",
       "      <td>143464</td>\n",
       "    </tr>\n",
       "    <tr>\n",
       "      <th>93</th>\n",
       "      <td>California</td>\n",
       "      <td>2017</td>\n",
       "      <td>6019646</td>\n",
       "      <td>137051</td>\n",
       "      <td>133533</td>\n",
       "    </tr>\n",
       "    <tr>\n",
       "      <th>94</th>\n",
       "      <td>California</td>\n",
       "      <td>2018</td>\n",
       "      <td>6087863</td>\n",
       "      <td>132901</td>\n",
       "      <td>129639</td>\n",
       "    </tr>\n",
       "  </tbody>\n",
       "</table>\n",
       "</div>"
      ],
      "text/plain": [
       "         state  year  renting_hh  filings_estimate  hh_threat_estimate\n",
       "76  California  2000     4956536            157225              152359\n",
       "77  California  2001     5015095            175805              168942\n",
       "78  California  2002     5073654            178246              172097\n",
       "79  California  2003     5132213            187620              180748\n",
       "80  California  2004     5190772            180224              175062\n",
       "81  California  2005     5249332            159652              155609\n",
       "82  California  2006     5307891            158680              154698\n",
       "83  California  2007     5366450            174709              169442\n",
       "84  California  2008     5425009            202053              195389\n",
       "85  California  2009     5483568            214945              207435\n",
       "86  California  2010     5542127            221841              214775\n",
       "87  California  2011     5610344            216043              209188\n",
       "88  California  2012     5678561            190911              185536\n",
       "89  California  2013     5746778            174791              170097\n",
       "90  California  2014     5814995            167694              163181\n",
       "91  California  2015     5883212            156594              152409\n",
       "92  California  2016     5951429            147446              143464\n",
       "93  California  2017     6019646            137051              133533\n",
       "94  California  2018     6087863            132901              129639"
      ]
     },
     "execution_count": 57,
     "metadata": {},
     "output_type": "execute_result"
    }
   ],
   "source": [
    "dfCali = df.loc[(df.state.str.contains(r'CA|California$')),\n",
    "                ['state', 'year', 'renting_hh', 'filings_estimate', 'hh_threat_estimate']]\n",
    "dfCali"
   ]
  },
  {
   "cell_type": "code",
   "execution_count": 59,
   "id": "5b514f87",
   "metadata": {},
   "outputs": [
    {
     "data": {
      "text/html": [
       "<div>\n",
       "<style scoped>\n",
       "    .dataframe tbody tr th:only-of-type {\n",
       "        vertical-align: middle;\n",
       "    }\n",
       "\n",
       "    .dataframe tbody tr th {\n",
       "        vertical-align: top;\n",
       "    }\n",
       "\n",
       "    .dataframe thead th {\n",
       "        text-align: right;\n",
       "    }\n",
       "</style>\n",
       "<table border=\"1\" class=\"dataframe\">\n",
       "  <thead>\n",
       "    <tr style=\"text-align: right;\">\n",
       "      <th></th>\n",
       "      <th>state</th>\n",
       "      <th>year</th>\n",
       "      <th>renting_hh</th>\n",
       "      <th>filings_estimate</th>\n",
       "      <th>hh_threat_estimate</th>\n",
       "    </tr>\n",
       "  </thead>\n",
       "  <tbody>\n",
       "    <tr>\n",
       "      <th>94</th>\n",
       "      <td>California</td>\n",
       "      <td>2018</td>\n",
       "      <td>6087863</td>\n",
       "      <td>132901</td>\n",
       "      <td>129639</td>\n",
       "    </tr>\n",
       "    <tr>\n",
       "      <th>86</th>\n",
       "      <td>California</td>\n",
       "      <td>2010</td>\n",
       "      <td>5542127</td>\n",
       "      <td>221841</td>\n",
       "      <td>214775</td>\n",
       "    </tr>\n",
       "  </tbody>\n",
       "</table>\n",
       "</div>"
      ],
      "text/plain": [
       "         state  year  renting_hh  filings_estimate  hh_threat_estimate\n",
       "94  California  2018     6087863            132901              129639\n",
       "86  California  2010     5542127            221841              214775"
      ]
     },
     "execution_count": 59,
     "metadata": {},
     "output_type": "execute_result"
    }
   ],
   "source": [
    "dfCali.loc[\n",
    "    [dfCali.filings_estimate.idxmin(), dfCali.filings_estimate.idxmax()],\n",
    "    ['state', 'year', 'renting_hh', 'filings_estimate', 'hh_threat_estimate']\n",
    "]"
   ]
  },
  {
   "cell_type": "code",
   "execution_count": 64,
   "id": "5d0da7fa",
   "metadata": {},
   "outputs": [
    {
     "data": {
      "image/png": "[encoded data removed]",
      "text/plain": [
       "<Figure size 640x480 with 1 Axes>"
      ]
     },
     "metadata": {},
     "output_type": "display_data"
    }
   ],
   "source": [
    "ax = dfCali.plot.line(x = 'year', y = 'filings_estimate')\n"
   ]
  },
  {
   "cell_type": "code",
   "execution_count": 65,
   "id": "89d76c61",
   "metadata": {},
   "outputs": [
    {
     "data": {
      "text/html": [
       "<div>\n",
       "<style scoped>\n",
       "    .dataframe tbody tr th:only-of-type {\n",
       "        vertical-align: middle;\n",
       "    }\n",
       "\n",
       "    .dataframe tbody tr th {\n",
       "        vertical-align: top;\n",
       "    }\n",
       "\n",
       "    .dataframe thead th {\n",
       "        text-align: right;\n",
       "    }\n",
       "</style>\n",
       "<table border=\"1\" class=\"dataframe\">\n",
       "  <thead>\n",
       "    <tr style=\"text-align: right;\">\n",
       "      <th></th>\n",
       "      <th>state</th>\n",
       "      <th>year</th>\n",
       "      <th>renting_hh</th>\n",
       "      <th>filings_estimate</th>\n",
       "      <th>hh_threat_estimate</th>\n",
       "    </tr>\n",
       "  </thead>\n",
       "  <tbody>\n",
       "    <tr>\n",
       "      <th>570</th>\n",
       "      <td>New Jersey</td>\n",
       "      <td>2000</td>\n",
       "      <td>1053172</td>\n",
       "      <td>88880</td>\n",
       "      <td>68746</td>\n",
       "    </tr>\n",
       "    <tr>\n",
       "      <th>571</th>\n",
       "      <td>New Jersey</td>\n",
       "      <td>2001</td>\n",
       "      <td>1059044</td>\n",
       "      <td>126559</td>\n",
       "      <td>90008</td>\n",
       "    </tr>\n",
       "    <tr>\n",
       "      <th>572</th>\n",
       "      <td>New Jersey</td>\n",
       "      <td>2002</td>\n",
       "      <td>1064917</td>\n",
       "      <td>140285</td>\n",
       "      <td>99466</td>\n",
       "    </tr>\n",
       "    <tr>\n",
       "      <th>573</th>\n",
       "      <td>New Jersey</td>\n",
       "      <td>2003</td>\n",
       "      <td>1070789</td>\n",
       "      <td>130553</td>\n",
       "      <td>94708</td>\n",
       "    </tr>\n",
       "    <tr>\n",
       "      <th>574</th>\n",
       "      <td>New Jersey</td>\n",
       "      <td>2004</td>\n",
       "      <td>1076661</td>\n",
       "      <td>132668</td>\n",
       "      <td>99771</td>\n",
       "    </tr>\n",
       "    <tr>\n",
       "      <th>575</th>\n",
       "      <td>New Jersey</td>\n",
       "      <td>2005</td>\n",
       "      <td>1082534</td>\n",
       "      <td>156879</td>\n",
       "      <td>116956</td>\n",
       "    </tr>\n",
       "    <tr>\n",
       "      <th>576</th>\n",
       "      <td>New Jersey</td>\n",
       "      <td>2006</td>\n",
       "      <td>1088406</td>\n",
       "      <td>157605</td>\n",
       "      <td>117327</td>\n",
       "    </tr>\n",
       "    <tr>\n",
       "      <th>577</th>\n",
       "      <td>New Jersey</td>\n",
       "      <td>2007</td>\n",
       "      <td>1094278</td>\n",
       "      <td>149277</td>\n",
       "      <td>110235</td>\n",
       "    </tr>\n",
       "    <tr>\n",
       "      <th>578</th>\n",
       "      <td>New Jersey</td>\n",
       "      <td>2008</td>\n",
       "      <td>1100150</td>\n",
       "      <td>156370</td>\n",
       "      <td>115110</td>\n",
       "    </tr>\n",
       "    <tr>\n",
       "      <th>579</th>\n",
       "      <td>New Jersey</td>\n",
       "      <td>2009</td>\n",
       "      <td>1106023</td>\n",
       "      <td>172832</td>\n",
       "      <td>122991</td>\n",
       "    </tr>\n",
       "    <tr>\n",
       "      <th>580</th>\n",
       "      <td>New Jersey</td>\n",
       "      <td>2010</td>\n",
       "      <td>1111895</td>\n",
       "      <td>181171</td>\n",
       "      <td>129561</td>\n",
       "    </tr>\n",
       "    <tr>\n",
       "      <th>581</th>\n",
       "      <td>New Jersey</td>\n",
       "      <td>2011</td>\n",
       "      <td>1130833</td>\n",
       "      <td>185514</td>\n",
       "      <td>132354</td>\n",
       "    </tr>\n",
       "    <tr>\n",
       "      <th>582</th>\n",
       "      <td>New Jersey</td>\n",
       "      <td>2012</td>\n",
       "      <td>1149771</td>\n",
       "      <td>184815</td>\n",
       "      <td>132809</td>\n",
       "    </tr>\n",
       "    <tr>\n",
       "      <th>583</th>\n",
       "      <td>New Jersey</td>\n",
       "      <td>2013</td>\n",
       "      <td>1168709</td>\n",
       "      <td>174022</td>\n",
       "      <td>124652</td>\n",
       "    </tr>\n",
       "    <tr>\n",
       "      <th>584</th>\n",
       "      <td>New Jersey</td>\n",
       "      <td>2014</td>\n",
       "      <td>1187647</td>\n",
       "      <td>176437</td>\n",
       "      <td>126037</td>\n",
       "    </tr>\n",
       "    <tr>\n",
       "      <th>585</th>\n",
       "      <td>New Jersey</td>\n",
       "      <td>2015</td>\n",
       "      <td>1206585</td>\n",
       "      <td>169654</td>\n",
       "      <td>121722</td>\n",
       "    </tr>\n",
       "    <tr>\n",
       "      <th>586</th>\n",
       "      <td>New Jersey</td>\n",
       "      <td>2016</td>\n",
       "      <td>1225523</td>\n",
       "      <td>161703</td>\n",
       "      <td>117184</td>\n",
       "    </tr>\n",
       "    <tr>\n",
       "      <th>587</th>\n",
       "      <td>New Jersey</td>\n",
       "      <td>2017</td>\n",
       "      <td>1244461</td>\n",
       "      <td>157416</td>\n",
       "      <td>113919</td>\n",
       "    </tr>\n",
       "    <tr>\n",
       "      <th>588</th>\n",
       "      <td>New Jersey</td>\n",
       "      <td>2018</td>\n",
       "      <td>1263399</td>\n",
       "      <td>152272</td>\n",
       "      <td>108353</td>\n",
       "    </tr>\n",
       "  </tbody>\n",
       "</table>\n",
       "</div>"
      ],
      "text/plain": [
       "          state  year  renting_hh  filings_estimate  hh_threat_estimate\n",
       "570  New Jersey  2000     1053172             88880               68746\n",
       "571  New Jersey  2001     1059044            126559               90008\n",
       "572  New Jersey  2002     1064917            140285               99466\n",
       "573  New Jersey  2003     1070789            130553               94708\n",
       "574  New Jersey  2004     1076661            132668               99771\n",
       "575  New Jersey  2005     1082534            156879              116956\n",
       "576  New Jersey  2006     1088406            157605              117327\n",
       "577  New Jersey  2007     1094278            149277              110235\n",
       "578  New Jersey  2008     1100150            156370              115110\n",
       "579  New Jersey  2009     1106023            172832              122991\n",
       "580  New Jersey  2010     1111895            181171              129561\n",
       "581  New Jersey  2011     1130833            185514              132354\n",
       "582  New Jersey  2012     1149771            184815              132809\n",
       "583  New Jersey  2013     1168709            174022              124652\n",
       "584  New Jersey  2014     1187647            176437              126037\n",
       "585  New Jersey  2015     1206585            169654              121722\n",
       "586  New Jersey  2016     1225523            161703              117184\n",
       "587  New Jersey  2017     1244461            157416              113919\n",
       "588  New Jersey  2018     1263399            152272              108353"
      ]
     },
     "execution_count": 65,
     "metadata": {},
     "output_type": "execute_result"
    }
   ],
   "source": [
    "dfNJ = df.loc[(df.state.str.contains(r'NJ|New Jersey$')),\n",
    "                ['state', 'year', 'renting_hh', 'filings_estimate', 'hh_threat_estimate']]\n",
    "dfNJ"
   ]
  },
  {
   "cell_type": "code",
   "execution_count": 69,
   "id": "78b1b10f",
   "metadata": {},
   "outputs": [
    {
     "data": {
      "text/html": [
       "<div>\n",
       "<style scoped>\n",
       "    .dataframe tbody tr th:only-of-type {\n",
       "        vertical-align: middle;\n",
       "    }\n",
       "\n",
       "    .dataframe tbody tr th {\n",
       "        vertical-align: top;\n",
       "    }\n",
       "\n",
       "    .dataframe thead th {\n",
       "        text-align: right;\n",
       "    }\n",
       "</style>\n",
       "<table border=\"1\" class=\"dataframe\">\n",
       "  <thead>\n",
       "    <tr style=\"text-align: right;\">\n",
       "      <th></th>\n",
       "      <th>state</th>\n",
       "      <th>year</th>\n",
       "      <th>renting_hh</th>\n",
       "      <th>filings_estimate</th>\n",
       "      <th>hh_threat_estimate</th>\n",
       "    </tr>\n",
       "  </thead>\n",
       "  <tbody>\n",
       "    <tr>\n",
       "      <th>570</th>\n",
       "      <td>New Jersey</td>\n",
       "      <td>2000</td>\n",
       "      <td>1053172</td>\n",
       "      <td>88880</td>\n",
       "      <td>68746</td>\n",
       "    </tr>\n",
       "    <tr>\n",
       "      <th>581</th>\n",
       "      <td>New Jersey</td>\n",
       "      <td>2011</td>\n",
       "      <td>1130833</td>\n",
       "      <td>185514</td>\n",
       "      <td>132354</td>\n",
       "    </tr>\n",
       "  </tbody>\n",
       "</table>\n",
       "</div>"
      ],
      "text/plain": [
       "          state  year  renting_hh  filings_estimate  hh_threat_estimate\n",
       "570  New Jersey  2000     1053172             88880               68746\n",
       "581  New Jersey  2011     1130833            185514              132354"
      ]
     },
     "execution_count": 69,
     "metadata": {},
     "output_type": "execute_result"
    }
   ],
   "source": [
    "dfNJ.loc[\n",
    "    [dfNJ.filings_estimate.idxmin(), dfNJ.filings_estimate.idxmax()],\n",
    "    ['state', 'year', 'renting_hh', 'filings_estimate', 'hh_threat_estimate']\n",
    "]"
   ]
  },
  {
   "cell_type": "code",
   "execution_count": 67,
   "id": "fb0fff14",
   "metadata": {
    "scrolled": true
   },
   "outputs": [
    {
     "data": {
      "image/png": "[encoded data removed]",
      "text/plain": [
       "<Figure size 640x480 with 1 Axes>"
      ]
     },
     "metadata": {},
     "output_type": "display_data"
    }
   ],
   "source": [
    "ax = dfNJ.plot.line(x = 'year', y = 'filings_estimate')"
   ]
  },
  {
   "cell_type": "markdown",
   "id": "3a60d6f7",
   "metadata": {},
   "source": [
    "### References\n",
    "- Hands on Data Analysis with Pandas by Stefanie Molin\n",
    "- Gromis, Ashley, Ian Fellows, James R. Hendrickson, Lavar Edmonds, Lillian Leung, Adam Porton, and Matthew Desmond. Estimating Eviction Prevalence across the United States. Princeton University Eviction Lab. https://data-downloads.evictionlab.org/#estimating-eviction-prevalance-across-us/. Deposited May 13, 2022.\n",
    "- Evicted: Poverty and Profit in the American City by Matthew Desmond.\n",
    "- Cuellar, Julieta. \"Effect of “just cause” eviction ordinances on eviction in four California cities.\" Journal of Public & International Affairs 30 (2019).  https://jpia.princeton.edu/news/effect-just-cause-eviction-ordinances-eviction-four-california-cities\n",
    "- California Tenant Protection Act of 2019 (AB1482): https://leginfo.legislature.ca.gov/faces/billTextClient.xhtml?bill_id=201920200AB1482"
   ]
  }
 ],
 "metadata": {
  "kernelspec": {
   "display_name": "Python 3 (ipykernel)",
   "language": "python",
   "name": "python3"
  },
  "language_info": {
   "codemirror_mode": {
    "name": "ipython",
    "version": 3
   },
   "file_extension": ".py",
   "mimetype": "text/x-python",
   "name": "python",
   "nbconvert_exporter": "python",
   "pygments_lexer": "ipython3",
   "version": "3.9.13"
  }
 },
 "nbformat": 4,
 "nbformat_minor": 5
}
