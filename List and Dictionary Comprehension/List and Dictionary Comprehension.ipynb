{
 "cells": [
  {
   "cell_type": "markdown",
   "id": "3f85aedf",
   "metadata": {},
   "source": [
    "# List and Dictionary Comprehension\n",
    "List comprehensions are one of the most loved Python language features.  They are useful because they allow us to concisely form a new list by filtering elements of a collection and transforming the elements that pass the filter in one concise expression.  This idea also extends to dictionaries."
   ]
  },
  {
   "cell_type": "markdown",
   "id": "b2ccf8f4",
   "metadata": {},
   "source": [
    "## Learning Goals\n",
    "- Master the syntax for list and dictionary comprehension\n",
    "- Rewrite for loops using comprehension as an alternative\n",
    "- Implement comprehension to filter on a condition\n",
    "- Reinforce familiarity with lists and dictionaries, such as slicing, accessing an element, and populating.\n"
   ]
  },
  {
   "cell_type": "markdown",
   "id": "79b02330",
   "metadata": {},
   "source": [
    "## Comments to the Instructor\n",
    "- This document contains solutions.  Remove solutions before assigning to students."
   ]
  },
  {
   "cell_type": "markdown",
   "id": "d16e476b",
   "metadata": {},
   "source": [
    "## For Loops and List Comprehension\n",
    "Without list comprehension, we can write a for loop to extract the words that have the letter a and put them in a new list."
   ]
  },
  {
   "cell_type": "code",
   "execution_count": 19,
   "id": "a81b4ca3",
   "metadata": {},
   "outputs": [
    {
     "name": "stdout",
     "output_type": "stream",
     "text": [
      "['apple', 'banana', 'mango']\n"
     ]
    }
   ],
   "source": [
    "fruits = [\"apple\", \"banana\", \"cherry\", \"kiwi\", \"mango\"]\n",
    "newlist = []\n",
    "for x in fruits:\n",
    "  if \"a\" in x:\n",
    "    newlist.append(x)\n",
    "\n",
    "print(newlist)"
   ]
  },
  {
   "cell_type": "markdown",
   "id": "2442ba57",
   "metadata": {},
   "source": [
    "Alternatively, using list comprehension, we can write this much more succinctly."
   ]
  },
  {
   "cell_type": "code",
   "execution_count": 2,
   "id": "a5e42c00",
   "metadata": {},
   "outputs": [
    {
     "name": "stdout",
     "output_type": "stream",
     "text": [
      "['apple', 'banana', 'mango']\n"
     ]
    }
   ],
   "source": [
    "fruits = [\"apple\", \"banana\", \"cherry\", \"kiwi\", \"mango\"]\n",
    "\n",
    "newlist = [x for x in fruits if \"a\" in x]\n",
    "\n",
    "print(newlist)\n",
    "\n"
   ]
  },
  {
   "cell_type": "markdown",
   "id": "68abf2ce",
   "metadata": {},
   "source": [
    "### Task\n",
    "Create an identical list from the first list using list comprehension.  The first list is lst1=[1,2,3,4,5]."
   ]
  },
  {
   "cell_type": "markdown",
   "id": "e2696e4e",
   "metadata": {},
   "source": [
    "### Solution\n"
   ]
  },
  {
   "cell_type": "code",
   "execution_count": 20,
   "id": "f8252a4c",
   "metadata": {},
   "outputs": [
    {
     "name": "stdout",
     "output_type": "stream",
     "text": [
      "[1, 2, 3, 4, 5]\n"
     ]
    }
   ],
   "source": [
    "lst1=[1,2,3,4,5]\n",
    "lst2 = [i for i in lst1] # filter takes all elements\n",
    "print(lst2)"
   ]
  },
  {
   "cell_type": "markdown",
   "id": "fcbe3353",
   "metadata": {},
   "source": [
    "### Task\n",
    "Create a list from the elements of a range from 1200 to 2000 with steps of 130, using list comprehension.  Hint: range can be constructed using three parameters-- start, stop and step size.\n"
   ]
  },
  {
   "cell_type": "markdown",
   "id": "56f5ae43",
   "metadata": {},
   "source": [
    "### Solution"
   ]
  },
  {
   "cell_type": "code",
   "execution_count": 22,
   "id": "ecd9d7fe",
   "metadata": {},
   "outputs": [
    {
     "name": "stdout",
     "output_type": "stream",
     "text": [
      "[1200, 1330, 1460, 1590, 1720, 1850, 1980]\n"
     ]
    }
   ],
   "source": [
    "rng = range(1200, 2000, 130)\n",
    "lst = [i for i in rng]\n",
    "print(lst)"
   ]
  },
  {
   "cell_type": "markdown",
   "id": "41dd5315",
   "metadata": {},
   "source": [
    "### Task\n",
    "Use list comprehension to contruct a new list from an original list by adding 6 to each item.  The original list is lst1=[44,54,64,74,104]."
   ]
  },
  {
   "cell_type": "markdown",
   "id": "51e78077",
   "metadata": {},
   "source": [
    "### Solution"
   ]
  },
  {
   "cell_type": "code",
   "execution_count": 5,
   "id": "bd5dee18",
   "metadata": {},
   "outputs": [
    {
     "name": "stdout",
     "output_type": "stream",
     "text": [
      "[50, 60, 70, 80, 110]\n"
     ]
    }
   ],
   "source": [
    "lst1=[44,54,64,74,104]\n",
    "lst2 = [i+6 for i in lst1]\n",
    "print(lst2)"
   ]
  },
  {
   "cell_type": "markdown",
   "id": "126b6a20",
   "metadata": {},
   "source": [
    "### Task\n",
    "Using list comprehension, construct a list from the squares of each element in the list.  The original list is lst1=[2, 4, 6, 8, 10, 12, 14]."
   ]
  },
  {
   "cell_type": "markdown",
   "id": "927b8b24",
   "metadata": {},
   "source": [
    "### Solution"
   ]
  },
  {
   "cell_type": "code",
   "execution_count": 23,
   "id": "ce58b9a7",
   "metadata": {},
   "outputs": [
    {
     "name": "stdout",
     "output_type": "stream",
     "text": [
      "[4, 16, 36, 64, 100, 144, 196]\n"
     ]
    }
   ],
   "source": [
    "lst1=[2, 4, 6, 8, 10, 12, 14]\n",
    "lst2 = [i**2 for i in lst1]\n",
    "print(lst2)"
   ]
  },
  {
   "cell_type": "markdown",
   "id": "d6e52104",
   "metadata": {},
   "source": [
    "## Filtering With List Comprehension\n",
    "In the previous examples, we transformed every element of the original list and created a new list.  (By \"transformed,\" we added 6, squared the entries, etc.)  In some examples, we might have an additional contraint that filters out members of the new list."
   ]
  },
  {
   "cell_type": "markdown",
   "id": "c119bb08",
   "metadata": {},
   "source": [
    "### Task\n",
    "Using list comprehension, construct a list from the squares of each element in the list, if the square is greater than 50.  The original list is lst1=[2, 4, 6, 8, 10, 12, 14]."
   ]
  },
  {
   "cell_type": "code",
   "execution_count": 7,
   "id": "3624d887",
   "metadata": {},
   "outputs": [
    {
     "name": "stdout",
     "output_type": "stream",
     "text": [
      "[64, 100, 144, 196]\n"
     ]
    }
   ],
   "source": [
    "lst1=[2, 4, 6, 8, 10, 12, 14]\n",
    "lst2 = [i**2 for i in lst1 if i**2>50] # only take squares which are greater than 50\n",
    "print(lst2)"
   ]
  },
  {
   "cell_type": "markdown",
   "id": "8571c7b3",
   "metadata": {},
   "source": [
    "## Dictionary Comprehension"
   ]
  },
  {
   "cell_type": "markdown",
   "id": "c67e772b",
   "metadata": {},
   "source": [
    "Consider a list of words  ['data', 'science', 'machine', 'learning'].  Our goal is to associate with each word its length.\n",
    "\n",
    "This example has an interable (a list) called \"words.\"  Using list comprehension, we create a list that contains the length of each word.  In the dictionary comprehension, we need to specify both keys and values based on the iteration.  For the dictionary, the word is the key and the length of the word is the value."
   ]
  },
  {
   "cell_type": "code",
   "execution_count": 9,
   "id": "2d2e3b6a",
   "metadata": {},
   "outputs": [
    {
     "name": "stdout",
     "output_type": "stream",
     "text": [
      "[4, 7, 7, 8]\n"
     ]
    }
   ],
   "source": [
    "words = ['data', 'science', 'machine', 'learning']\n",
    "#list comprehension\n",
    "length = [len(i) for i in words]\n",
    "print(length)\n"
   ]
  },
  {
   "cell_type": "code",
   "execution_count": 10,
   "id": "b880decf",
   "metadata": {},
   "outputs": [
    {
     "name": "stdout",
     "output_type": "stream",
     "text": [
      "{'data': 4, 'science': 7, 'machine': 7, 'learning': 8}\n"
     ]
    }
   ],
   "source": [
    "words = ['data', 'science', 'machine', 'learning']\n",
    "#dictionary comprehension\n",
    "length_dict = {i:len(i) for i in words}\n",
    "print(length_dict)"
   ]
  },
  {
   "cell_type": "markdown",
   "id": "8ec42f2e",
   "metadata": {},
   "source": [
    "The above example did not have any filtering occuring.  We can add an additional condition to pull out only the words that have length more than 4 letters."
   ]
  },
  {
   "cell_type": "code",
   "execution_count": 11,
   "id": "0d7730ca",
   "metadata": {},
   "outputs": [
    {
     "name": "stdout",
     "output_type": "stream",
     "text": [
      "[7, 7, 8]\n"
     ]
    }
   ],
   "source": [
    "words = ['data', 'science', 'machine', 'learning']\n",
    "#list comprehension\n",
    "length = [len(i) for i in words if len(i) > 5]\n",
    "print(length)"
   ]
  },
  {
   "cell_type": "code",
   "execution_count": 12,
   "id": "0a7d7729",
   "metadata": {},
   "outputs": [
    {
     "name": "stdout",
     "output_type": "stream",
     "text": [
      "{'science': 7, 'machine': 7, 'learning': 8}\n"
     ]
    }
   ],
   "source": [
    "#dictionary comprehension\n",
    "dict_length = {i:len(i) for i in words if len(i) > 5}\n",
    "print(dict_length)"
   ]
  },
  {
   "cell_type": "markdown",
   "id": "01ac84f6",
   "metadata": {},
   "source": [
    "In this example, we want to keep all the words in the dictionary.  If the word length is greater than 5, we will record the length.  If it is less than or equal to 5, we will record \"short\" as the value.  Dictionary comprehension has a convenient one line syntax for this."
   ]
  },
  {
   "cell_type": "code",
   "execution_count": 16,
   "id": "baf6fc61",
   "metadata": {},
   "outputs": [
    {
     "name": "stdout",
     "output_type": "stream",
     "text": [
      "{'data': 'short', 'science': 7, 'machine': 7, 'learning': 8}\n"
     ]
    }
   ],
   "source": [
    "words = ['data', 'science', 'machine', 'learning']\n",
    "words_dict = {i:len(i) if len(i) > 5 else 'short' for i in words}\n",
    "print(words_dict)"
   ]
  },
  {
   "cell_type": "markdown",
   "id": "a72c7ce9",
   "metadata": {},
   "source": [
    "It can also be convenient to iterate over two lists of the same length and put their information into a dictionary."
   ]
  },
  {
   "cell_type": "code",
   "execution_count": 17,
   "id": "26da2199",
   "metadata": {},
   "outputs": [
    {
     "name": "stdout",
     "output_type": "stream",
     "text": [
      "{'data': 5, 'science': 3, 'machine': 1, 'learning': 8}\n"
     ]
    }
   ],
   "source": [
    "words = ['data', 'science', 'machine', 'learning']\n",
    "values = [5, 3, 1, 8]\n",
    "dict_a = {i:j for i, j in zip(words, values)}\n",
    "print(dict_a)"
   ]
  },
  {
   "cell_type": "markdown",
   "id": "e142f2bd",
   "metadata": {},
   "source": [
    "### Task\n",
    "Consider the list country = [ 'US', 'France', 'Mexico'], as well as the list of the capitals of each of these countries.  Put this information into a dictionary with countries as keys and capitals as values by iterating over two lists and using the zip() function."
   ]
  },
  {
   "cell_type": "markdown",
   "id": "a55fcbd7",
   "metadata": {},
   "source": [
    "### Solution\n"
   ]
  },
  {
   "cell_type": "code",
   "execution_count": 18,
   "id": "34520ffd",
   "metadata": {},
   "outputs": [
    {
     "name": "stdout",
     "output_type": "stream",
     "text": [
      "{'US': 'Washington DC', 'France': 'Paris', 'Mexico': 'Mexico City'}\n"
     ]
    }
   ],
   "source": [
    "country = [ 'US', 'France', 'Mexico']\n",
    "capital = ['Washington DC', 'Paris', 'Mexico City']\n",
    "dict_cap = {i:j for i, j in zip(country, capital)}\n",
    "print(dict_cap)"
   ]
  },
  {
   "cell_type": "markdown",
   "id": "6c88a050",
   "metadata": {},
   "source": [
    "### Task\n",
    "The given dictionary consists of vehicles and their weights in kilograms. Contruct a list of the names of vehicles with weight below 5000 kilograms. In the same list comprehension make the key names all upper case.\n",
    "The dictionary is the following:\n",
    "dict={\"Sedan\": 1500, \"SUV\": 2000, \"Pickup\": 2500, \"Minivan\": 1600, \"Van\": 2400, \"Semi\": 13600, \"Bicycle\": 7, \"Motorcycle\": 110}\n"
   ]
  },
  {
   "cell_type": "markdown",
   "id": "f266829d",
   "metadata": {},
   "source": [
    "### Solution"
   ]
  },
  {
   "cell_type": "code",
   "execution_count": 24,
   "id": "72dc32d8",
   "metadata": {},
   "outputs": [
    {
     "name": "stdout",
     "output_type": "stream",
     "text": [
      "['SEDAN', 'SUV', 'PICKUP', 'MINIVAN', 'VAN', 'BICYCLE', 'MOTORCYCLE']\n"
     ]
    }
   ],
   "source": [
    "dict={\"Sedan\": 1500, \"SUV\": 2000, \"Pickup\": 2500, \"Minivan\": 1600, \"Van\": 2400, \"Semi\": 13600, \"Bicycle\": 7, \"Motorcycle\": 110}\n",
    "lst = [i.upper() for i in dict if dict[i]<5000]\n",
    "print(lst)"
   ]
  },
  {
   "cell_type": "markdown",
   "id": "c2d4f4f8",
   "metadata": {},
   "source": [
    "### Task (Main Course)\n",
    "Kaggle provides a data set scraped from metacritic.com which contains a list of the top video games from 1995-2021.  The data set contains a lot of information, but we will focus on creating a dictionary with the name of the video game as a key and the platform (e.g., Nintendo 64) as the value.  \n",
    "- Download the all_games.csv file provided by Kaggle here: https://www.kaggle.com/datasets/deepcontractor/top-video-games-19952021-metacritic.  Make sure this file is in the same directory as your Jupyter notebook or .py file or make sure you indicate the full file path when reading it.\n",
    "- Import the data set and save it to a variable all_games.\n",
    "- If you look at the CSV file, you might notice that there are some entries in the user_score column which are tbd (for \"to be determined\").  Later in the course we will learn to deal with and potentially replace this type of entry.  For this assignment, we will avoid using this column when it is problematic.\n",
    "- Create a dictionary with the video game name as a key and the platform as the value.  Print the first 5 values to verify the dictionary has been properly created.  (Note: it might be easiest to convert to a list and use slicing to print the first 5 values to verify.)\n",
    "- Each platform has an extra space before its name starts.  Remove it using the strip() method.  You can either do this with a for loop or with dictionary comprehension.  Recall that the method items() returns a view object. The view object contains the key-value pairs of the dictionary, as tuples in a list. \n",
    "- Create an empty list for each of the six variables in the data set (e.g., name, platform, date, etc.).  Populate the lists with the values from the respective column in the data set.  Hint: loop through your list and use the append() method.  Remember to remove the extra space that comes with the platform variable and convert the Metacritic score from a string to a float.\n",
    "- Now create a dictionary with game name and release year (note: the year, not the entire date).  The zip() function might be useful for this task.  You can do this with either a for loop or with dictionary comprehension.  Your choice!\n",
    "- Use this dictionary to determine the year that The Last of Us was released.\n",
    "- Video games have change a lot in the recent years.  Filter and create a dictionary of games released **after** 2018.  Hint: use an if conditional statement to apply a filter, and change the year from a string to an integer for your if statement.\n"
   ]
  },
  {
   "cell_type": "markdown",
   "id": "28bf44b2",
   "metadata": {},
   "source": [
    "### Solution\n"
   ]
  },
  {
   "cell_type": "code",
   "execution_count": 29,
   "id": "07747976",
   "metadata": {},
   "outputs": [
    {
     "data": {
      "text/plain": [
       "'/Users/kamilalarripa'"
      ]
     },
     "execution_count": 29,
     "metadata": {},
     "output_type": "execute_result"
    }
   ],
   "source": [
    "# change working directory if necessary\n",
    "# navigate to folder that contains CSV file\n",
    "import os\n",
    "os.getcwd( )"
   ]
  },
  {
   "cell_type": "code",
   "execution_count": 30,
   "id": "bb123b1f",
   "metadata": {},
   "outputs": [],
   "source": [
    "os.chdir('/Users/kamilalarripa/Desktop/Data 271/DictComprehension') "
   ]
  },
  {
   "cell_type": "code",
   "execution_count": 35,
   "id": "6ecd8059",
   "metadata": {},
   "outputs": [],
   "source": [
    "from csv import reader\n",
    "# Open and read the dataset\n",
    "all_games = open('all_games.csv')\n",
    "all_games = reader(all_games) # type is csv.reader\n",
    "all_games = list(all_games) # convert to list"
   ]
  },
  {
   "cell_type": "code",
   "execution_count": 39,
   "id": "e38e6077",
   "metadata": {
    "scrolled": false
   },
   "outputs": [
    {
     "name": "stdout",
     "output_type": "stream",
     "text": [
      "[['name', 'platform', 'release_date', 'summary', 'meta_score', 'user_review'], ['The Legend of Zelda: Ocarina of Time', ' Nintendo 64', 'November 23, 1998', 'As a young boy, Link is tricked by Ganondorf, the King of the Gerudo Thieves. The evil human uses Link to gain access to the Sacred Realm, where he places his tainted hands on Triforce and transforms the beautiful Hyrulean landscape into a barren wasteland. Link is determined to fix the problems he helped to create, so with the help of Rauru he travels through time gathering the powers of the Seven Sages.', '99', '9.1'], [\"Tony Hawk's Pro Skater 2\", ' PlayStation', 'September 20, 2000', \"As most major publishers' development efforts shift to any number of next-generation platforms, Tony Hawk 2 will likely stand as one of the last truly fantastic games to be released on the PlayStation.\", '98', '7.4'], ['Grand Theft Auto IV', ' PlayStation 3', 'April 29, 2008', '[Metacritic\\'s 2008 PS3 Game of the Year; Also known as \"GTA IV\"] What does the American Dream mean today? For Niko Belic, fresh off the boat from Europe. It\\'s the hope he can escape his past. For his cousin, Roman, it is the vision that together they can find fortune in Liberty City, gateway to the land of opportunity. As they slip into debt and are dragged into a criminal underworld by a series of shysters, thieves and sociopaths, they discover that the reality is very different from the dream in a city that worships money and status, and is heaven for those who have them an a living nightmare for those who don\\'t. [Rockstar Games]', '98', '7.7'], ['SoulCalibur', ' Dreamcast', 'September 8, 1999', \"This is a tale of souls and swords, transcending the world and all its history, told for all eternity... The greatest weapons-based fighter returns, this time on Sega Dreamcast. Soul Calibur unleashes incredible graphics, fantastic fighters, and combos so amazing they'll make your head spin!\", '98', '8.4']]\n"
     ]
    }
   ],
   "source": [
    "print(all_games[0:5]) # look at the first few entries"
   ]
  },
  {
   "cell_type": "markdown",
   "id": "51ced2fe",
   "metadata": {},
   "source": [
    "Notice that this is a list of a lists.  The first entry (list) contains the types of information contained in this data set."
   ]
  },
  {
   "cell_type": "code",
   "execution_count": 40,
   "id": "2f8eeca9",
   "metadata": {},
   "outputs": [
    {
     "name": "stdout",
     "output_type": "stream",
     "text": [
      "[('The Legend of Zelda: Ocarina of Time', ' Nintendo 64'), (\"Tony Hawk's Pro Skater 2\", ' Nintendo 64'), ('Grand Theft Auto IV', ' PC'), ('SoulCalibur', ' Xbox 360'), ('Super Mario Galaxy', ' Wii')]\n"
     ]
    }
   ],
   "source": [
    "# Dictionary to store video game platforms\n",
    "platform_dict = {}\n",
    "\n",
    "# Create dictionary of platforms\n",
    "for game in all_games[1:]:  # Do not include the header\n",
    "    name = game[0]\n",
    "    platform = game[1]\n",
    "    platform_dict[name] = platform\n",
    "\n",
    "# Print five items of the dictionary (need to transform it into a list before)\n",
    "#print(list(platform_dict.items())[:5])\n",
    "print(list(platform_dict.items())[:5])"
   ]
  },
  {
   "cell_type": "code",
   "execution_count": null,
   "id": "9c9f3896",
   "metadata": {},
   "outputs": [],
   "source": [
    "# using dictionary comprehension\n",
    "platform_dict = {name: platform.strip() for name, platform in platform_dict.items()}"
   ]
  },
  {
   "cell_type": "code",
   "execution_count": null,
   "id": "7ee057a7",
   "metadata": {},
   "outputs": [],
   "source": [
    "# alternatively, with a for loop\n",
    " Using a for loop\n",
    "for name, platform in platform_dict.items():\n",
    "    platform_dict[name] = platform.strip()"
   ]
  },
  {
   "cell_type": "code",
   "execution_count": 42,
   "id": "e6efe012",
   "metadata": {},
   "outputs": [],
   "source": [
    "# Initialize empty lists to store column values\n",
    "name = []\n",
    "platform = []\n",
    "date = []\n",
    "summary = []\n",
    "meta_score = []\n",
    "# we are not considering user_score because of the tbd entries, which can't be converted to a float\n",
    "\n",
    "# Iterate over columns and append values to lists\n",
    "for game in all_games[1:]: # we start at 1 instead of 0 to skip the header\n",
    "    name.append(game[0]) \n",
    "    platform.append(game[1].replace(\" \", \"\")) # eliminate extra space in front of platform\n",
    "    date.append(game[2])\n",
    "    summary.append(game[3])\n",
    "    meta_score.append(float(game[4])) # convert the string to a float\n",
    "   "
   ]
  },
  {
   "cell_type": "code",
   "execution_count": 44,
   "id": "9a29a2c5",
   "metadata": {},
   "outputs": [
    {
     "name": "stdout",
     "output_type": "stream",
     "text": [
      "The Last of Us was released in 2013.\n"
     ]
    }
   ],
   "source": [
    "# Dictionary to store dates\n",
    "year_dict = {}\n",
    "\n",
    "# Populate dictionary with game's names and release years\n",
    "for key, value in zip(name, date): # zip lets us iterate over several variables at the same time\n",
    "    year_dict[key] = value[-4:] # extract the year by taking the last 4 characters of the date\n",
    "\n",
    "# Print release year of The Last of Us\n",
    "print(f\"The Last of Us was released in {year_dict['The Last of Us']}.\")"
   ]
  },
  {
   "cell_type": "code",
   "execution_count": 45,
   "id": "3e40892d",
   "metadata": {},
   "outputs": [
    {
     "name": "stdout",
     "output_type": "stream",
     "text": [
      "The Last of Us was released in 2013.\n"
     ]
    }
   ],
   "source": [
    "# Alternatively, with dictionary comprehension create a dictionary for name and year\n",
    "\n",
    "year_dict = {key: value[-4:] for key, value in zip(name, date)} # keep key the same, change value to year\n",
    "\n",
    "# Print release year of The Last of Us\n",
    "print(f\"The Last of Us was released in {year_dict['The Last of Us']}.\")"
   ]
  },
  {
   "cell_type": "code",
   "execution_count": 46,
   "id": "0da5fd02",
   "metadata": {},
   "outputs": [
    {
     "name": "stdout",
     "output_type": "stream",
     "text": [
      "[('Disco Elysium: The Final Cut', '2021'), ('The House in Fata Morgana - Dreams of the Revenants Edition -', '2021'), ('Persona 5 Royal', '2020'), ('Tetris Effect: Connected', '2020'), ('The Last of Us Part II', '2020')]\n"
     ]
    }
   ],
   "source": [
    "# Video games released after 2018\n",
    "after_2018 = {key: value[-4:] for key, value in zip(name, date) if int(value[-4:]) > 2018}\n",
    "\n",
    "# Print the first five items of the dictionary\n",
    "print(list(after_2018.items())[:5])"
   ]
  },
  {
   "cell_type": "markdown",
   "id": "aea57a00",
   "metadata": {},
   "source": [
    "### Task (Dessert)\n",
    "In a previous assignment, we used a dictionary to represent word frequency in the first chapter of Jane Austen's Pride and Predjudice.  This code was likely written with a for loop to populate the values in the dictionary by looping through words.  Specifically, for each word in the text, we look to see if the word is already in the dictionary.  If it is not, we put it in the dictionary (as the key) with a count value of 1 (as the value).  If the word is already in the dictionary, we update its count value by 1, and then keep reading.  This task can also be accomplished using dictionary comprehension rather than a for loop.  \n",
    "\n",
    "For the following poem, which word appears three times?  Which words appear two times?  You can check your code by counting yourself, but turn in a solution that uses dictionary comprehension.\n"
   ]
  },
  {
   "cell_type": "markdown",
   "id": "d034db7e",
   "metadata": {},
   "source": [
    "### Solution"
   ]
  },
  {
   "cell_type": "code",
   "execution_count": 53,
   "id": "567cb22f",
   "metadata": {},
   "outputs": [
    {
     "name": "stdout",
     "output_type": "stream",
     "text": [
      "{'I': 3, 'never': 2, 'saw': 1, 'a': 1, 'Purple': 1, 'Cow,': 1, 'hope': 1, 'to': 1, 'see': 2, 'one;': 1, 'But': 1, 'can': 1, 'tell': 1, 'you,': 1, 'anyhow,': 1, \"I'd\": 1, 'rather': 1, 'than': 1, 'be': 1, 'one.': 1}\n"
     ]
    }
   ],
   "source": [
    "# Poem by Gelett Burgess\n",
    "quote = \"\"\"I never saw a Purple Cow, I never hope to see one; But I can tell you, anyhow, I'd rather see than be one.\"\"\"\n",
    "\n",
    "# Count frequency of words in the quote\n",
    "frequency_dict = {word: quote.split(\" \").count(word) for word in quote.split(\" \")}\n",
    "\n",
    "print(frequency_dict)"
   ]
  },
  {
   "cell_type": "code",
   "execution_count": 55,
   "id": "0cb06af2",
   "metadata": {},
   "outputs": [
    {
     "name": "stdout",
     "output_type": "stream",
     "text": [
      "[('I', 3), ('never', 2), ('see', 2), ('saw', 1), ('a', 1), ('Purple', 1), ('Cow,', 1), ('hope', 1), ('to', 1), ('one;', 1), ('But', 1), ('can', 1), ('tell', 1), ('you,', 1), ('anyhow,', 1), (\"I'd\", 1), ('rather', 1), ('than', 1), ('be', 1), ('one.', 1)]\n"
     ]
    }
   ],
   "source": [
    "# sort the dictionary based on descending frequency of count\n",
    "top_words = sorted(frequency_dict.items(), key=lambda x: x[1], reverse=True) # sort words based on frequency as key value, and return with highest frequency first\n",
    "print(top_words)"
   ]
  },
  {
   "cell_type": "markdown",
   "id": "53d77d1c",
   "metadata": {},
   "source": [
    "### References\n",
    "- Dataquest Tutorial: https://www.dataquest.io/blog/python-dictionary-comprehension-tutorial/\n",
    "- Datacamp List Comprehension Tutorial: https://www.datacamp.com/tutorial/python-list-comprehension\n",
    "- Datacamp Dictionary Comprehension Tutorial: https://www.datacamp.com/tutorial/python-dictionary-comprehension\n",
    "- Kaggle data set: https://www.kaggle.com/datasets/deepcontractor/top-video-games-19952021-metacritic\n",
    "- Purple Cow poem by Gelett Burgess: https://poets.org/poem/purple-cow"
   ]
  }
 ],
 "metadata": {
  "kernelspec": {
   "display_name": "Python 3 (ipykernel)",
   "language": "python",
   "name": "python3"
  },
  "language_info": {
   "codemirror_mode": {
    "name": "ipython",
    "version": 3
   },
   "file_extension": ".py",
   "mimetype": "text/x-python",
   "name": "python",
   "nbconvert_exporter": "python",
   "pygments_lexer": "ipython3",
   "version": "3.9.13"
  }
 },
 "nbformat": 4,
 "nbformat_minor": 5
}
